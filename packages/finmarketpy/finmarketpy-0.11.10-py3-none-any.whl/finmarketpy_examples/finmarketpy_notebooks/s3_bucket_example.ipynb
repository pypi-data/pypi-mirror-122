{
 "cells": [
  {
   "cell_type": "markdown",
   "id": "162f2992",
   "metadata": {},
   "source": [
    "# Using AWS S3 to read/write market data with findatapy\n",
    "\n",
    "May 2021 - Saeed Amen - https://www.cuemacro.com - saeed@cuemacro.com"
   ]
  },
  {
   "cell_type": "markdown",
   "id": "6e40aec8",
   "metadata": {},
   "source": [
    "## What is S3?\n",
    "\n",
    "S3 is basically storage in the cloud, which is managed by AWS. Dump as much data as want from anywhere on the web and you don't need to worry about scaling your storage, which you'd obviously have to do in your own data centre, and also manage backups. Data is stored in S3 buckets, which are a bit like folders. Google Cloud Storage (GCS) is the equivalent on Google Cloud and Azure Blob is a similar service on Azure."
   ]
  },
  {
   "cell_type": "markdown",
   "id": "28e008be",
   "metadata": {},
   "source": [
    "## What is the cost of S3?\n",
    "There are many other AWS storage services which you can find at https://aws.amazon.com/products/storage/, which are at different price levels and performance too. It is important to use the right services for storage which have the right performance cost balance for your specific use cases.\n",
    "\n",
    "The cost of S3 depends upon factors like:\n",
    "\n",
    "* how much data you store?\n",
    "* which service you use (are you using S3 Standard Storage for example, or S3 Infrequent Access Storage)?\n",
    "* how many requests you make for the data (PUT/GET etc.)?\n",
    "* which region is it in?\n",
    "* how much data you transfer from S3 out to the internet?\n",
    "\n",
    "An article on cloudhealthtech.com goes through the various ins and outs of the pricing at https://www.cloudhealthtech.com/blog/s3-cost-aws-cloud-storage-costs-explained. They note that the storage cost for Standard S3 (Nov 2020) is around 0.021 to 0.026 USD per month per GB. So for 1 TB that's around 21-26 USD per month, roughly under 300 USD per year. This excludes any of the various request costs for example, which you need to take into account. The actual cost of a hardware is a lot cheaper (a quick browse of 1 TB drives online, suggested a cost of around 50 USD), but if we manage our own hardware, we need to take into hassle of managing it, including stuff like backup, convenience of access etc. The cost of losing data is likely to be significant if we choose to host our data locally."
   ]
  },
  {
   "cell_type": "markdown",
   "id": "f9fa93a3",
   "metadata": {},
   "source": [
    "## Making AWS accessible via Python\n",
    "\n",
    "Given that S3 is in the cloud, we need to make sure that AWS services need to be accessible from Python, whether we are running our process in the cloud (which seems preferable to reduce latency) or locally. Whilst we are using Python, S3 is also accessible from many other languages.\n",
    "\n",
    "* Hence, before going through this tutorial, you'll need to go through several steps so AWS services are accessible from your machine\n",
    "    * You'll need to create an IAM user, with appropriate permissions at https://console.aws.amazon.com/iam when you are logged into the AWS Console\n",
    "        * In our case this will to have permissions to use S3\n",
    "        * Get the Access key ID and secret access key for the IAM user\n",
    "        * If you want to make S3 accessible to users outside of your AWS account, I found this explanation at https://stackoverflow.com/questions/45336781/amazon-s3-access-for-other-aws-accounts\n",
    "        * Before changing any access rights to S3, I'd strongly recommend reading https://aws.amazon.com/s3/security/ which explains the various security mechanisms including being able to block any public access at all\n",
    "    * Install AWS CLI\n",
    "        * run `sudo apt install awscli`\n",
    "        * or you can download the zip file\n",
    "        * run `aws configure` to set the default access key ID, default AWS availability zone etc.\n",
    "        * this will create files in ~/.aws/credentials and ~/.aws/config\n",
    "    * AWS CLI instructions at https://docs.aws.amazon.com/cli/latest/userguide/install-cliv2-linux.html#cliv2-linux-install\n",
    "\n",
    "* Once your  credentials are set, we can use boto3, which is an SDK for Python developers to access AWS resources:\n",
    "    * `boto3` instructions https://boto3.amazonaws.com/v1/documentation/api/latest/index.html\n",
    "    * You can install `boto3` using pip\n",
    "    * You also need to install `s3fs` using pip to get access to S3 via Python\n",
    "    * If you follow the instructions at https://github.com/cuemacro/teaching/blob/master/pythoncourse/installation/installing_anaconda_and_pycharm.ipynb - you'll create a conda environment `py38class` which includes boto3, and many useful data science libraries, which I use for my Python teaching\n",
    "    * You may need to install the latest version of findatapy from GitHub using `pip install git+https://github.com/cuemacro/findatapy.git` to run the code below."
   ]
  },
  {
   "cell_type": "markdown",
   "id": "1262ae49",
   "metadata": {},
   "source": [
    "## Creating your bucket on S3\n",
    "\n",
    "You can create your S3 bucket using AWS CLI (see https://docs.aws.amazon.com/cli/latest/reference/s3api/create-bucket.html). In the below example we create our bucket called `my-bucket` in the AWS region `us-east-1`\n",
    "\n",
    "`aws s3api create-bucket --bucket my-bucket --region us-east-1`\n",
    "\n",
    "Alternatively, you can also create it via the web GUI at https://s3.console.aws.amazon.com/s3/"
   ]
  },
  {
   "cell_type": "markdown",
   "id": "a5fdbc2e",
   "metadata": {},
   "source": [
    "## Using S3 with findatapy to store tick market data from Dukascopy\n",
    "\n",
    "In this notebook I'm going to show how to use S3 to easily store market data using findatapy. We are assuming that we have already setup AWS CLI with our credentials such as our access key ID etc.\n",
    "\n",
    "As a first step let's download some tick data from Dukascopy for EURUSD spot, which is a free data source using findatapy. Findatapy provides a uniform wrapper to download from many different data sources. We can predefine ticker mappings from our own nicknames for tickers to the vendor tickers. It already comes out of the box, with Dukascopy ticker mappings predefined, but these are all customisable. Note, that we haven't used the `data_engine` property. If this isn't set, then findatapy will download from our data source directly."
   ]
  },
  {
   "cell_type": "code",
   "execution_count": 5,
   "id": "83382f0e",
   "metadata": {
    "ExecuteTime": {
     "end_time": "2021-05-28T16:52:44.326580Z",
     "start_time": "2021-05-28T16:52:44.315944Z"
    }
   },
   "outputs": [],
   "source": [
    "# First disable the log so the output is neater\n",
    "import logging, sys\n",
    "logging.disable(sys.maxsize)"
   ]
  },
  {
   "cell_type": "code",
   "execution_count": 13,
   "id": "770847e8",
   "metadata": {
    "ExecuteTime": {
     "end_time": "2021-05-28T17:00:49.334500Z",
     "start_time": "2021-05-28T17:00:47.422742Z"
    }
   },
   "outputs": [],
   "source": [
    "from findatapy.market import Market, MarketDataRequest\n",
    "\n",
    "# In this case we are saving predefined tick tickers to disk, and then reading back\n",
    "from findatapy.market.ioengine import IOEngine\n",
    "\n",
    "md_request = MarketDataRequest(\n",
    "    start_date='04 Jan 2021',\n",
    "    finish_date='05 Jan 2021',\n",
    "    category='fx',\n",
    "    data_source='dukascopy',\n",
    "    freq='tick',\n",
    "    tickers=['EURUSD'],\n",
    "    fields=['bid', 'ask', 'bidv', 'askv'],\n",
    "    data_engine=None\n",
    ")\n",
    "\n",
    "market = Market()\n",
    "\n",
    "df = market.fetch_market(md_request=md_request)"
   ]
  },
  {
   "cell_type": "markdown",
   "id": "af404bea",
   "metadata": {},
   "source": [
    "Let's print the output..."
   ]
  },
  {
   "cell_type": "code",
   "execution_count": 10,
   "id": "4439bbb0",
   "metadata": {
    "ExecuteTime": {
     "end_time": "2021-05-28T16:53:14.079765Z",
     "start_time": "2021-05-28T16:53:14.059764Z"
    }
   },
   "outputs": [
    {
     "name": "stdout",
     "output_type": "stream",
     "text": [
      "                                  EURUSD.bid  EURUSD.ask  EURUSD.bidv  \\\n",
      "Date                                                                    \n",
      "2021-01-04 00:00:00.401000+00:00     1.22499     1.22503         1.12   \n",
      "2021-01-04 00:00:00.604000+00:00     1.22499     1.22502         0.75   \n",
      "2021-01-04 00:00:00.706000+00:00     1.22496     1.22499         0.75   \n",
      "2021-01-04 00:00:00.807000+00:00     1.22495     1.22498         1.12   \n",
      "2021-01-04 00:00:00.909000+00:00     1.22494     1.22498         0.75   \n",
      "...                                      ...         ...          ...   \n",
      "2021-01-04 23:59:28.697000+00:00     1.22524     1.22527         0.75   \n",
      "2021-01-04 23:59:28.798000+00:00     1.22524     1.22529         2.51   \n",
      "2021-01-04 23:59:29.628000+00:00     1.22525     1.22530         0.75   \n",
      "2021-01-04 23:59:44.365000+00:00     1.22525     1.22529         0.75   \n",
      "2021-01-04 23:59:47.099000+00:00     1.22525     1.22530         0.75   \n",
      "\n",
      "                                  EURUSD.askv  \n",
      "Date                                           \n",
      "2021-01-04 00:00:00.401000+00:00         1.57  \n",
      "2021-01-04 00:00:00.604000+00:00         0.10  \n",
      "2021-01-04 00:00:00.706000+00:00         0.75  \n",
      "2021-01-04 00:00:00.807000+00:00         0.94  \n",
      "2021-01-04 00:00:00.909000+00:00         0.64  \n",
      "...                                       ...  \n",
      "2021-01-04 23:59:28.697000+00:00         4.57  \n",
      "2021-01-04 23:59:28.798000+00:00         3.75  \n",
      "2021-01-04 23:59:29.628000+00:00         4.95  \n",
      "2021-01-04 23:59:44.365000+00:00         3.00  \n",
      "2021-01-04 23:59:47.099000+00:00         2.51  \n",
      "\n",
      "[109520 rows x 4 columns]\n"
     ]
    }
   ],
   "source": [
    "print(df)"
   ]
  },
  {
   "cell_type": "markdown",
   "id": "84a67da9",
   "metadata": {},
   "source": [
    "Let's type in our S3 bucket address, which you'll need to change below. Note the use of `s3://` at the start of the expression."
   ]
  },
  {
   "cell_type": "code",
   "execution_count": 11,
   "id": "d4799aa0",
   "metadata": {
    "ExecuteTime": {
     "end_time": "2021-05-28T16:53:46.445391Z",
     "start_time": "2021-05-28T16:53:46.437390Z"
    }
   },
   "outputs": [],
   "source": [
    "folder = 's3://my-bucket'"
   ]
  },
  {
   "cell_type": "markdown",
   "id": "c7afdc1c",
   "metadata": {},
   "source": [
    "We can write our tick data DataFrame in Parquet format. We can give it the `MarketDataRequest` we used for fetching the data, which basically creates the filename in the format of `environment.category.data_source.freq.tickers` for high frequency data or in the format of `environment.category.data_source.freq` for daily data. This will enable us to more easily fetch the data using the same `MarketDataRequest` interface.\n",
    "\n",
    "In this case, the filename of the Parquet file is:\n",
    "\n",
    "* `s3://bla_bla_bla/backtest.fx.tick.dukascopy.NYC.EURUSD.parquet`\n",
    "* ie. the environment of our data is `backtest`\n",
    "* the `category` is `fx`\n",
    "* the `data_source` is `dukascopy`\n",
    "* the `freq` is `tick`\n",
    "* the `cut` (or time of close) is `NYC`\n",
    "* the `tickers` is `EURUSD`\n",
    "\n",
    "The Jupyter notebook [market_data_example.ipynb](../market_data_example.ipynb) explains in more detail this ticker format and the concept of a `MarketDataRequest`. We dump it disk using the `IOEngine` class. Note that the `write_time_series_cache_to_disk` and `read_time_series_from_disk` reads/writes from S3 in exactly the same way as we would do locally. We need to make sure that when we're writing to disk, we have a data licence to do so (and this will clearly vary between data vendors), and in particular, that only those who read from the disk are authorised to use that data."
   ]
  },
  {
   "cell_type": "code",
   "execution_count": 19,
   "id": "9814533b",
   "metadata": {
    "ExecuteTime": {
     "end_time": "2021-05-28T17:04:58.863034Z",
     "start_time": "2021-05-28T17:04:57.866902Z"
    }
   },
   "outputs": [],
   "source": [
    "IOEngine().write_time_series_cache_to_disk(folder, df, engine='parquet', md_request=md_request)"
   ]
  },
  {
   "cell_type": "markdown",
   "id": "50054605",
   "metadata": {},
   "source": [
    "We could fetch the data directly using the S3 filename ie."
   ]
  },
  {
   "cell_type": "code",
   "execution_count": 21,
   "id": "13d26b1d",
   "metadata": {
    "ExecuteTime": {
     "end_time": "2021-05-28T17:05:08.335400Z",
     "start_time": "2021-05-28T17:05:07.224658Z"
    }
   },
   "outputs": [
    {
     "name": "stdout",
     "output_type": "stream",
     "text": [
      "                                  EURUSD.bid  EURUSD.ask  EURUSD.bidv  \\\n",
      "Date                                                                    \n",
      "2021-01-04 00:00:00.401000+00:00     1.22499     1.22503         1.12   \n",
      "2021-01-04 00:00:00.604000+00:00     1.22499     1.22502         0.75   \n",
      "2021-01-04 00:00:00.706000+00:00     1.22496     1.22499         0.75   \n",
      "2021-01-04 00:00:00.807000+00:00     1.22495     1.22498         1.12   \n",
      "2021-01-04 00:00:00.909000+00:00     1.22494     1.22498         0.75   \n",
      "...                                      ...         ...          ...   \n",
      "2021-01-04 23:59:28.697000+00:00     1.22524     1.22527         0.75   \n",
      "2021-01-04 23:59:28.798000+00:00     1.22524     1.22529         2.51   \n",
      "2021-01-04 23:59:29.628000+00:00     1.22525     1.22530         0.75   \n",
      "2021-01-04 23:59:44.365000+00:00     1.22525     1.22529         0.75   \n",
      "2021-01-04 23:59:47.099000+00:00     1.22525     1.22530         0.75   \n",
      "\n",
      "                                  EURUSD.askv  \n",
      "Date                                           \n",
      "2021-01-04 00:00:00.401000+00:00         1.57  \n",
      "2021-01-04 00:00:00.604000+00:00         0.10  \n",
      "2021-01-04 00:00:00.706000+00:00         0.75  \n",
      "2021-01-04 00:00:00.807000+00:00         0.94  \n",
      "2021-01-04 00:00:00.909000+00:00         0.64  \n",
      "...                                       ...  \n",
      "2021-01-04 23:59:28.697000+00:00         4.57  \n",
      "2021-01-04 23:59:28.798000+00:00         3.75  \n",
      "2021-01-04 23:59:29.628000+00:00         4.95  \n",
      "2021-01-04 23:59:44.365000+00:00         3.00  \n",
      "2021-01-04 23:59:47.099000+00:00         2.51  \n",
      "\n",
      "[109520 rows x 4 columns]\n"
     ]
    }
   ],
   "source": [
    "s3_filename = folder + '/backtest.fx.dukascopy.tick.NYC.EURUSD.parquet' \n",
    "df = IOEngine().read_time_series_cache_from_disk(s3_filename, engine='parquet')\n",
    "\n",
    "print(df)"
   ]
  },
  {
   "cell_type": "markdown",
   "id": "b675e075",
   "metadata": {},
   "source": [
    "But it is more convenient to simply use the `MarketDataRequest` object we populated earlier. But in order to make it fetch from S3 instead of Dukascopy, we just need to set the `data_engine` property to give it the path of the S3 bucket and the postfix `/*.parquet`."
   ]
  },
  {
   "cell_type": "code",
   "execution_count": 23,
   "id": "4a26b583",
   "metadata": {
    "ExecuteTime": {
     "end_time": "2021-05-28T17:06:09.261875Z",
     "start_time": "2021-05-28T17:06:08.538408Z"
    }
   },
   "outputs": [
    {
     "name": "stdout",
     "output_type": "stream",
     "text": [
      "                                  EURUSD.bid  EURUSD.ask  EURUSD.bidv  \\\n",
      "Date                                                                    \n",
      "2021-01-04 00:00:00.401000+00:00     1.22499     1.22503         1.12   \n",
      "2021-01-04 00:00:00.604000+00:00     1.22499     1.22502         0.75   \n",
      "2021-01-04 00:00:00.706000+00:00     1.22496     1.22499         0.75   \n",
      "2021-01-04 00:00:00.807000+00:00     1.22495     1.22498         1.12   \n",
      "2021-01-04 00:00:00.909000+00:00     1.22494     1.22498         0.75   \n",
      "...                                      ...         ...          ...   \n",
      "2021-01-04 23:59:28.697000+00:00     1.22524     1.22527         0.75   \n",
      "2021-01-04 23:59:28.798000+00:00     1.22524     1.22529         2.51   \n",
      "2021-01-04 23:59:29.628000+00:00     1.22525     1.22530         0.75   \n",
      "2021-01-04 23:59:44.365000+00:00     1.22525     1.22529         0.75   \n",
      "2021-01-04 23:59:47.099000+00:00     1.22525     1.22530         0.75   \n",
      "\n",
      "                                  EURUSD.askv  \n",
      "Date                                           \n",
      "2021-01-04 00:00:00.401000+00:00         1.57  \n",
      "2021-01-04 00:00:00.604000+00:00         0.10  \n",
      "2021-01-04 00:00:00.706000+00:00         0.75  \n",
      "2021-01-04 00:00:00.807000+00:00         0.94  \n",
      "2021-01-04 00:00:00.909000+00:00         0.64  \n",
      "...                                       ...  \n",
      "2021-01-04 23:59:28.697000+00:00         4.57  \n",
      "2021-01-04 23:59:28.798000+00:00         3.75  \n",
      "2021-01-04 23:59:29.628000+00:00         4.95  \n",
      "2021-01-04 23:59:44.365000+00:00         3.00  \n",
      "2021-01-04 23:59:47.099000+00:00         2.51  \n",
      "\n",
      "[109520 rows x 4 columns]\n"
     ]
    }
   ],
   "source": [
    "md_request.data_engine = folder + '/*.parquet'\n",
    "\n",
    "df = market.fetch_market(md_request)\n",
    "\n",
    "print(df)"
   ]
  },
  {
   "cell_type": "markdown",
   "id": "73e86e31",
   "metadata": {},
   "source": [
    "It should be noted there are many other ways to dump and read Parquet files from S3. We can use `pandas.read_parquet` to directly read Parquet files from S3. Libraries like Dask also support reading Parquet directly from S3 too. I'd also checkout AWS Data Wrangler, which makes it easier to use Pandas with many AWS services including S3, at https://github.com/awslabs/aws-data-wrangler"
   ]
  },
  {
   "cell_type": "markdown",
   "id": "f171d801",
   "metadata": {},
   "source": [
    "## Using S3 with findatapy to store daily market data from Quandl\n",
    "\n",
    "In this case we are downloading all G10 FX crosses from Quandl, which are predefined as `fx.quandl.daily.NYC` where our \n",
    "* `category` is `fx`\n",
    "* `data_source` is `quandl`\n",
    "* `freq` is `daily`\n",
    "* `cut` is `NYC`\n",
    "\n",
    "Unlike in the previous where we specified the `MarketDataRequest` in full, here we just use the above string as shorthand, and we set the `quandl_api_key` using the `MarketDataRequest` and also the `start_date`. If we have Redis running locally (which is an in memory cache), this DataFrame will also be cached in our Redis instance. We'll show how to take advantage of this cache later. If Redis is not installed, it's not a big deal, it just means the cache won't be operational. Hence, doing repeated `MarketDataRequest` calls will end up taking longer, as findatapy will seek to get the data from the data vendor directly."
   ]
  },
  {
   "cell_type": "code",
   "execution_count": 66,
   "id": "a720a941",
   "metadata": {
    "ExecuteTime": {
     "end_time": "2021-05-28T17:36:54.334131Z",
     "start_time": "2021-05-28T17:36:54.324127Z"
    }
   },
   "outputs": [],
   "source": [
    "import os\n",
    "from findatapy.market import Market, MarketDataRequest\n",
    "\n",
    "# In this case we are saving predefined tick tickers to disk, and then reading back\n",
    "from findatapy.market.ioengine import IOEngine\n",
    "\n",
    "# Change this to your own Quandl API key\n",
    "quandl_api_key = os.environ['QUANDL_API_KEY']\n",
    "\n",
    "md_request = market.create_md_request_from_str(md_request_str='fx.quandl.daily.NYC', \n",
    "    md_request=MarketDataRequest(start_date='01 Jan 2021', finish_date='27 May 2021', quandl_api_key=quandl_api_key))"
   ]
  },
  {
   "cell_type": "markdown",
   "id": "038b26d3",
   "metadata": {},
   "source": [
    "We can print out the `MarketDataRequest` we just constructed. We should be able to see there `quandl` for the `data_source` and `fx` for the `category`, as well as the `start_date` (realise it's difficult!)"
   ]
  },
  {
   "cell_type": "code",
   "execution_count": 67,
   "id": "f84bdb40",
   "metadata": {
    "ExecuteTime": {
     "end_time": "2021-05-28T17:36:55.176279Z",
     "start_time": "2021-05-28T17:36:55.172274Z"
    }
   },
   "outputs": [
    {
     "name": "stdout",
     "output_type": "stream",
     "text": [
      "MarketDataRequest summary - MarketDataRequest_760__abstract_curve_key-None__base_depos_currencies-EUR_GBP_AUD_NZD_USD_CAD_CHF_NOK_SEK_JPY__base_depos_tenor-ON_TN_SN_1W_2W_3W_1M_2M_3M_4M_6M_9M_1Y_2Y_3Y_5Y__category-fx__category_key-backtest.fx.quandl.daily.NYC__cut-NYC__data_engine-None__data_source-quandl__environment-backtest__expiry_date-NaT__fields-close__finish_date-2021-05-27 00:00:00__freeform_md_request-{}__freq-daily__freq_mult-1__fx_forwards_tenor-ON_TN_SN_1W_2W_3W_1M_2M_3M_4M_6M_9M_1Y_2Y_3Y_5Y__fx_vol_part-V_25R_10R_25B_10B__fx_vol_tenor-ON_1W_2W_3W_1M_2M_3M_4M_6M_9M_1Y_2Y_3Y_5Y__gran_freq-None__list_threads-1__push_to_cache-True__resample-None__resample_how-last__split_request_chunks-0__start_date-2021-01-01 00:00:00__tickers-None__trade_side-trade__vendor_fields-None__vendor_tickers-None_df\n"
     ]
    }
   ],
   "source": [
    "print(md_request)"
   ]
  },
  {
   "cell_type": "markdown",
   "id": "607c40e6",
   "metadata": {},
   "source": [
    "We can now fetch the market data from `quandl`."
   ]
  },
  {
   "cell_type": "code",
   "execution_count": 68,
   "id": "b3b9acb2",
   "metadata": {
    "ExecuteTime": {
     "end_time": "2021-05-28T17:36:57.173504Z",
     "start_time": "2021-05-28T17:36:56.184633Z"
    }
   },
   "outputs": [
    {
     "name": "stdout",
     "output_type": "stream",
     "text": [
      "            EURUSD.close  GBPUSD.close  AUDUSD.close  NZDUSD.close  \\\n",
      "Date                                                                 \n",
      "2021-01-04        1.2254        1.3551        0.7657        0.7164   \n",
      "2021-01-05        1.2295        1.3620        0.7752        0.7242   \n",
      "2021-01-06        1.2290        1.3593        0.7787        0.7281   \n",
      "2021-01-07        1.2265        1.3551        0.7755        0.7249   \n",
      "2021-01-08        1.2252        1.3583        0.7778        0.7252   \n",
      "...                  ...           ...           ...           ...   \n",
      "2021-05-17        1.2155        1.4127        0.7765        0.7212   \n",
      "2021-05-18        1.2203        1.4184        0.7782        0.7239   \n",
      "2021-05-19        1.2216        1.4169        0.7753        0.7187   \n",
      "2021-05-20        1.2225        1.4182        0.7780        0.7212   \n",
      "2021-05-21        1.2178        1.4158        0.7731        0.7165   \n",
      "\n",
      "            USDCAD.close  USDCHF.close  USDNOK.close  USDSEK.close  \\\n",
      "Date                                                                 \n",
      "2021-01-04        1.2781        0.8811        8.5660        8.2486   \n",
      "2021-01-05        1.2700        0.8784        8.4901        8.1856   \n",
      "2021-01-06        1.2685        0.8810        8.4206        8.1855   \n",
      "2021-01-07        1.2720        0.8841        8.4384        8.1992   \n",
      "2021-01-08        1.2698        0.8843        8.4074        8.2085   \n",
      "...                  ...           ...           ...           ...   \n",
      "2021-05-17        1.2073        0.9016        8.2655        8.3312   \n",
      "2021-05-18        1.2061        0.8986        8.2179        8.2972   \n",
      "2021-05-19        1.2089        0.9003        8.2839        8.3250   \n",
      "2021-05-20        1.2049        0.8985        8.2933        8.2983   \n",
      "2021-05-21        1.2072        0.8987        8.3992        8.3251   \n",
      "\n",
      "            USDJPY.close  \n",
      "Date                      \n",
      "2021-01-04    103.190002  \n",
      "2021-01-05    102.699997  \n",
      "2021-01-06    103.250000  \n",
      "2021-01-07    103.839996  \n",
      "2021-01-08    103.889999  \n",
      "...                  ...  \n",
      "2021-05-17    109.169998  \n",
      "2021-05-18    109.010002  \n",
      "2021-05-19    108.760002  \n",
      "2021-05-20    108.790001  \n",
      "2021-05-21    108.940002  \n",
      "\n",
      "[97 rows x 9 columns]\n"
     ]
    }
   ],
   "source": [
    "df = market.fetch_market(md_request)\n",
    "\n",
    "print(df)"
   ]
  },
  {
   "cell_type": "markdown",
   "id": "dc8d19e6",
   "metadata": {},
   "source": [
    "Let's write this to S3."
   ]
  },
  {
   "cell_type": "code",
   "execution_count": 69,
   "id": "136154bf",
   "metadata": {
    "ExecuteTime": {
     "end_time": "2021-05-28T17:36:58.467027Z",
     "start_time": "2021-05-28T17:36:58.149858Z"
    }
   },
   "outputs": [],
   "source": [
    "IOEngine().write_time_series_cache_to_disk(folder, df, engine='parquet', md_request=md_request)"
   ]
  },
  {
   "cell_type": "markdown",
   "id": "6c6a6a33",
   "metadata": {},
   "source": [
    "And we can read it back using a similar call to before, except this time we set the `data_engine` property of the `MarketDataRequest`."
   ]
  },
  {
   "cell_type": "code",
   "execution_count": 70,
   "id": "77d4c57a",
   "metadata": {
    "ExecuteTime": {
     "end_time": "2021-05-28T17:36:59.822114Z",
     "start_time": "2021-05-28T17:36:59.199808Z"
    }
   },
   "outputs": [
    {
     "name": "stdout",
     "output_type": "stream",
     "text": [
      "            EURUSD.close  GBPUSD.close  AUDUSD.close  NZDUSD.close  \\\n",
      "Date                                                                 \n",
      "2021-01-04        1.2254        1.3551        0.7657        0.7164   \n",
      "2021-01-05        1.2295        1.3620        0.7752        0.7242   \n",
      "2021-01-06        1.2290        1.3593        0.7787        0.7281   \n",
      "2021-01-07        1.2265        1.3551        0.7755        0.7249   \n",
      "2021-01-08        1.2252        1.3583        0.7778        0.7252   \n",
      "...                  ...           ...           ...           ...   \n",
      "2021-05-17        1.2155        1.4127        0.7765        0.7212   \n",
      "2021-05-18        1.2203        1.4184        0.7782        0.7239   \n",
      "2021-05-19        1.2216        1.4169        0.7753        0.7187   \n",
      "2021-05-20        1.2225        1.4182        0.7780        0.7212   \n",
      "2021-05-21        1.2178        1.4158        0.7731        0.7165   \n",
      "\n",
      "            USDCAD.close  USDCHF.close  USDNOK.close  USDSEK.close  \\\n",
      "Date                                                                 \n",
      "2021-01-04        1.2781        0.8811        8.5660        8.2486   \n",
      "2021-01-05        1.2700        0.8784        8.4901        8.1856   \n",
      "2021-01-06        1.2685        0.8810        8.4206        8.1855   \n",
      "2021-01-07        1.2720        0.8841        8.4384        8.1992   \n",
      "2021-01-08        1.2698        0.8843        8.4074        8.2085   \n",
      "...                  ...           ...           ...           ...   \n",
      "2021-05-17        1.2073        0.9016        8.2655        8.3312   \n",
      "2021-05-18        1.2061        0.8986        8.2179        8.2972   \n",
      "2021-05-19        1.2089        0.9003        8.2839        8.3250   \n",
      "2021-05-20        1.2049        0.8985        8.2933        8.2983   \n",
      "2021-05-21        1.2072        0.8987        8.3992        8.3251   \n",
      "\n",
      "            USDJPY.close  \n",
      "Date                      \n",
      "2021-01-04    103.190002  \n",
      "2021-01-05    102.699997  \n",
      "2021-01-06    103.250000  \n",
      "2021-01-07    103.839996  \n",
      "2021-01-08    103.889999  \n",
      "...                  ...  \n",
      "2021-05-17    109.169998  \n",
      "2021-05-18    109.010002  \n",
      "2021-05-19    108.760002  \n",
      "2021-05-20    108.790001  \n",
      "2021-05-21    108.940002  \n",
      "\n",
      "[97 rows x 9 columns]\n"
     ]
    }
   ],
   "source": [
    "df = market.fetch_market(md_request_str='fx.quandl.daily.NYC', \n",
    "                         md_request=MarketDataRequest(start_date='01 Jan 2021', finish_date='27 May 2021',\n",
    "                                                      quandl_api_key=quandl_api_key,\n",
    "                                                     data_engine=folder + '/*.parquet'))\n",
    "\n",
    "print(df)"
   ]
  },
  {
   "cell_type": "markdown",
   "id": "54024559",
   "metadata": {},
   "source": [
    "If we set the `cache_algo` property to `cache_algo_return` and remove the `data_engine` parameter (and if we have had Redis running, and make exactly the same data requet call (same assets and dates), findatapy will look in the Redis cache locally to fetch the data. This is significantly quicker at around 20ms versus over 500ms for fetching from S3."
   ]
  },
  {
   "cell_type": "code",
   "execution_count": 71,
   "id": "77b94705",
   "metadata": {
    "ExecuteTime": {
     "end_time": "2021-05-28T17:37:01.205202Z",
     "start_time": "2021-05-28T17:37:01.179808Z"
    }
   },
   "outputs": [
    {
     "name": "stdout",
     "output_type": "stream",
     "text": [
      "            EURUSD.close  GBPUSD.close  AUDUSD.close  NZDUSD.close  \\\n",
      "Date                                                                 \n",
      "2021-01-04        1.2254        1.3551        0.7657        0.7164   \n",
      "2021-01-05        1.2295        1.3620        0.7752        0.7242   \n",
      "2021-01-06        1.2290        1.3593        0.7787        0.7281   \n",
      "2021-01-07        1.2265        1.3551        0.7755        0.7249   \n",
      "2021-01-08        1.2252        1.3583        0.7778        0.7252   \n",
      "...                  ...           ...           ...           ...   \n",
      "2021-05-17        1.2155        1.4127        0.7765        0.7212   \n",
      "2021-05-18        1.2203        1.4184        0.7782        0.7239   \n",
      "2021-05-19        1.2216        1.4169        0.7753        0.7187   \n",
      "2021-05-20        1.2225        1.4182        0.7780        0.7212   \n",
      "2021-05-21        1.2178        1.4158        0.7731        0.7165   \n",
      "\n",
      "            USDCAD.close  USDCHF.close  USDNOK.close  USDSEK.close  \\\n",
      "Date                                                                 \n",
      "2021-01-04        1.2781        0.8811        8.5660        8.2486   \n",
      "2021-01-05        1.2700        0.8784        8.4901        8.1856   \n",
      "2021-01-06        1.2685        0.8810        8.4206        8.1855   \n",
      "2021-01-07        1.2720        0.8841        8.4384        8.1992   \n",
      "2021-01-08        1.2698        0.8843        8.4074        8.2085   \n",
      "...                  ...           ...           ...           ...   \n",
      "2021-05-17        1.2073        0.9016        8.2655        8.3312   \n",
      "2021-05-18        1.2061        0.8986        8.2179        8.2972   \n",
      "2021-05-19        1.2089        0.9003        8.2839        8.3250   \n",
      "2021-05-20        1.2049        0.8985        8.2933        8.2983   \n",
      "2021-05-21        1.2072        0.8987        8.3992        8.3251   \n",
      "\n",
      "            USDJPY.close  \n",
      "Date                      \n",
      "2021-01-04    103.190002  \n",
      "2021-01-05    102.699997  \n",
      "2021-01-06    103.250000  \n",
      "2021-01-07    103.839996  \n",
      "2021-01-08    103.889999  \n",
      "...                  ...  \n",
      "2021-05-17    109.169998  \n",
      "2021-05-18    109.010002  \n",
      "2021-05-19    108.760002  \n",
      "2021-05-20    108.790001  \n",
      "2021-05-21    108.940002  \n",
      "\n",
      "[97 rows x 9 columns]\n"
     ]
    }
   ],
   "source": [
    "df = market.fetch_market(md_request_str='fx.quandl.daily.NYC', \n",
    "                         md_request=MarketDataRequest(start_date='01 Jan 2021', finish_date='27 May 2021',\n",
    "                                                      quandl_api_key=quandl_api_key,\n",
    "                                                      cache_algo='cache_algo_return'))\n",
    "\n",
    "print(df)"
   ]
  },
  {
   "cell_type": "markdown",
   "id": "01a78e5c",
   "metadata": {},
   "source": [
    "## Conclusion"
   ]
  },
  {
   "cell_type": "markdown",
   "id": "9ea19fb9",
   "metadata": {},
   "source": [
    "We have seen that it's pretty straightforward to store market data as Parquet files in S3 using findatapy. In particular, it makes it easy to use very similar `MarketDataRequest` calls we would use to fetch data from the `data_source` itself, as it is from S3 (or indeed from any local disk drive). We just need to be sure to set the `data_engine` property of the `MarketDataRequest`.\n",
    "\n",
    "We also briefly showed how to take advantage of in memory caching with Redis."
   ]
  }
 ],
 "metadata": {
  "kernelspec": {
   "display_name": "Python 3",
   "language": "python",
   "name": "python3"
  },
  "language_info": {
   "codemirror_mode": {
    "name": "ipython",
    "version": 3
   },
   "file_extension": ".py",
   "mimetype": "text/x-python",
   "name": "python",
   "nbconvert_exporter": "python",
   "pygments_lexer": "ipython3",
   "version": "3.8.8"
  },
  "toc": {
   "base_numbering": 1,
   "nav_menu": {},
   "number_sections": true,
   "sideBar": true,
   "skip_h1_title": false,
   "title_cell": "Table of Contents",
   "title_sidebar": "Contents",
   "toc_cell": false,
   "toc_position": {},
   "toc_section_display": true,
   "toc_window_display": false
  }
 },
 "nbformat": 4,
 "nbformat_minor": 5
}
