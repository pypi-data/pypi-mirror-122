{
  "nbformat": 4,
  "nbformat_minor": 0,
  "metadata": {
    "colab": {
      "name": "ZenML-QuickstartGuide.ipynb",
      "provenance": [],
      "collapsed_sections": []
    },
    "kernelspec": {
      "name": "python3",
      "display_name": "Python 3"
    },
    "language_info": {
      "name": "python"
    }
  },
  "cells": [
    {
      "cell_type": "markdown",
      "metadata": {
        "id": "RO_v5iIaYFi2"
      },
      "source": [
        "# ZenML Quickstart Guide\n",
        "\n",
        "Our goal here is to help you to get the first practical experience with our tool and give you a brief overview on some basic functionalities of ZenML.\n",
        "\n",
        "The quickest way to get started is to create a simple pipeline. We'll be using the [MNIST](http://yann.lecun.com/exdb/mnist/) dataset (originally developed by Yann LeCun and others) digits, and then later the [Fashion MNIST](https://github.com/zalandoresearch/fashion-mnist) dataset developed by Zalando.\n",
        "\n",
        "If you want to run this notebook in an interactive environment, feel free to run it in a Google Colab.\n",
        "\n",
        "## Purpose\n",
        "\n",
        "This quickstart guide is designed to provide a practical introduction to some of the main concepts and paradigms used by the ZenML framework. If you want more detail, our [full documentation](https://docs.zenml.io/) provides more on the concepts and how to implement them.\n",
        "\n",
        "## Using Google Colab\n",
        "\n",
        "You will want to use a GPU for this example. If you are following this quickstart in Google's Colab, follow these steps:\n",
        "\n",
        "- Before running anything, you need to tell Colab that you want to use a GPU. You can do this by clicking on the ‘Runtime’ tab and selecting ‘Change runtime type’. A pop-up window will open up with a drop-down menu.\n",
        "- Select ‘GPU’ from the menu and click ‘Save’.\n",
        "- It may ask if you want to restart the runtime. If so, go ahead and do that.\n",
        "\n",
        "<!-- The code for the MNIST training borrows heavily from [this](https://www.tensorflow.org/datasets/keras_example) -->"
      ]
    },
    {
      "cell_type": "markdown",
      "metadata": {
        "id": "VNLEesHEyjkg"
      },
      "source": [
        "## Install libraries"
      ]
    },
    {
      "cell_type": "code",
      "metadata": {
        "id": "x7l4qDgcI_5F"
      },
      "source": [
        "# Install the ZenML CLI tool and Tensorflow\n",
        "!pip install zenml tensorflow tensorflow_datasets"
      ],
      "execution_count": null,
      "outputs": []
    },
    {
      "cell_type": "markdown",
      "metadata": {
        "id": "T_RCPyaNzPy-"
      },
      "source": [
        "Once the installation is completed, you can go ahead and create your first ZenML repository for your project. As ZenML repositories are built on top of Git repositories, you can create yours in a desired empty directory through:"
      ]
    },
    {
      "cell_type": "code",
      "metadata": {
        "id": "-lcfE3l2zTU-"
      },
      "source": [
        "# Initialize a git repository\n",
        "!git init\n",
        "\n",
        "# Initialize ZenML's .zen file\n",
        "!zenml init"
      ],
      "execution_count": null,
      "outputs": []
    },
    {
      "cell_type": "markdown",
      "metadata": {
        "id": "yQE8PSXDzL-_"
      },
      "source": [
        "Now, the setup is completed. For the next steps, just make sure that you are executing the code within your ZenML repository."
      ]
    },
    {
      "cell_type": "markdown",
      "metadata": {
        "id": "izjbDO-6yrFM"
      },
      "source": [
        "## Import relevant packages"
      ]
    },
    {
      "cell_type": "markdown",
      "metadata": {
        "id": "2gtj5QKCnSj0"
      },
      "source": [
        "We will use pipelines and steps in to train our model."
      ]
    },
    {
      "cell_type": "code",
      "metadata": {
        "id": "LvFo9epOUE7G"
      },
      "source": [
        "from zenml import pipelines\n",
        "from zenml import steps\n",
        "\n",
        "import tensorflow as tf\n",
        "import numpy as np"
      ],
      "execution_count": null,
      "outputs": []
    },
    {
      "cell_type": "markdown",
      "metadata": {
        "id": "6UwqjAR2yvH_"
      },
      "source": [
        "## Define ZenML Steps"
      ]
    },
    {
      "cell_type": "markdown",
      "metadata": {
        "id": "5wHcI2FinX2O"
      },
      "source": [
        "In the code that follows, you can see that we are defining the various steps of our pipeline. Each step is decorated with `@steps.SimpleStep`, the main abstraction that is currently available for creating pipeline steps."
      ]
    },
    {
      "cell_type": "code",
      "metadata": {
        "id": "37mMICD_URDW"
      },
      "source": [
        "@step\n",
        "def ImportDataStep() -> List[np.array]:\n",
        "  \"\"\"Download the MNIST data store it as an artifact\"\"\"\n",
        "  (X_train, y_train), (X_test, y_test) = tf.keras.datasets.mnist.load_data()\n",
        "  return [X_train, X_test, y_train, y_test]\n",
        "\n",
        "@step\n",
        "def NormalizeDataStep(X_train: np.array, X_test: np.array) -> List[np.array]:\n",
        "  \"\"\"Normalize the values for all the images so they are between 0 and 1\"\"\"\n",
        "  return [X_train / 255.0, X_test / 255]\n",
        "\n",
        "@step\n",
        "def MNISTTrainModelStep(\n",
        "    X_train: np.array,\n",
        "    y_train: np.array,\n",
        "    model_artifact: Output[ModelArtifact]\n",
        "  ):\n",
        "  \"\"\"Train a neural net from scratch to recognise MNIST digits return our \n",
        "  model or the learner\"\"\"\n",
        "  model = tf.keras.models.Sequential([\n",
        "    tf.keras.layers.Flatten(input_shape=(28, 28)),\n",
        "    tf.keras.layers.Dense(128,activation='relu'),\n",
        "    tf.keras.layers.Dense(10)\n",
        "  ])\n",
        "\n",
        "  model.compile(\n",
        "      optimizer=tf.keras.optimizers.Adam(0.001),\n",
        "      loss=tf.keras.losses.SparseCategoricalCrossentropy(from_logits=True),\n",
        "      metrics=[tf.keras.metrics.SparseCategoricalAccuracy()],\n",
        "  )\n",
        "\n",
        "  model.fit(\n",
        "      train_data,\n",
        "      epochs=10,\n",
        "      validation_data=test_data,\n",
        "  )\n",
        "  \n",
        "  # write model\n",
        "  model_artifact.write(model)\n",
        "\n",
        "@step\n",
        "def EvaluateModelStep(\n",
        "    X_test: np.array,\n",
        "    y_test: np.array,\n",
        "    model_artifact: Input[ModelArtifact]) -> List[float]:\n",
        "  \"\"\"Calculate the loss for the model for each epoch in a graph\"\"\"\n",
        "  model = model_artifact.read()\n",
        "  test_loss, test_acc = model.evaluate(X_test,  y_test, verbose=2)\n",
        "  return [test_loss, test_acc]\n"
      ],
      "execution_count": null,
      "outputs": []
    },
    {
      "cell_type": "markdown",
      "metadata": {
        "id": "u_iZTIz8y7Cp"
      },
      "source": [
        "## Define ZenML Pipeline"
      ]
    },
    {
      "cell_type": "markdown",
      "metadata": {
        "id": "oKbU3WlbnoiA"
      },
      "source": [
        "A pipeline is defined with the `@pipelines.SimplePipeline` decorator. This defines the various steps of the pipeline and specifies the dependencies between the steps, thereby determining the order in which they will be run."
      ]
    },
    {
      "cell_type": "code",
      "metadata": {
        "id": "rm8SIrLFWenn"
      },
      "source": [
        "# Define the pipeline\n",
        "\n",
        "@pipelines.SimplePipeline\n",
        "def MNISTTrainingPipeline(\n",
        "    import_data: Step[ImportDataStep],\n",
        "    train_test_split: Step[TrainTestSplitStep],\n",
        "    normalize_data: Step[NormalizeDataStep],\n",
        "    trainer: Step[MNISTTrainModelStep],\n",
        "    evaluator: Step[EvaluateModelStep]):\n",
        "  # takes all the steps, in order\n",
        "  # runs them on the local machine"
      ],
      "execution_count": null,
      "outputs": []
    },
    {
      "cell_type": "markdown",
      "metadata": {
        "id": "b-JtDHu_z1IX"
      },
      "source": [
        "## Initialise a Pipeline Run"
      ]
    },
    {
      "cell_type": "markdown",
      "metadata": {
        "id": "NrJA5OSgnydC"
      },
      "source": [
        "Here we initialise a run of our `MNISTTrainingPipeline`, passing in the URI for the dataset we wish to download. In our case this is the MNIST digits dataset."
      ]
    },
    {
      "cell_type": "code",
      "metadata": {
        "id": "dRzZA406UVVz"
      },
      "source": [
        "# Initialise the pipeline\n",
        "\n",
        "mnist_data = tf.keras.datasets.mnist\n",
        "\n",
        "mnist_trainer = MNISTTrainingPipeline(\n",
        "    import_data=ImportDataStep(mnist_data),\n",
        "    normalize_data=NormalizeDataStep(),\n",
        "    train_test_split=TrainTestSplitStep(),\n",
        "    trainer=MNISTTrainModelStep(),\n",
        "    evaluator=EvaluateModelStep())"
      ],
      "execution_count": null,
      "outputs": []
    },
    {
      "cell_type": "markdown",
      "metadata": {
        "id": "zKpVG4RXz403"
      },
      "source": [
        "## Run the Pipeline"
      ]
    },
    {
      "cell_type": "markdown",
      "metadata": {
        "id": "QzSHv8GioAkW"
      },
      "source": [
        "Running the pipeline is as simple as calling the `run()` method on the defined pipeline."
      ]
    },
    {
      "cell_type": "code",
      "metadata": {
        "id": "mLZf7mdmUW_M"
      },
      "source": [
        "# Run the pipeline\n",
        "\n",
        "mnist_trainer.run()"
      ],
      "execution_count": null,
      "outputs": []
    },
    {
      "cell_type": "markdown",
      "metadata": {
        "id": "gotkJdTQz8j2"
      },
      "source": [
        "## From MNIST to Fashion MNIST"
      ]
    },
    {
      "cell_type": "markdown",
      "metadata": {
        "id": "PMLU4cNW-Ei4"
      },
      "source": [
        "We got pretty good results on the MNIST model that we trained, but maybe we want to see how a similar training pipeline would work on a different dataset.\n",
        "\n",
        "You can see how easy it is to switch out one data import step and processing for another in our pipeline."
      ]
    },
    {
      "cell_type": "code",
      "metadata": {
        "id": "rIfD-3-Ms8k1"
      },
      "source": [
        "# Define a new modified step for training our Fashion MNIST model\n",
        "\n",
        "@steps.SimpleStep\n",
        "def FashionMNISTTrainModelStep(train_data, test_data):\n",
        "  # train a neural net from scratch to recognise MNIST digits\n",
        "  # return out model or the learner\n",
        "  model = tf.keras.Sequential([\n",
        "    tf.keras.layers.Flatten(input_shape=(28, 28)),\n",
        "    tf.keras.layers.Dense(128, activation='relu'),\n",
        "    tf.keras.layers.Dense(10)\n",
        "])\n",
        "\n",
        "  model.compile(optimizer='adam',\n",
        "              loss=tf.keras.losses.SparseCategoricalCrossentropy(from_logits=True),\n",
        "              metrics=['accuracy'])\n",
        "\n",
        "  model.fit(train_data, epochs=10, validation_data=test_data)"
      ],
      "execution_count": null,
      "outputs": []
    },
    {
      "cell_type": "code",
      "metadata": {
        "id": "9oQO-ZGE4Kwf"
      },
      "source": [
        "# Initialise a new pipeline\n",
        "\n",
        "fashion_mnist_data = tf.keras.datasets.fashion_mnist\n",
        "\n",
        "fashion_mnist_trainer = MNISTTrainingPipeline(\n",
        "    import_data=ImportDataStep(fashion_mnist_data),\n",
        "    normalize_data=NormalizeDataStep(),\n",
        "    train_test_split=TrainTestSplitStep(),\n",
        "    trainer=FashionMNISTTrainModelStep(),\n",
        "    evaluator=EvaluateModelStep())"
      ],
      "execution_count": null,
      "outputs": []
    },
    {
      "cell_type": "code",
      "metadata": {
        "id": "4t-KrsOfoKA4"
      },
      "source": [
        "# Run the new pipeline\n",
        "\n",
        "fashion_mnist_trainer.run()"
      ],
      "execution_count": null,
      "outputs": []
    },
    {
      "cell_type": "markdown",
      "metadata": {
        "id": "uOJtVVaFzlUO"
      },
      "source": [
        "… and that's it for the quickstart. If you came here without a hiccup, you must have successly installed ZenML, set up a ZenML repo, configured a training pipeline, executed it and evaluated the results. And, this is just the tip of the iceberg on the capabilities of ZenML.\n",
        "\n",
        "However, if you had a hiccup or you have some suggestions/questions regarding our framework, you can always check our docs or our github or even better join us on our Slack channel.\n",
        "\n",
        "Cheers!"
      ]
    },
    {
      "cell_type": "markdown",
      "metadata": {
        "id": "22gkBKSntlF8"
      },
      "source": [
        "For more detailed information on all the components and steps that went into this short example, please continue reading [our more detailed documentation pages](https://docs.zenml.io/)."
      ]
    },
    {
      "cell_type": "code",
      "metadata": {
        "id": "cH_-JHx94WMz"
      },
      "source": [
        ""
      ],
      "execution_count": null,
      "outputs": []
    }
  ]
}