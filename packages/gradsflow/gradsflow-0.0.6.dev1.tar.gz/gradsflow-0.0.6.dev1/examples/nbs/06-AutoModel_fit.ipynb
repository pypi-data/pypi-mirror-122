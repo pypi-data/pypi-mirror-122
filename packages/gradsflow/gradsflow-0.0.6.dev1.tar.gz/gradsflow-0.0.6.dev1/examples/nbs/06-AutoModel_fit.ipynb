{
 "cells": [
  {
   "cell_type": "markdown",
   "id": "4ae8e705",
   "metadata": {},
   "source": [
    "<!--<badge>--><a href=\"https://colab.research.google.com/github/gradsflow/gradsflow/blob/main/examples/nbs/06-AutoModel_fit.ipynb\" target=\"_parent\"><img src=\"https://colab.research.google.com/assets/colab-badge.svg\" alt=\"Open In Colab\"/></a><!--</badge>-->"
   ]
  },
  {
   "cell_type": "code",
   "execution_count": null,
   "id": "83d3b5a5",
   "metadata": {},
   "outputs": [],
   "source": [
    "import os\n",
    "\n",
    "# you can remove this\n",
    "os.chdir(\"../../\")"
   ]
  },
  {
   "cell_type": "code",
   "execution_count": null,
   "id": "f4c2b548",
   "metadata": {},
   "outputs": [],
   "source": [
    "from gradsflow import Model\n",
    "from gradsflow.tuner.tuner import Tuner"
   ]
  },
  {
   "cell_type": "code",
   "execution_count": null,
   "id": "364f5d03",
   "metadata": {},
   "outputs": [],
   "source": [
    "from timm import create_model\n",
    "from gradsflow.data.image import get_fake_data\n",
    "\n",
    "from gradsflow import AutoDataset\n"
   ]
  },
  {
   "cell_type": "code",
   "execution_count": null,
   "id": "742a4663",
   "metadata": {},
   "outputs": [],
   "source": [
    "image_size = (128, 128)\n",
    "fake_data = get_fake_data(image_size, num_workers=0)\n",
    "train_ds, train_dl = fake_data['ds'], fake_data['dl']\n",
    "\n",
    "fake_data = get_fake_data(image_size, num_workers=0)\n",
    "val_ds, val_dl = fake_data['ds'], fake_data['dl']\n",
    "\n",
    "num_classes = train_ds.num_classes\n",
    "autodataset = AutoDataset(train_dl, val_dl, num_classes=num_classes)"
   ]
  },
  {
   "cell_type": "code",
   "execution_count": null,
   "id": "71335142",
   "metadata": {},
   "outputs": [],
   "source": [
    "from gradsflow.tuner.tuner import Tuner\n",
    "from gradsflow.tuner.automodel import AutoModelV2"
   ]
  },
  {
   "cell_type": "code",
   "execution_count": null,
   "id": "feb42108",
   "metadata": {},
   "outputs": [],
   "source": [
    "cnn1 = create_model(\"resnet18\", pretrained=False, num_classes=num_classes)\n",
    "cnn2 = create_model(\"efficientnet_b0\", pretrained=False, num_classes=num_classes)"
   ]
  },
  {
   "cell_type": "code",
   "execution_count": null,
   "id": "943f8e82",
   "metadata": {},
   "outputs": [],
   "source": [
    "tuner = Tuner()\n",
    "\n",
    "cnns = tuner.suggest_complex(\"learner\", cnn1, cnn2)\n",
    "optimizers = tuner.choice(\"optimizer\", \"adam\", \"sgd\")\n",
    "loss = tuner.choice(\n",
    "    \"loss\",\n",
    "    \"crossentropyloss\",\n",
    ")\n",
    "\n",
    "model = AutoModelV2(cnns)"
   ]
  },
  {
   "cell_type": "code",
   "execution_count": null,
   "id": "aa214a1c",
   "metadata": {},
   "outputs": [
    {
     "name": "stderr",
     "output_type": "stream",
     "text": [
      "2021-09-29 19:43:53,414\tINFO services.py:1263 -- View the Ray dashboard at \u001b[1m\u001b[32mhttp://127.0.0.1:8265\u001b[39m\u001b[22m\n",
      "2021-09-29 19:43:56,265\tWARNING function_runner.py:558 -- Function checkpointing is disabled. This may result in unexpected behavior when using checkpointing features or certain schedulers. To enable, set the train function arguments to be `func(config, checkpoint_dir=None)`.\n",
      "2021-09-29 19:43:58,540\tWARNING worker.py:1215 -- Warning: The actor ImplicitFunc is very large (58 MiB). Check that its definition is not implicitly capturing a large array or other object in scope. Tip: use ray.put() to put large objects in the Ray object store.\n"
     ]
    },
    {
     "data": {
      "text/html": [
       "== Status ==<br>Memory usage on this node: 10.9/16.0 GiB<br>Using FIFO scheduling algorithm.<br>Resources requested: 1.0/8 CPUs, 0/0 GPUs, 0.0/4.38 GiB heap, 0.0/2.19 GiB objects<br>Result logdir: /Users/aniket/ray_results/_hp_optimizer_2021-09-29_19-43-56<br>Number of trials: 1/1 (1 RUNNING)<br><table>\n",
       "<thead>\n",
       "<tr><th>Trial name               </th><th>status  </th><th>loc  </th><th style=\"text-align: right;\">  learner</th><th>loss            </th><th>optimizer  </th></tr>\n",
       "</thead>\n",
       "<tbody>\n",
       "<tr><td>_hp_optimizer_7c10a_00000</td><td>RUNNING </td><td>     </td><td style=\"text-align: right;\">        1</td><td>crossentropyloss</td><td>sgd        </td></tr>\n",
       "</tbody>\n",
       "</table><br><br>"
      ],
      "text/plain": [
       "<IPython.core.display.HTML object>"
      ]
     },
     "metadata": {},
     "output_type": "display_data"
    },
    {
     "name": "stdout",
     "output_type": "stream",
     "text": [
      "Result for _hp_optimizer_7c10a_00000:\n",
      "  date: 2021-09-29_19-44-38\n",
      "  done: false\n",
      "  experiment_id: 1f6a6823b4544df88fecde2ffef3b208\n",
      "  hostname: Anikets-Turing-Machine.local\n",
      "  iterations_since_restore: 1\n",
      "  node_ip: 192.168.120.84\n",
      "  pid: 2207\n",
      "  should_checkpoint: true\n",
      "  time_since_restore: 33.17194175720215\n",
      "  time_this_iter_s: 33.17194175720215\n",
      "  time_total_s: 33.17194175720215\n",
      "  timestamp: 1632924878\n",
      "  timesteps_since_restore: 0\n",
      "  train_loss: 2.4102004801986\n",
      "  training_iteration: 1\n",
      "  trial_id: 7c10a_00000\n",
      "  val_accuracy: 0.11\n",
      "  val_loss: 285.92313784330526\n",
      "  \n"
     ]
    },
    {
     "data": {
      "text/html": [
       "== Status ==<br>Memory usage on this node: 9.9/16.0 GiB<br>Using FIFO scheduling algorithm.<br>Resources requested: 1.0/8 CPUs, 0/0 GPUs, 0.0/4.38 GiB heap, 0.0/2.19 GiB objects<br>Current best trial: 7c10a_00000 with val_loss=285.92313784330526 and parameters={'learner': 1, 'optimizer': 'sgd', 'loss': 'crossentropyloss'}<br>Result logdir: /Users/aniket/ray_results/_hp_optimizer_2021-09-29_19-43-56<br>Number of trials: 1/1 (1 RUNNING)<br><table>\n",
       "<thead>\n",
       "<tr><th>Trial name               </th><th>status  </th><th>loc                </th><th style=\"text-align: right;\">  learner</th><th>loss            </th><th>optimizer  </th><th style=\"text-align: right;\">  iter</th><th style=\"text-align: right;\">  total time (s)</th><th style=\"text-align: right;\">  val_loss</th><th style=\"text-align: right;\">  val_accuracy</th><th style=\"text-align: right;\">  train_loss</th></tr>\n",
       "</thead>\n",
       "<tbody>\n",
       "<tr><td>_hp_optimizer_7c10a_00000</td><td>RUNNING </td><td>192.168.120.84:2207</td><td style=\"text-align: right;\">        1</td><td>crossentropyloss</td><td>sgd        </td><td style=\"text-align: right;\">     1</td><td style=\"text-align: right;\">         33.1719</td><td style=\"text-align: right;\">   285.923</td><td style=\"text-align: right;\">          0.11</td><td style=\"text-align: right;\">      2.4102</td></tr>\n",
       "</tbody>\n",
       "</table><br><br>"
      ],
      "text/plain": [
       "<IPython.core.display.HTML object>"
      ]
     },
     "metadata": {},
     "output_type": "display_data"
    },
    {
     "name": "stdout",
     "output_type": "stream",
     "text": [
      "Result for _hp_optimizer_7c10a_00000:\n",
      "  date: 2021-09-29_19-45-11\n",
      "  done: false\n",
      "  experiment_id: 1f6a6823b4544df88fecde2ffef3b208\n",
      "  hostname: Anikets-Turing-Machine.local\n",
      "  iterations_since_restore: 2\n",
      "  node_ip: 192.168.120.84\n",
      "  pid: 2207\n",
      "  should_checkpoint: true\n",
      "  time_since_restore: 66.14079689979553\n",
      "  time_this_iter_s: 32.968855142593384\n",
      "  time_total_s: 66.14079689979553\n",
      "  timestamp: 1632924911\n",
      "  timesteps_since_restore: 0\n",
      "  train_loss: 2.2884897565612823\n",
      "  training_iteration: 2\n",
      "  trial_id: 7c10a_00000\n",
      "  val_accuracy: 0.11\n",
      "  val_loss: 104.01406013601054\n",
      "  \n"
     ]
    },
    {
     "data": {
      "text/html": [
       "== Status ==<br>Memory usage on this node: 9.7/16.0 GiB<br>Using FIFO scheduling algorithm.<br>Resources requested: 1.0/8 CPUs, 0/0 GPUs, 0.0/4.38 GiB heap, 0.0/2.19 GiB objects<br>Current best trial: 7c10a_00000 with val_loss=104.01406013601054 and parameters={'learner': 1, 'optimizer': 'sgd', 'loss': 'crossentropyloss'}<br>Result logdir: /Users/aniket/ray_results/_hp_optimizer_2021-09-29_19-43-56<br>Number of trials: 1/1 (1 RUNNING)<br><table>\n",
       "<thead>\n",
       "<tr><th>Trial name               </th><th>status  </th><th>loc                </th><th style=\"text-align: right;\">  learner</th><th>loss            </th><th>optimizer  </th><th style=\"text-align: right;\">  iter</th><th style=\"text-align: right;\">  total time (s)</th><th style=\"text-align: right;\">  val_loss</th><th style=\"text-align: right;\">  val_accuracy</th><th style=\"text-align: right;\">  train_loss</th></tr>\n",
       "</thead>\n",
       "<tbody>\n",
       "<tr><td>_hp_optimizer_7c10a_00000</td><td>RUNNING </td><td>192.168.120.84:2207</td><td style=\"text-align: right;\">        1</td><td>crossentropyloss</td><td>sgd        </td><td style=\"text-align: right;\">     2</td><td style=\"text-align: right;\">         66.1408</td><td style=\"text-align: right;\">   104.014</td><td style=\"text-align: right;\">          0.11</td><td style=\"text-align: right;\">     2.28849</td></tr>\n",
       "</tbody>\n",
       "</table><br><br>"
      ],
      "text/plain": [
       "<IPython.core.display.HTML object>"
      ]
     },
     "metadata": {},
     "output_type": "display_data"
    },
    {
     "name": "stderr",
     "output_type": "stream",
     "text": [
      "2021-09-29 19:45:12,050\tWARNING util.py:163 -- The `process_trial_save` operation took 0.629 s, which may be a performance bottleneck.\n"
     ]
    },
    {
     "name": "stdout",
     "output_type": "stream",
     "text": [
      "Result for _hp_optimizer_7c10a_00000:\n",
      "  date: 2021-09-29_19-45-39\n",
      "  done: false\n",
      "  experiment_id: 1f6a6823b4544df88fecde2ffef3b208\n",
      "  hostname: Anikets-Turing-Machine.local\n",
      "  iterations_since_restore: 3\n",
      "  node_ip: 192.168.120.84\n",
      "  pid: 2207\n",
      "  should_checkpoint: true\n",
      "  time_since_restore: 94.64873600006104\n",
      "  time_this_iter_s: 28.507939100265503\n",
      "  time_total_s: 94.64873600006104\n",
      "  timestamp: 1632924939\n",
      "  timesteps_since_restore: 0\n",
      "  train_loss: 2.2546736681235866\n",
      "  training_iteration: 3\n",
      "  trial_id: 7c10a_00000\n",
      "  val_accuracy: 0.07\n",
      "  val_loss: 165.44398209004063\n",
      "  \n"
     ]
    },
    {
     "data": {
      "text/html": [
       "== Status ==<br>Memory usage on this node: 10.1/16.0 GiB<br>Using FIFO scheduling algorithm.<br>Resources requested: 1.0/8 CPUs, 0/0 GPUs, 0.0/4.38 GiB heap, 0.0/2.19 GiB objects<br>Current best trial: 7c10a_00000 with val_loss=165.44398209004063 and parameters={'learner': 1, 'optimizer': 'sgd', 'loss': 'crossentropyloss'}<br>Result logdir: /Users/aniket/ray_results/_hp_optimizer_2021-09-29_19-43-56<br>Number of trials: 1/1 (1 RUNNING)<br><table>\n",
       "<thead>\n",
       "<tr><th>Trial name               </th><th>status  </th><th>loc                </th><th style=\"text-align: right;\">  learner</th><th>loss            </th><th>optimizer  </th><th style=\"text-align: right;\">  iter</th><th style=\"text-align: right;\">  total time (s)</th><th style=\"text-align: right;\">  val_loss</th><th style=\"text-align: right;\">  val_accuracy</th><th style=\"text-align: right;\">  train_loss</th></tr>\n",
       "</thead>\n",
       "<tbody>\n",
       "<tr><td>_hp_optimizer_7c10a_00000</td><td>RUNNING </td><td>192.168.120.84:2207</td><td style=\"text-align: right;\">        1</td><td>crossentropyloss</td><td>sgd        </td><td style=\"text-align: right;\">     3</td><td style=\"text-align: right;\">         94.6487</td><td style=\"text-align: right;\">   165.444</td><td style=\"text-align: right;\">          0.07</td><td style=\"text-align: right;\">     2.25467</td></tr>\n",
       "</tbody>\n",
       "</table><br><br>"
      ],
      "text/plain": [
       "<IPython.core.display.HTML object>"
      ]
     },
     "metadata": {},
     "output_type": "display_data"
    },
    {
     "name": "stdout",
     "output_type": "stream",
     "text": [
      "Result for _hp_optimizer_7c10a_00000:\n",
      "  date: 2021-09-29_19-46-08\n",
      "  done: false\n",
      "  experiment_id: 1f6a6823b4544df88fecde2ffef3b208\n",
      "  hostname: Anikets-Turing-Machine.local\n",
      "  iterations_since_restore: 4\n",
      "  node_ip: 192.168.120.84\n",
      "  pid: 2207\n",
      "  should_checkpoint: true\n",
      "  time_since_restore: 123.15836071968079\n",
      "  time_this_iter_s: 28.50962471961975\n",
      "  time_total_s: 123.15836071968079\n",
      "  timestamp: 1632924968\n",
      "  timesteps_since_restore: 0\n",
      "  train_loss: 2.237922847248586\n",
      "  training_iteration: 4\n",
      "  trial_id: 7c10a_00000\n",
      "  val_accuracy: 0.08\n",
      "  val_loss: 59.70871727347269\n",
      "  \n"
     ]
    },
    {
     "data": {
      "text/html": [
       "== Status ==<br>Memory usage on this node: 10.0/16.0 GiB<br>Using FIFO scheduling algorithm.<br>Resources requested: 1.0/8 CPUs, 0/0 GPUs, 0.0/4.38 GiB heap, 0.0/2.19 GiB objects<br>Current best trial: 7c10a_00000 with val_loss=59.70871727347269 and parameters={'learner': 1, 'optimizer': 'sgd', 'loss': 'crossentropyloss'}<br>Result logdir: /Users/aniket/ray_results/_hp_optimizer_2021-09-29_19-43-56<br>Number of trials: 1/1 (1 RUNNING)<br><table>\n",
       "<thead>\n",
       "<tr><th>Trial name               </th><th>status  </th><th>loc                </th><th style=\"text-align: right;\">  learner</th><th>loss            </th><th>optimizer  </th><th style=\"text-align: right;\">  iter</th><th style=\"text-align: right;\">  total time (s)</th><th style=\"text-align: right;\">  val_loss</th><th style=\"text-align: right;\">  val_accuracy</th><th style=\"text-align: right;\">  train_loss</th></tr>\n",
       "</thead>\n",
       "<tbody>\n",
       "<tr><td>_hp_optimizer_7c10a_00000</td><td>RUNNING </td><td>192.168.120.84:2207</td><td style=\"text-align: right;\">        1</td><td>crossentropyloss</td><td>sgd        </td><td style=\"text-align: right;\">     4</td><td style=\"text-align: right;\">         123.158</td><td style=\"text-align: right;\">   59.7087</td><td style=\"text-align: right;\">          0.08</td><td style=\"text-align: right;\">     2.23792</td></tr>\n",
       "</tbody>\n",
       "</table><br><br>"
      ],
      "text/plain": [
       "<IPython.core.display.HTML object>"
      ]
     },
     "metadata": {},
     "output_type": "display_data"
    },
    {
     "name": "stdout",
     "output_type": "stream",
     "text": [
      "Result for _hp_optimizer_7c10a_00000:\n",
      "  date: 2021-09-29_19-46-08\n",
      "  done: true\n",
      "  experiment_id: 1f6a6823b4544df88fecde2ffef3b208\n",
      "  experiment_tag: 0_learner=1,loss=crossentropyloss,optimizer=sgd\n",
      "  hostname: Anikets-Turing-Machine.local\n",
      "  iterations_since_restore: 4\n",
      "  node_ip: 192.168.120.84\n",
      "  pid: 2207\n",
      "  should_checkpoint: true\n",
      "  time_since_restore: 123.15836071968079\n",
      "  time_this_iter_s: 28.50962471961975\n",
      "  time_total_s: 123.15836071968079\n",
      "  timestamp: 1632924968\n",
      "  timesteps_since_restore: 0\n",
      "  train_loss: 2.237922847248586\n",
      "  training_iteration: 4\n",
      "  trial_id: 7c10a_00000\n",
      "  val_accuracy: 0.08\n",
      "  val_loss: 59.70871727347269\n",
      "  \n",
      "\u001b[2m\u001b[36m(pid=2207)\u001b[0m Epoch Progress... ━━━━━━━━━━━━━━━━━━━━━━━━ 100% 0:00:00 ┏━━━━━━━┳━━━━━━━┳━━━━━━┓\n",
      "\u001b[2m\u001b[36m(pid=2207)\u001b[0m                                                         ┃ epoch ┃ trai… ┃ val… ┃\n",
      "\u001b[2m\u001b[36m(pid=2207)\u001b[0m                                                         ┡━━━━━━━╇━━━━━━━╇━━━━━━┩\n",
      "\u001b[2m\u001b[36m(pid=2207)\u001b[0m                                                         │ 3     │  2.2… │  59… │\n",
      "\u001b[2m\u001b[36m(pid=2207)\u001b[0m                                                         └───────┴───────┴──────┘\n"
     ]
    },
    {
     "name": "stderr",
     "output_type": "stream",
     "text": [
      "2021-09-29 19:46:09,363\tWARNING util.py:163 -- The `process_trial_save` operation took 0.501 s, which may be a performance bottleneck.\n"
     ]
    },
    {
     "data": {
      "text/html": [
       "== Status ==<br>Memory usage on this node: 10.0/16.0 GiB<br>Using FIFO scheduling algorithm.<br>Resources requested: 0/8 CPUs, 0/0 GPUs, 0.0/4.38 GiB heap, 0.0/2.19 GiB objects<br>Current best trial: 7c10a_00000 with val_loss=59.70871727347269 and parameters={'learner': 1, 'optimizer': 'sgd', 'loss': 'crossentropyloss'}<br>Result logdir: /Users/aniket/ray_results/_hp_optimizer_2021-09-29_19-43-56<br>Number of trials: 1/1 (1 TERMINATED)<br><table>\n",
       "<thead>\n",
       "<tr><th>Trial name               </th><th>status    </th><th>loc  </th><th style=\"text-align: right;\">  learner</th><th>loss            </th><th>optimizer  </th><th style=\"text-align: right;\">  iter</th><th style=\"text-align: right;\">  total time (s)</th><th style=\"text-align: right;\">  val_loss</th><th style=\"text-align: right;\">  val_accuracy</th><th style=\"text-align: right;\">  train_loss</th></tr>\n",
       "</thead>\n",
       "<tbody>\n",
       "<tr><td>_hp_optimizer_7c10a_00000</td><td>TERMINATED</td><td>     </td><td style=\"text-align: right;\">        1</td><td>crossentropyloss</td><td>sgd        </td><td style=\"text-align: right;\">     4</td><td style=\"text-align: right;\">         123.158</td><td style=\"text-align: right;\">   59.7087</td><td style=\"text-align: right;\">          0.08</td><td style=\"text-align: right;\">     2.23792</td></tr>\n",
       "</tbody>\n",
       "</table><br><br>"
      ],
      "text/plain": [
       "<IPython.core.display.HTML object>"
      ]
     },
     "metadata": {},
     "output_type": "display_data"
    },
    {
     "name": "stderr",
     "output_type": "stream",
     "text": [
      "2021-09-29 19:46:09,481\tINFO tune.py:561 -- Total run time: 133.22 seconds (132.27 seconds for the tuning loop).\n"
     ]
    }
   ],
   "source": [
    "model.hp_tune(tuner, autodataset, epochs=4)"
   ]
  },
  {
   "cell_type": "code",
   "execution_count": null,
   "id": "9c64cc0a",
   "metadata": {},
   "outputs": [
    {
     "data": {
      "text/plain": [
       "<gradsflow.tuner.tuner.Tuner at 0x7fbfedb6e340>"
      ]
     },
     "execution_count": null,
     "metadata": {},
     "output_type": "execute_result"
    }
   ],
   "source": [
    "model.tuner"
   ]
  }
 ],
 "metadata": {
  "kernelspec": {
   "display_name": "Python 3 (ipykernel)",
   "language": "python",
   "name": "python3"
  },
  "language_info": {
   "codemirror_mode": {
    "name": "ipython",
    "version": 3
   },
   "file_extension": ".py",
   "mimetype": "text/x-python",
   "name": "python",
   "nbconvert_exporter": "python",
   "pygments_lexer": "ipython3",
   "version": "3.8.11"
  },
  "toc": {
   "base_numbering": 1,
   "nav_menu": {},
   "number_sections": true,
   "sideBar": true,
   "skip_h1_title": false,
   "title_cell": "Table of Contents",
   "title_sidebar": "Contents",
   "toc_cell": false,
   "toc_position": {},
   "toc_section_display": true,
   "toc_window_display": false
  }
 },
 "nbformat": 4,
 "nbformat_minor": 5
}
