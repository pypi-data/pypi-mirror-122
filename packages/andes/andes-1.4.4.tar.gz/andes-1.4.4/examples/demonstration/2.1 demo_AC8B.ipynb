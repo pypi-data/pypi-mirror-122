{
 "cells": [
  {
   "cell_type": "markdown",
   "metadata": {},
   "source": [
    "# ANDES Demonstration of AC8B on IEEE 14-Bus System\n",
    "\n",
    "Prepared by Jinning Wang. Last revised on September 22, 2021."
   ]
  },
  {
   "cell_type": "code",
   "execution_count": 1,
   "metadata": {
    "execution": {
     "iopub.execute_input": "2021-09-26T22:41:50.976568Z",
     "iopub.status.busy": "2021-09-26T22:41:50.976192Z",
     "iopub.status.idle": "2021-09-26T22:41:51.790379Z",
     "shell.execute_reply": "2021-09-26T22:41:51.790719Z"
    }
   },
   "outputs": [],
   "source": [
    "import andes\n",
    "from andes.utils.paths import get_case\n",
    "\n",
    "andes.config_logger(stream_level=20)"
   ]
  },
  {
   "cell_type": "code",
   "execution_count": 2,
   "metadata": {
    "execution": {
     "iopub.execute_input": "2021-09-26T22:41:51.794469Z",
     "iopub.status.busy": "2021-09-26T22:41:51.794128Z",
     "iopub.status.idle": "2021-09-26T22:41:52.481586Z",
     "shell.execute_reply": "2021-09-26T22:41:52.481197Z"
    }
   },
   "outputs": [
    {
     "name": "stderr",
     "output_type": "stream",
     "text": [
      "Working directory: \"/Users/jinningwang/Documents/work/andes/examples/demonstration\"\n",
      "Loaded config from file \"/Users/jinningwang/.andes/andes.rc\"\n",
      "Loaded generated Python code in \"~/.andes/pycode\".\n",
      "Parsing input file \"/Users/jinningwang/Documents/work/andes/andes/cases/ieee14/ieee14_ac8b.xlsx\"...\n",
      "Input file parsed in 0.5439 seconds.\n",
      "System internal structure set up in 0.0231 seconds.\n"
     ]
    },
    {
     "data": {
      "text/plain": [
       "True"
      ]
     },
     "execution_count": 2,
     "metadata": {},
     "output_type": "execute_result"
    }
   ],
   "source": [
    "ss = andes.load(get_case('ieee14/ieee14_ac8b.xlsx'),\n",
    "                setup=False,\n",
    "                no_output=True)\n",
    "ss.setup()"
   ]
  },
  {
   "cell_type": "markdown",
   "metadata": {},
   "source": [
    "## Simulation\n",
    "\n",
    "Exciter `AC8B_1` is connected to `GENROU_5`."
   ]
  },
  {
   "cell_type": "code",
   "execution_count": 3,
   "metadata": {
    "execution": {
     "iopub.execute_input": "2021-09-26T22:41:52.484827Z",
     "iopub.status.busy": "2021-09-26T22:41:52.484478Z",
     "iopub.status.idle": "2021-09-26T22:41:52.504478Z",
     "shell.execute_reply": "2021-09-26T22:41:52.504840Z"
    },
    "scrolled": true
   },
   "outputs": [
    {
     "name": "stderr",
     "output_type": "stream",
     "text": [
      "-> System connectivity check results:\n",
      "  No islanded bus detected.\n",
      "  A total of 1 island(s) detected.\n",
      "  Each island has a slack bus correctly defined and enabled.\n",
      "\n",
      "-> Power flow calculation\n",
      "   Sparse solver: KLU\n",
      " Solution method: NR method\n",
      " Sparse addition: Fast in-place (kvxopt)\n",
      "Power flow initialized.\n",
      "0: |F(x)| = 0.5605182134\n",
      "1: |F(x)| = 0.006202200332\n",
      "2: |F(x)| = 5.819382825e-06\n",
      "3: |F(x)| = 6.967745825e-12\n",
      "Converged in 4 iterations in 0.0078 seconds.\n",
      "/Users/jinningwang/.andes/pycode/AC8B.py:91: RuntimeWarning: invalid value encountered in sqrt\n",
      "  return (array([[FEX_y*INT_y - vf0], [-FEX_y + select([less_equal(IN, 0),less_equal(IN, 0.433),less_equal(IN, 0.75),less_equal(IN, 1),greater(IN, 1)], [1,1 - 0.577*IN,sqrt(0.75 - IN**2),1.732 - 1.732*IN,0], default=nan)], [-IN*INT_y + KC*XadIfd]]))\n",
      "/Users/jinningwang/.andes/pycode/AC8B.py:94: RuntimeWarning: invalid value encountered in sqrt\n",
      "  return (array([[FEX_y, INT_y, 0], [0, -1, select([less_equal(IN, 0),less_equal(IN, 0.433),less_equal(IN, 0.75),less_equal(IN, 1),True], [0,-0.577,-IN/sqrt(0.75 - IN**2),-1.732,0], default=nan)], [-IN, 0, -INT_y]]))\n",
      "Initialization for dynamics completed in 0.0267 seconds.\n",
      "Initialization was successful.\n"
     ]
    },
    {
     "data": {
      "text/plain": [
       "True"
      ]
     },
     "execution_count": 3,
     "metadata": {},
     "output_type": "execute_result"
    }
   ],
   "source": [
    "ss.PFlow.run()"
   ]
  },
  {
   "cell_type": "code",
   "execution_count": 4,
   "metadata": {
    "execution": {
     "iopub.execute_input": "2021-09-26T22:41:52.507563Z",
     "iopub.status.busy": "2021-09-26T22:41:52.507155Z",
     "iopub.status.idle": "2021-09-26T22:41:56.483432Z",
     "shell.execute_reply": "2021-09-26T22:41:56.484046Z"
    }
   },
   "outputs": [
    {
     "name": "stderr",
     "output_type": "stream",
     "text": [
      "\n",
      "-> Time Domain Simulation Summary:\n",
      "Sparse Solver: KLU\n",
      "Simulation time: 0.0-20 s.\n",
      "Fixed step size: h=33.33 ms. Shrink if not converged.\n"
     ]
    },
    {
     "name": "stdout",
     "output_type": "stream",
     "text": [
      "<Toggler Toggler_1>: Line.Line_1 status changed to 0 at t=1.0 sec.    \n",
      "<Toggler Toggler_2>: Line.Line_1 status changed to 1 at t=1.1 sec.    \n",
      "100%|████████████████████████████████| 100/100 [00:01<00:00, 65.44%/s]"
     ]
    },
    {
     "name": "stderr",
     "output_type": "stream",
     "text": [
      "Simulation completed in 1.5284 seconds.\n"
     ]
    },
    {
     "name": "stdout",
     "output_type": "stream",
     "text": [
      "\n"
     ]
    },
    {
     "data": {
      "text/plain": [
       "True"
      ]
     },
     "execution_count": 4,
     "metadata": {},
     "output_type": "execute_result"
    }
   ],
   "source": [
    "ss.TDS.config.tf = 20\n",
    "ss.TDS.run()"
   ]
  },
  {
   "cell_type": "code",
   "execution_count": 5,
   "metadata": {
    "execution": {
     "iopub.execute_input": "2021-09-26T22:41:56.488041Z",
     "iopub.status.busy": "2021-09-26T22:41:56.486189Z",
     "iopub.status.idle": "2021-09-26T22:41:56.509848Z",
     "shell.execute_reply": "2021-09-26T22:41:56.509144Z"
    }
   },
   "outputs": [
    {
     "data": {
      "text/plain": [
       "0"
      ]
     },
     "execution_count": 5,
     "metadata": {},
     "output_type": "execute_result"
    }
   ],
   "source": [
    "ss.exit_code"
   ]
  },
  {
   "cell_type": "code",
   "execution_count": 6,
   "metadata": {
    "execution": {
     "iopub.execute_input": "2021-09-26T22:41:56.550565Z",
     "iopub.status.busy": "2021-09-26T22:41:56.549297Z",
     "iopub.status.idle": "2021-09-26T22:41:57.396461Z",
     "shell.execute_reply": "2021-09-26T22:41:57.397122Z"
    }
   },
   "outputs": [
    {
     "data": {
      "image/png": "[encoded data removed]",
      "text/plain": [
       "<Figure size 600x400 with 1 Axes>"
      ]
     },
     "metadata": {
      "needs_background": "light"
     },
     "output_type": "display_data"
    },
    {
     "data": {
      "text/plain": [
       "(<Figure size 600x400 with 1 Axes>, <AxesSubplot:xlabel='Time [s]'>)"
      ]
     },
     "execution_count": 6,
     "metadata": {},
     "output_type": "execute_result"
    }
   ],
   "source": [
    "ss.TDS.plt.plot(ss.AC8B.vout)"
   ]
  },
  {
   "cell_type": "code",
   "execution_count": 7,
   "metadata": {
    "execution": {
     "iopub.execute_input": "2021-09-26T22:41:57.412726Z",
     "iopub.status.busy": "2021-09-26T22:41:57.400721Z",
     "iopub.status.idle": "2021-09-26T22:41:58.126359Z",
     "shell.execute_reply": "2021-09-26T22:41:58.126769Z"
    },
    "scrolled": true
   },
   "outputs": [
    {
     "data": {
      "image/png": "[encoded data removed]",
      "text/plain": [
       "<Figure size 600x400 with 1 Axes>"
      ]
     },
     "metadata": {
      "needs_background": "light"
     },
     "output_type": "display_data"
    },
    {
     "data": {
      "text/plain": [
       "(<Figure size 600x400 with 1 Axes>, <AxesSubplot:xlabel='Time [s]'>)"
      ]
     },
     "execution_count": 7,
     "metadata": {},
     "output_type": "execute_result"
    }
   ],
   "source": [
    "ss.TDS.plt.plot(ss.GENROU.omega,\n",
    "                ycalc=lambda x: 60*x)"
   ]
  },
  {
   "cell_type": "markdown",
   "metadata": {},
   "source": [
    "## Cleanup"
   ]
  },
  {
   "cell_type": "code",
   "execution_count": 8,
   "metadata": {
    "execution": {
     "iopub.execute_input": "2021-09-26T22:41:58.130250Z",
     "iopub.status.busy": "2021-09-26T22:41:58.129893Z",
     "iopub.status.idle": "2021-09-26T22:41:59.033061Z",
     "shell.execute_reply": "2021-09-26T22:41:59.032789Z"
    }
   },
   "outputs": [
    {
     "name": "stdout",
     "output_type": "stream",
     "text": [
      "\r\n",
      "    _           _         | Version 1.4.2.post168.dev0+gf781733e\r\n",
      "   /_\\  _ _  __| |___ ___ | Python 3.7.10 on Darwin, 10/04/2021 04:41:04 PM\r\n",
      "  / _ \\| ' \\/ _` / -_|_-< | \r\n",
      " /_/ \\_\\_||_\\__,_\\___/__/ | This program comes with ABSOLUTELY NO WARRANTY.\r\n",
      "\r\n",
      "No output file found in the working directory.\r\n"
     ]
    }
   ],
   "source": [
    "!andes misc -C"
   ]
  }
 ],
 "metadata": {
  "interpreter": {
   "hash": "4c42303ec617988e96980582546035234a0dbb343f6614254a1d5bddbb9babb9"
  },
  "kernelspec": {
   "display_name": "Python 3 (ipykernel)",
   "language": "python",
   "name": "python3"
  },
  "language_info": {
   "codemirror_mode": {
    "name": "ipython",
    "version": 3
   },
   "file_extension": ".py",
   "mimetype": "text/x-python",
   "name": "python",
   "nbconvert_exporter": "python",
   "pygments_lexer": "ipython3",
   "version": "3.7.10"
  }
 },
 "nbformat": 4,
 "nbformat_minor": 2
}
