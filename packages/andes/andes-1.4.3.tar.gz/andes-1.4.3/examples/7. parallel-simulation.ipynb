{
 "cells": [
  {
   "cell_type": "markdown",
   "metadata": {},
   "source": [
    "# Create Cases in Batch and Run in Parallel\n",
    "\n",
    "This notebook demonstrates creating cases in batch and running them in parallel."
   ]
  },
  {
   "cell_type": "markdown",
   "metadata": {},
   "source": [
    "## Create Cases in Batch\n",
    "\n",
    "The approach to create cases in batch following this procedure:\n",
    "\n",
    "- Load the base case from file\n",
    "- For each desired case output:\n",
    "  * Alter parameters to the desired value\n",
    "  * Save each system to a new case file"
   ]
  },
  {
   "cell_type": "code",
   "execution_count": 1,
   "metadata": {
    "ExecuteTime": {
     "end_time": "2021-03-19T20:10:05.894045Z",
     "start_time": "2021-03-19T20:10:05.363546Z"
    },
    "execution": {
     "iopub.execute_input": "2021-09-26T22:41:50.942892Z",
     "iopub.status.busy": "2021-09-26T22:41:50.942345Z",
     "iopub.status.idle": "2021-09-26T22:41:51.715590Z",
     "shell.execute_reply": "2021-09-26T22:41:51.715193Z"
    }
   },
   "outputs": [],
   "source": [
    "import andes\n",
    "import numpy as np\n",
    "from andes.utils.paths import get_case\n",
    "\n",
    "andes.config_logger()"
   ]
  },
  {
   "cell_type": "code",
   "execution_count": 2,
   "metadata": {
    "ExecuteTime": {
     "end_time": "2021-03-19T20:10:06.124151Z",
     "start_time": "2021-03-19T20:10:05.896304Z"
    },
    "execution": {
     "iopub.execute_input": "2021-09-26T22:41:51.720734Z",
     "iopub.status.busy": "2021-09-26T22:41:51.717913Z",
     "iopub.status.idle": "2021-09-26T22:41:52.058951Z",
     "shell.execute_reply": "2021-09-26T22:41:52.058641Z"
    }
   },
   "outputs": [],
   "source": [
    "# create directory for output cases\n",
    "!rm -rf batch_cases\n",
    "!mkdir -p batch_cases"
   ]
  },
  {
   "cell_type": "code",
   "execution_count": 3,
   "metadata": {
    "ExecuteTime": {
     "end_time": "2021-03-19T20:10:06.755590Z",
     "start_time": "2021-03-19T20:10:06.126100Z"
    },
    "execution": {
     "iopub.execute_input": "2021-09-26T22:41:52.061457Z",
     "iopub.status.busy": "2021-09-26T22:41:52.061063Z",
     "iopub.status.idle": "2021-09-26T22:41:52.825888Z",
     "shell.execute_reply": "2021-09-26T22:41:52.826327Z"
    }
   },
   "outputs": [
    {
     "name": "stderr",
     "output_type": "stream",
     "text": [
      "Working directory: \"/home/hcui7/repos/andes/examples\"\n"
     ]
    },
    {
     "name": "stderr",
     "output_type": "stream",
     "text": [
      "Loaded config from file \"/home/hcui7/.andes/andes.rc\"\n"
     ]
    },
    {
     "name": "stderr",
     "output_type": "stream",
     "text": [
      "Loaded generated Python code in \"~/.andes/pycode\".\n"
     ]
    },
    {
     "name": "stderr",
     "output_type": "stream",
     "text": [
      "Parsing input file \"/home/hcui7/repos/andes/andes/cases/kundur/kundur_full.xlsx\"...\n"
     ]
    },
    {
     "name": "stderr",
     "output_type": "stream",
     "text": [
      "Input file parsed in 0.5088 seconds.\n"
     ]
    },
    {
     "name": "stderr",
     "output_type": "stream",
     "text": [
      "System internal structure set up in 0.0302 seconds.\n"
     ]
    }
   ],
   "source": [
    "kundur = get_case('kundur/kundur_full.xlsx')\n",
    "ss = andes.load(kundur)"
   ]
  },
  {
   "cell_type": "markdown",
   "metadata": {},
   "source": [
    "We demonstrate running the Kundur's system under different loading conditions.\n",
    "\n",
    "Cases are created by modifying the `p0` of `PQ` with `idx == PQ_0`."
   ]
  },
  {
   "cell_type": "markdown",
   "metadata": {},
   "source": [
    "As always, input parameters can be inspected in `cache.df_in`. "
   ]
  },
  {
   "cell_type": "code",
   "execution_count": 4,
   "metadata": {
    "ExecuteTime": {
     "end_time": "2021-03-19T20:10:06.759454Z",
     "start_time": "2021-03-19T20:10:06.757036Z"
    },
    "execution": {
     "iopub.execute_input": "2021-09-26T22:41:52.828532Z",
     "iopub.status.busy": "2021-09-26T22:41:52.827946Z",
     "iopub.status.idle": "2021-09-26T22:41:52.830947Z",
     "shell.execute_reply": "2021-09-26T22:41:52.831353Z"
    }
   },
   "outputs": [],
   "source": [
    "p0_base = ss.PQ.get('p0', \"PQ_0\")"
   ]
  },
  {
   "cell_type": "markdown",
   "metadata": {},
   "source": [
    "Create 10 cases so that the load increases from `p0_base` to `1.2 * p0_base`."
   ]
  },
  {
   "cell_type": "code",
   "execution_count": 5,
   "metadata": {
    "ExecuteTime": {
     "end_time": "2021-03-19T20:10:06.768649Z",
     "start_time": "2021-03-19T20:10:06.760828Z"
    },
    "execution": {
     "iopub.execute_input": "2021-09-26T22:41:52.833329Z",
     "iopub.status.busy": "2021-09-26T22:41:52.832750Z",
     "iopub.status.idle": "2021-09-26T22:41:52.835687Z",
     "shell.execute_reply": "2021-09-26T22:41:52.836134Z"
    }
   },
   "outputs": [],
   "source": [
    "p0_values = np.linspace(p0_base, 1.2 * p0_base, 10)"
   ]
  },
  {
   "cell_type": "code",
   "execution_count": 6,
   "metadata": {
    "ExecuteTime": {
     "end_time": "2021-03-19T20:10:07.439213Z",
     "start_time": "2021-03-19T20:10:06.772000Z"
    },
    "execution": {
     "iopub.execute_input": "2021-09-26T22:41:52.838132Z",
     "iopub.status.busy": "2021-09-26T22:41:52.837533Z",
     "iopub.status.idle": "2021-09-26T22:41:53.650671Z",
     "shell.execute_reply": "2021-09-26T22:41:53.651123Z"
    },
    "scrolled": true
   },
   "outputs": [
    {
     "name": "stderr",
     "output_type": "stream",
     "text": [
      "xlsx file written to \"batch_cases/kundur_p_11.59.xlsx\"\n"
     ]
    },
    {
     "name": "stderr",
     "output_type": "stream",
     "text": [
      "Format conversion completed in 0.1058 seconds.\n"
     ]
    },
    {
     "name": "stderr",
     "output_type": "stream",
     "text": [
      "xlsx file written to \"batch_cases/kundur_p_11.85.xlsx\"\n"
     ]
    },
    {
     "name": "stderr",
     "output_type": "stream",
     "text": [
      "Format conversion completed in 0.0505 seconds.\n"
     ]
    },
    {
     "name": "stderr",
     "output_type": "stream",
     "text": [
      "xlsx file written to \"batch_cases/kundur_p_12.11.xlsx\"\n"
     ]
    },
    {
     "name": "stderr",
     "output_type": "stream",
     "text": [
      "Format conversion completed in 0.0668 seconds.\n"
     ]
    },
    {
     "name": "stderr",
     "output_type": "stream",
     "text": [
      "xlsx file written to \"batch_cases/kundur_p_12.36.xlsx\"\n"
     ]
    },
    {
     "name": "stderr",
     "output_type": "stream",
     "text": [
      "Format conversion completed in 0.1089 seconds.\n"
     ]
    },
    {
     "name": "stderr",
     "output_type": "stream",
     "text": [
      "xlsx file written to \"batch_cases/kundur_p_12.62.xlsx\"\n"
     ]
    },
    {
     "name": "stderr",
     "output_type": "stream",
     "text": [
      "Format conversion completed in 0.0979 seconds.\n"
     ]
    },
    {
     "name": "stderr",
     "output_type": "stream",
     "text": [
      "xlsx file written to \"batch_cases/kundur_p_12.88.xlsx\"\n"
     ]
    },
    {
     "name": "stderr",
     "output_type": "stream",
     "text": [
      "Format conversion completed in 0.1336 seconds.\n"
     ]
    },
    {
     "name": "stderr",
     "output_type": "stream",
     "text": [
      "xlsx file written to \"batch_cases/kundur_p_13.14.xlsx\"\n"
     ]
    },
    {
     "name": "stderr",
     "output_type": "stream",
     "text": [
      "Format conversion completed in 0.0502 seconds.\n"
     ]
    },
    {
     "name": "stderr",
     "output_type": "stream",
     "text": [
      "xlsx file written to \"batch_cases/kundur_p_13.39.xlsx\"\n"
     ]
    },
    {
     "name": "stderr",
     "output_type": "stream",
     "text": [
      "Format conversion completed in 0.0615 seconds.\n"
     ]
    },
    {
     "name": "stderr",
     "output_type": "stream",
     "text": [
      "xlsx file written to \"batch_cases/kundur_p_13.65.xlsx\"\n"
     ]
    },
    {
     "name": "stderr",
     "output_type": "stream",
     "text": [
      "Format conversion completed in 0.0549 seconds.\n"
     ]
    },
    {
     "name": "stderr",
     "output_type": "stream",
     "text": [
      "xlsx file written to \"batch_cases/kundur_p_13.91.xlsx\"\n"
     ]
    },
    {
     "name": "stderr",
     "output_type": "stream",
     "text": [
      "Format conversion completed in 0.0612 seconds.\n"
     ]
    }
   ],
   "source": [
    "for value in p0_values:\n",
    "    ss.PQ.alter('p0', 'PQ_0', value)\n",
    "    file_name = f'batch_cases/kundur_p_{value:.2f}.xlsx'\n",
    "    \n",
    "    andes.io.dump(ss, 'xlsx', file_name, overwrite=True)"
   ]
  },
  {
   "cell_type": "markdown",
   "metadata": {},
   "source": [
    "## Parallel Simulation"
   ]
  },
  {
   "cell_type": "markdown",
   "metadata": {},
   "source": [
    "Parallel simulation is easy with the command line tool.\n",
    "\n",
    "Change directory to `batch_cases`:"
   ]
  },
  {
   "cell_type": "code",
   "execution_count": 7,
   "metadata": {
    "ExecuteTime": {
     "end_time": "2021-03-19T20:10:07.442744Z",
     "start_time": "2021-03-19T20:10:07.440551Z"
    },
    "execution": {
     "iopub.execute_input": "2021-09-26T22:41:53.655676Z",
     "iopub.status.busy": "2021-09-26T22:41:53.654059Z",
     "iopub.status.idle": "2021-09-26T22:41:53.659113Z",
     "shell.execute_reply": "2021-09-26T22:41:53.659515Z"
    }
   },
   "outputs": [],
   "source": [
    "import os\n",
    "\n",
    "# change the Python working directory\n",
    "os.chdir('batch_cases')"
   ]
  },
  {
   "cell_type": "code",
   "execution_count": 8,
   "metadata": {
    "ExecuteTime": {
     "end_time": "2021-03-19T20:10:07.562524Z",
     "start_time": "2021-03-19T20:10:07.444582Z"
    },
    "execution": {
     "iopub.execute_input": "2021-09-26T22:41:53.668794Z",
     "iopub.status.busy": "2021-09-26T22:41:53.663856Z",
     "iopub.status.idle": "2021-09-26T22:41:53.897143Z",
     "shell.execute_reply": "2021-09-26T22:41:53.896419Z"
    },
    "scrolled": true
   },
   "outputs": [
    {
     "name": "stdout",
     "output_type": "stream",
     "text": [
      "total 168\r\n",
      "drwxr-xr-x 2 hcui7 hcui7  4096 Sep 26 17:41 .\r\n",
      "drwxr-xr-x 6 hcui7 hcui7  4096 Sep 26 17:41 ..\r\n",
      "-rw-r--r-- 1 hcui7 hcui7 14640 Sep 26 17:41 kundur_p_11.59.xlsx\r\n",
      "-rw-r--r-- 1 hcui7 hcui7 14644 Sep 26 17:41 kundur_p_11.85.xlsx\r\n",
      "-rw-r--r-- 1 hcui7 hcui7 14643 Sep 26 17:41 kundur_p_12.11.xlsx\r\n",
      "-rw-r--r-- 1 hcui7 hcui7 14644 Sep 26 17:41 kundur_p_12.36.xlsx\r\n",
      "-rw-r--r-- 1 hcui7 hcui7 14643 Sep 26 17:41 kundur_p_12.62.xlsx\r\n",
      "-rw-r--r-- 1 hcui7 hcui7 14643 Sep 26 17:41 kundur_p_12.88.xlsx\r\n",
      "-rw-r--r-- 1 hcui7 hcui7 14643 Sep 26 17:41 kundur_p_13.14.xlsx\r\n",
      "-rw-r--r-- 1 hcui7 hcui7 14644 Sep 26 17:41 kundur_p_13.39.xlsx\r\n",
      "-rw-r--r-- 1 hcui7 hcui7 14643 Sep 26 17:41 kundur_p_13.65.xlsx\r\n",
      "-rw-r--r-- 1 hcui7 hcui7 14640 Sep 26 17:41 kundur_p_13.91.xlsx\r\n"
     ]
    }
   ],
   "source": [
    "!ls -la"
   ]
  },
  {
   "cell_type": "markdown",
   "metadata": {},
   "source": [
    "### Running from Command line"
   ]
  },
  {
   "cell_type": "code",
   "execution_count": 9,
   "metadata": {
    "ExecuteTime": {
     "end_time": "2021-03-19T20:10:14.123195Z",
     "start_time": "2021-03-19T20:10:07.564577Z"
    },
    "execution": {
     "iopub.execute_input": "2021-09-26T22:41:53.904692Z",
     "iopub.status.busy": "2021-09-26T22:41:53.904181Z",
     "iopub.status.idle": "2021-09-26T22:41:58.657362Z",
     "shell.execute_reply": "2021-09-26T22:41:58.657647Z"
    },
    "scrolled": false
   },
   "outputs": [
    {
     "name": "stdout",
     "output_type": "stream",
     "text": [
      "\r\n",
      "    _           _         | Version 1.4.2.post116.dev0+g832274a7\r\n",
      "   /_\\  _ _  __| |___ ___ | Python 3.9.6 on Linux, 09/26/2021 05:41:54 PM\r\n",
      "  / _ \\| ' \\/ _` / -_|_-< | \r\n",
      " /_/ \\_\\_||_\\__,_\\___/__/ | This program comes with ABSOLUTELY NO WARRANTY.\r\n",
      "\r\n",
      "Working directory: \"/home/hcui7/repos/andes/examples/batch_cases\"\r\n",
      "-> Processing 10 jobs on 32 CPUs.\r\n",
      "Process 0 for \"kundur_p_11.59.xlsx\" started.\r\n",
      "Process 1 for \"kundur_p_11.85.xlsx\" started.\r\n",
      "Process 2 for \"kundur_p_12.11.xlsx\" started.\r\n",
      "Process 3 for \"kundur_p_12.36.xlsx\" started.\r\n",
      "Process 4 for \"kundur_p_12.62.xlsx\" started.\r\n",
      "Process 5 for \"kundur_p_12.88.xlsx\" started.\r\n",
      "Process 6 for \"kundur_p_13.14.xlsx\" started.\r\n",
      "Process 7 for \"kundur_p_13.39.xlsx\" started.\r\n",
      "Process 8 for \"kundur_p_13.65.xlsx\" started.\r\n",
      "Process 9 for \"kundur_p_13.91.xlsx\" started.\r\n"
     ]
    },
    {
     "name": "stdout",
     "output_type": "stream",
     "text": [
      "<Toggler 1>: Line.Line_8 status changed to 0 at t=2.0 sec.\r\n"
     ]
    },
    {
     "name": "stdout",
     "output_type": "stream",
     "text": [
      "<Toggler 1>: Line.Line_8 status changed to 0 at t=2.0 sec.\r\n"
     ]
    },
    {
     "name": "stdout",
     "output_type": "stream",
     "text": [
      "<Toggler 1>: Line.Line_8 status changed to 0 at t=2.0 sec.\r\n",
      "<Toggler 1>: Line.Line_8 status changed to 0 at t=2.0 sec.\r\n",
      "<Toggler 1>: Line.Line_8 status changed to 0 at t=2.0 sec.\r\n"
     ]
    },
    {
     "name": "stdout",
     "output_type": "stream",
     "text": [
      "<Toggler 1>: Line.Line_8 status changed to 0 at t=2.0 sec.\r\n",
      "<Toggler 1>: Line.Line_8 status changed to 0 at t=2.0 sec.\r\n",
      "<Toggler 1>: Line.Line_8 status changed to 0 at t=2.0 sec.\r\n"
     ]
    },
    {
     "name": "stdout",
     "output_type": "stream",
     "text": [
      "<Toggler 1>: Line.Line_8 status changed to 0 at t=2.0 sec.\r\n",
      "<Toggler 1>: Line.Line_8 status changed to 0 at t=2.0 sec.\r\n"
     ]
    },
    {
     "name": "stdout",
     "output_type": "stream",
     "text": [
      "Log saved to \"/tmp/andes-smczc7i4/andes.log\".\r\n",
      "-> Multiprocessing finished in 3.6909 seconds.\r\n"
     ]
    }
   ],
   "source": [
    "!andes run *.xlsx -r tds"
   ]
  },
  {
   "cell_type": "markdown",
   "metadata": {},
   "source": [
    "### Number of CPUs"
   ]
  },
  {
   "cell_type": "markdown",
   "metadata": {},
   "source": [
    "In some cases, you don't want the simulatino to use up all resources. \n",
    "\n",
    "ANDES allows to control the number of processes to run in parallel through `--ncpu NCPU`, where `NCPU` is the maximum number of processes (equivalent to the number of CPU cores) allowed. "
   ]
  },
  {
   "cell_type": "code",
   "execution_count": 10,
   "metadata": {
    "ExecuteTime": {
     "end_time": "2021-03-19T20:10:25.477407Z",
     "start_time": "2021-03-19T20:10:14.124795Z"
    },
    "execution": {
     "iopub.execute_input": "2021-09-26T22:41:58.660518Z",
     "iopub.status.busy": "2021-09-26T22:41:58.659218Z",
     "iopub.status.idle": "2021-09-26T22:42:05.444692Z",
     "shell.execute_reply": "2021-09-26T22:42:05.444401Z"
    },
    "scrolled": true
   },
   "outputs": [
    {
     "name": "stdout",
     "output_type": "stream",
     "text": [
      "\r\n",
      "    _           _         | Version 1.4.2.post116.dev0+g832274a7\r\n",
      "   /_\\  _ _  __| |___ ___ | Python 3.9.6 on Linux, 09/26/2021 05:41:59 PM\r\n",
      "  / _ \\| ' \\/ _` / -_|_-< | \r\n",
      " /_/ \\_\\_||_\\__,_\\___/__/ | This program comes with ABSOLUTELY NO WARRANTY.\r\n",
      "\r\n",
      "Working directory: \"/home/hcui7/repos/andes/examples/batch_cases\"\r\n",
      "-> Processing 10 jobs on 4 CPUs.\r\n",
      "Process 0 for \"kundur_p_11.59.xlsx\" started.\r\n",
      "Process 1 for \"kundur_p_11.85.xlsx\" started.\r\n",
      "Process 2 for \"kundur_p_12.11.xlsx\" started.\r\n",
      "Process 3 for \"kundur_p_12.36.xlsx\" started.\r\n"
     ]
    },
    {
     "name": "stdout",
     "output_type": "stream",
     "text": [
      "<Toggler 1>: Line.Line_8 status changed to 0 at t=2.0 sec.\r\n",
      "<Toggler 1>: Line.Line_8 status changed to 0 at t=2.0 sec.\r\n"
     ]
    },
    {
     "name": "stdout",
     "output_type": "stream",
     "text": [
      "<Toggler 1>: Line.Line_8 status changed to 0 at t=2.0 sec.\r\n",
      "<Toggler 1>: Line.Line_8 status changed to 0 at t=2.0 sec.\r\n"
     ]
    },
    {
     "name": "stdout",
     "output_type": "stream",
     "text": [
      "Process 4 for \"kundur_p_12.62.xlsx\" started.\r\n",
      "Process 5 for \"kundur_p_12.88.xlsx\" started.\r\n",
      "Process 6 for \"kundur_p_13.14.xlsx\" started.\r\n",
      "Process 7 for \"kundur_p_13.39.xlsx\" started.\r\n"
     ]
    },
    {
     "name": "stdout",
     "output_type": "stream",
     "text": [
      "<Toggler 1>: Line.Line_8 status changed to 0 at t=2.0 sec.\r\n",
      "<Toggler 1>: Line.Line_8 status changed to 0 at t=2.0 sec.\r\n",
      "<Toggler 1>: Line.Line_8 status changed to 0 at t=2.0 sec.\r\n"
     ]
    },
    {
     "name": "stdout",
     "output_type": "stream",
     "text": [
      "<Toggler 1>: Line.Line_8 status changed to 0 at t=2.0 sec.\r\n"
     ]
    },
    {
     "name": "stdout",
     "output_type": "stream",
     "text": [
      "Process 8 for \"kundur_p_13.65.xlsx\" started.\r\n",
      "Process 9 for \"kundur_p_13.91.xlsx\" started.\r\n"
     ]
    },
    {
     "name": "stdout",
     "output_type": "stream",
     "text": [
      "<Toggler 1>: Line.Line_8 status changed to 0 at t=2.0 sec.\r\n"
     ]
    },
    {
     "name": "stdout",
     "output_type": "stream",
     "text": [
      "<Toggler 1>: Line.Line_8 status changed to 0 at t=2.0 sec.\r\n"
     ]
    },
    {
     "name": "stdout",
     "output_type": "stream",
     "text": [
      "Log saved to \"/tmp/andes-_3egt072/andes.log\".\r\n",
      "-> Multiprocessing finished in 6.0618 seconds.\r\n"
     ]
    }
   ],
   "source": [
    "!andes run *.xlsx -r tds --ncpu 4"
   ]
  },
  {
   "cell_type": "markdown",
   "metadata": {},
   "source": [
    "### Running with APIs"
   ]
  },
  {
   "cell_type": "markdown",
   "metadata": {},
   "source": [
    "Setting `pool = True` allows returning all system instances in a list. \n",
    "\n",
    "This comes with a penalty in computation time but can be helpful if you want to extract data directly."
   ]
  },
  {
   "cell_type": "code",
   "execution_count": 11,
   "metadata": {
    "ExecuteTime": {
     "end_time": "2021-03-19T20:10:33.032221Z",
     "start_time": "2021-03-19T20:10:25.478687Z"
    },
    "execution": {
     "iopub.execute_input": "2021-09-26T22:42:05.447371Z",
     "iopub.status.busy": "2021-09-26T22:42:05.447062Z",
     "iopub.status.idle": "2021-09-26T22:42:09.102052Z",
     "shell.execute_reply": "2021-09-26T22:42:09.101494Z"
    }
   },
   "outputs": [
    {
     "name": "stderr",
     "output_type": "stream",
     "text": [
      "Working directory: \"/home/hcui7/repos/andes/examples/batch_cases\"\n"
     ]
    },
    {
     "name": "stderr",
     "output_type": "stream",
     "text": [
      "-> Processing 10 jobs on 32 CPUs.\n"
     ]
    },
    {
     "name": "stdout",
     "output_type": "stream",
     "text": [
      "<Toggler 1>: Line.Line_8 status changed to 0 at t=2.0 sec."
     ]
    },
    {
     "name": "stdout",
     "output_type": "stream",
     "text": [
      "\n"
     ]
    },
    {
     "name": "stdout",
     "output_type": "stream",
     "text": [
      "<Toggler 1>: Line.Line_8 status changed to 0 at t=2.0 sec."
     ]
    },
    {
     "name": "stdout",
     "output_type": "stream",
     "text": [
      "\n"
     ]
    },
    {
     "name": "stdout",
     "output_type": "stream",
     "text": [
      "<Toggler 1>: Line.Line_8 status changed to 0 at t=2.0 sec."
     ]
    },
    {
     "name": "stdout",
     "output_type": "stream",
     "text": [
      "\n"
     ]
    },
    {
     "name": "stdout",
     "output_type": "stream",
     "text": [
      "<Toggler 1>: Line.Line_8 status changed to 0 at t=2.0 sec."
     ]
    },
    {
     "name": "stdout",
     "output_type": "stream",
     "text": [
      "\n"
     ]
    },
    {
     "name": "stdout",
     "output_type": "stream",
     "text": [
      "<Toggler 1>: Line.Line_8 status changed to 0 at t=2.0 sec."
     ]
    },
    {
     "name": "stdout",
     "output_type": "stream",
     "text": [
      "\n"
     ]
    },
    {
     "name": "stdout",
     "output_type": "stream",
     "text": [
      "<Toggler 1>: Line.Line_8 status changed to 0 at t=2.0 sec."
     ]
    },
    {
     "name": "stdout",
     "output_type": "stream",
     "text": [
      "\n"
     ]
    },
    {
     "name": "stdout",
     "output_type": "stream",
     "text": [
      "<Toggler 1>: Line.Line_8 status changed to 0 at t=2.0 sec."
     ]
    },
    {
     "name": "stdout",
     "output_type": "stream",
     "text": [
      "\n"
     ]
    },
    {
     "name": "stdout",
     "output_type": "stream",
     "text": [
      "Cases are processed in the following order:\n",
      "\"kundur_p_11.59.xlsx\"\n",
      "\"kundur_p_11.85.xlsx\"\n",
      "\"kundur_p_12.11.xlsx\"\n",
      "\"kundur_p_12.36.xlsx\"\n",
      "\"kundur_p_12.62.xlsx\"\n",
      "\"kundur_p_12.88.xlsx\"\n",
      "\"kundur_p_13.14.xlsx\"\n",
      "\"kundur_p_13.39.xlsx\"\n",
      "\"kundur_p_13.65.xlsx\"\n",
      "\"kundur_p_13.91.xlsx\"\n"
     ]
    },
    {
     "name": "stdout",
     "output_type": "stream",
     "text": [
      "<Toggler 1>: Line.Line_8 status changed to 0 at t=2.0 sec."
     ]
    },
    {
     "name": "stdout",
     "output_type": "stream",
     "text": [
      "\n"
     ]
    },
    {
     "name": "stdout",
     "output_type": "stream",
     "text": [
      "<Toggler 1>: Line.Line_8 status changed to 0 at t=2.0 sec."
     ]
    },
    {
     "name": "stdout",
     "output_type": "stream",
     "text": [
      "\n"
     ]
    },
    {
     "name": "stdout",
     "output_type": "stream",
     "text": [
      "<Toggler 1>: Line.Line_8 status changed to 0 at t=2.0 sec."
     ]
    },
    {
     "name": "stdout",
     "output_type": "stream",
     "text": [
      "\n"
     ]
    },
    {
     "name": "stdout",
     "output_type": "stream",
     "text": [
      "Log saved to \"/tmp/andes-852ox1za/andes.log\".\n",
      "-> Multiprocessing finished in 3.6507 seconds.\n"
     ]
    }
   ],
   "source": [
    "systems = andes.run('*.xlsx', routine='tds', pool=True, verbose=10)"
   ]
  },
  {
   "cell_type": "code",
   "execution_count": 12,
   "metadata": {
    "ExecuteTime": {
     "end_time": "2021-03-19T20:10:33.040332Z",
     "start_time": "2021-03-19T20:10:33.033527Z"
    },
    "execution": {
     "iopub.execute_input": "2021-09-26T22:42:09.107478Z",
     "iopub.status.busy": "2021-09-26T22:42:09.107221Z",
     "iopub.status.idle": "2021-09-26T22:42:09.109556Z",
     "shell.execute_reply": "2021-09-26T22:42:09.109338Z"
    }
   },
   "outputs": [
    {
     "data": {
      "text/plain": [
       "<andes.system.System at 0x7fd3e97f7af0>"
      ]
     },
     "execution_count": 12,
     "metadata": {},
     "output_type": "execute_result"
    }
   ],
   "source": [
    "systems[0]"
   ]
  },
  {
   "cell_type": "code",
   "execution_count": 13,
   "metadata": {
    "ExecuteTime": {
     "end_time": "2021-03-19T20:10:33.047207Z",
     "start_time": "2021-03-19T20:10:33.041609Z"
    },
    "execution": {
     "iopub.execute_input": "2021-09-26T22:42:09.111483Z",
     "iopub.status.busy": "2021-09-26T22:42:09.111270Z",
     "iopub.status.idle": "2021-09-26T22:42:09.113745Z",
     "shell.execute_reply": "2021-09-26T22:42:09.113489Z"
    }
   },
   "outputs": [
    {
     "data": {
      "text/plain": [
       "[<andes.system.System at 0x7fd3e97f7af0>,\n",
       " <andes.system.System at 0x7fd3e9f688e0>,\n",
       " <andes.system.System at 0x7fd3e9101bb0>,\n",
       " <andes.system.System at 0x7fd3ec8a1a90>,\n",
       " <andes.system.System at 0x7fd3ea662700>,\n",
       " <andes.system.System at 0x7fd3ebaeb670>,\n",
       " <andes.system.System at 0x7fd3ec884c40>,\n",
       " <andes.system.System at 0x7fd3ea9e95b0>,\n",
       " <andes.system.System at 0x7fd3ec889580>,\n",
       " <andes.system.System at 0x7fd3ec24b670>]"
      ]
     },
     "execution_count": 13,
     "metadata": {},
     "output_type": "execute_result"
    }
   ],
   "source": [
    "systems"
   ]
  },
  {
   "cell_type": "markdown",
   "metadata": {},
   "source": [
    "### Example plots\n",
    "\n",
    "Plotting or data analyses can be carried out as usual."
   ]
  },
  {
   "cell_type": "code",
   "execution_count": 14,
   "metadata": {
    "ExecuteTime": {
     "end_time": "2021-03-19T20:10:33.050379Z",
     "start_time": "2021-03-19T20:10:33.048430Z"
    },
    "execution": {
     "iopub.execute_input": "2021-09-26T22:42:09.115842Z",
     "iopub.status.busy": "2021-09-26T22:42:09.115629Z",
     "iopub.status.idle": "2021-09-26T22:42:09.117447Z",
     "shell.execute_reply": "2021-09-26T22:42:09.117231Z"
    }
   },
   "outputs": [],
   "source": [
    "ss = systems[0]"
   ]
  },
  {
   "cell_type": "code",
   "execution_count": 15,
   "metadata": {
    "ExecuteTime": {
     "end_time": "2021-03-19T20:10:33.737935Z",
     "start_time": "2021-03-19T20:10:33.051823Z"
    },
    "execution": {
     "iopub.execute_input": "2021-09-26T22:42:09.119574Z",
     "iopub.status.busy": "2021-09-26T22:42:09.119265Z",
     "iopub.status.idle": "2021-09-26T22:42:09.474345Z",
     "shell.execute_reply": "2021-09-26T22:42:09.474077Z"
    }
   },
   "outputs": [
    {
     "data": {
      "image/png": "[encoded data removed]",
      "text/plain": [
       "<Figure size 600x400 with 1 Axes>"
      ]
     },
     "metadata": {
      "needs_background": "light"
     },
     "output_type": "display_data"
    },
    {
     "data": {
      "text/plain": [
       "(<Figure size 600x400 with 1 Axes>, <AxesSubplot:xlabel='Time [s]'>)"
      ]
     },
     "execution_count": 15,
     "metadata": {},
     "output_type": "execute_result"
    }
   ],
   "source": [
    "systems[0].TDS.plotter.plot(ss.GENROU.omega, latex=False)"
   ]
  },
  {
   "cell_type": "code",
   "execution_count": 16,
   "metadata": {
    "ExecuteTime": {
     "end_time": "2021-03-19T20:10:34.055974Z",
     "start_time": "2021-03-19T20:10:33.739566Z"
    },
    "execution": {
     "iopub.execute_input": "2021-09-26T22:42:09.484068Z",
     "iopub.status.busy": "2021-09-26T22:42:09.476367Z",
     "iopub.status.idle": "2021-09-26T22:42:09.572706Z",
     "shell.execute_reply": "2021-09-26T22:42:09.572415Z"
    }
   },
   "outputs": [
    {
     "data": {
      "image/png": "[encoded data removed]",
      "text/plain": [
       "<Figure size 600x400 with 1 Axes>"
      ]
     },
     "metadata": {
      "needs_background": "light"
     },
     "output_type": "display_data"
    },
    {
     "data": {
      "text/plain": [
       "(<Figure size 600x400 with 1 Axes>, <AxesSubplot:xlabel='Time [s]'>)"
      ]
     },
     "execution_count": 16,
     "metadata": {},
     "output_type": "execute_result"
    }
   ],
   "source": [
    "systems[5].TDS.plotter.plot(ss.GENROU.omega, latex=False)"
   ]
  },
  {
   "cell_type": "code",
   "execution_count": 17,
   "metadata": {
    "execution": {
     "iopub.execute_input": "2021-09-26T22:42:09.578808Z",
     "iopub.status.busy": "2021-09-26T22:42:09.574814Z",
     "iopub.status.idle": "2021-09-26T22:42:10.064485Z",
     "shell.execute_reply": "2021-09-26T22:42:10.064222Z"
    }
   },
   "outputs": [
    {
     "name": "stdout",
     "output_type": "stream",
     "text": [
      "shell-init: error retrieving current directory: getcwd: cannot access parent directories: No such file or directory\r\n"
     ]
    },
    {
     "name": "stdout",
     "output_type": "stream",
     "text": [
      "\r\n",
      "    _           _         | Version 1.4.2.post116.dev0+g832274a7\r\n",
      "   /_\\  _ _  __| |___ ___ | Python 3.9.6 on Linux, 09/26/2021 05:42:09 PM\r\n",
      "  / _ \\| ' \\/ _` / -_|_-< | \r\n",
      " /_/ \\_\\_||_\\__,_\\___/__/ | This program comes with ABSOLUTELY NO WARRANTY.\r\n",
      "\r\n",
      "Traceback (most recent call last):\r\n",
      "  File \"/home/hcui7/mambaforge/envs/a/bin/andes\", line 33, in <module>\r\n",
      "    sys.exit(load_entry_point('andes', 'console_scripts', 'andes')())\r\n",
      "  File \"/home/hcui7/repos/andes/andes/cli.py\", line 210, in main\r\n",
      "    return func(cli=True, **vars(args))\r\n",
      "  File \"/home/hcui7/repos/andes/andes/main.py\", line 681, in misc\r\n",
      "    remove_output(recursive)\r\n",
      "  File \"/home/hcui7/repos/andes/andes/main.py\", line 212, in remove_output\r\n",
      "    cwd = os.getcwd()\r\n",
      "FileNotFoundError: [Errno 2] No such file or directory\r\n"
     ]
    }
   ],
   "source": [
    "!andes misc -C"
   ]
  }
 ],
 "metadata": {
  "kernelspec": {
   "display_name": "Python 3",
   "language": "python",
   "name": "python3"
  },
  "language_info": {
   "codemirror_mode": {
    "name": "ipython",
    "version": 3
   },
   "file_extension": ".py",
   "mimetype": "text/x-python",
   "name": "python",
   "nbconvert_exporter": "python",
   "pygments_lexer": "ipython3",
   "version": "3.9.6"
  },
  "pycharm": {
   "stem_cell": {
    "cell_type": "raw",
    "metadata": {
     "collapsed": false
    },
    "source": []
   }
  },
  "varInspector": {
   "cols": {
    "lenName": 16,
    "lenType": 16,
    "lenVar": 40
   },
   "kernels_config": {
    "python": {
     "delete_cmd_postfix": "",
     "delete_cmd_prefix": "del ",
     "library": "var_list.py",
     "varRefreshCmd": "print(var_dic_list())"
    },
    "r": {
     "delete_cmd_postfix": ") ",
     "delete_cmd_prefix": "rm(",
     "library": "var_list.r",
     "varRefreshCmd": "cat(var_dic_list()) "
    }
   },
   "types_to_exclude": [
    "module",
    "function",
    "builtin_function_or_method",
    "instance",
    "_Feature"
   ],
   "window_display": false
  }
 },
 "nbformat": 4,
 "nbformat_minor": 4
}
