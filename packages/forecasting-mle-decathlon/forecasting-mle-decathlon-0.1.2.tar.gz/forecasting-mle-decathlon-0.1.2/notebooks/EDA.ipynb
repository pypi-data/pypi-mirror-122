{
 "cells": [
  {
   "cell_type": "code",
   "execution_count": 116,
   "id": "743bd9c2-e2e7-44d7-b407-14fbac071f09",
   "metadata": {},
   "outputs": [],
   "source": [
    "from typing import Dict, List\n",
    "import warnings\n",
    "\n",
    "import matplotlib.pyplot as plt\n",
    "import pandas as pd\n",
    "from pandas_profiling import ProfileReport\n",
    "import plotly.express as px\n",
    "\n",
    "\n",
    "warnings.simplefilter(\"ignore\")"
   ]
  },
  {
   "cell_type": "markdown",
   "id": "4d5c0341-1fc1-4353-a15e-ee9714a8dbff",
   "metadata": {},
   "source": [
    "## Load data"
   ]
  },
  {
   "cell_type": "code",
   "execution_count": 2,
   "id": "c288baab-8ae2-44cf-95fc-7882e7e87091",
   "metadata": {},
   "outputs": [],
   "source": [
    "def load_gz_csv_to_df(filepath: str) -> pd.DataFrame:\n",
    "    try:\n",
    "        return pd.read_csv(\n",
    "            filepath, \n",
    "            compression='gzip', \n",
    "            header=0, sep=',', \n",
    "            error_bad_lines=False\n",
    "        )\n",
    "    except FileNotFoundError:\n",
    "        exit(1)\n",
    "\n",
    "bu_df = load_gz_csv_to_df('data/bu_feat.csv.gz')\n",
    "train_df = load_gz_csv_to_df('data/train.csv.gz')\n",
    "test_df = load_gz_csv_to_df('data/train.csv.gz')"
   ]
  },
  {
   "cell_type": "code",
   "execution_count": 3,
   "id": "ebef2a15-e3b8-4309-8d52-8c7706a1fdd3",
   "metadata": {},
   "outputs": [
    {
     "data": {
      "text/html": [
       "<div>\n",
       "<style scoped>\n",
       "    .dataframe tbody tr th:only-of-type {\n",
       "        vertical-align: middle;\n",
       "    }\n",
       "\n",
       "    .dataframe tbody tr th {\n",
       "        vertical-align: top;\n",
       "    }\n",
       "\n",
       "    .dataframe thead th {\n",
       "        text-align: right;\n",
       "    }\n",
       "</style>\n",
       "<table border=\"1\" class=\"dataframe\">\n",
       "  <thead>\n",
       "    <tr style=\"text-align: right;\">\n",
       "      <th></th>\n",
       "      <th>but_num_business_unit</th>\n",
       "      <th>but_postcode</th>\n",
       "      <th>but_latitude</th>\n",
       "      <th>but_longitude</th>\n",
       "      <th>but_region_idr_region</th>\n",
       "      <th>zod_idr_zone_dgr</th>\n",
       "    </tr>\n",
       "  </thead>\n",
       "  <tbody>\n",
       "    <tr>\n",
       "      <th>0</th>\n",
       "      <td>1609</td>\n",
       "      <td>80100</td>\n",
       "      <td>50.096306</td>\n",
       "      <td>1.86722</td>\n",
       "      <td>69</td>\n",
       "      <td>4</td>\n",
       "    </tr>\n",
       "  </tbody>\n",
       "</table>\n",
       "</div>"
      ],
      "text/plain": [
       "   but_num_business_unit  but_postcode  but_latitude  but_longitude  \\\n",
       "0                   1609         80100     50.096306        1.86722   \n",
       "\n",
       "   but_region_idr_region  zod_idr_zone_dgr  \n",
       "0                     69                 4  "
      ]
     },
     "execution_count": 3,
     "metadata": {},
     "output_type": "execute_result"
    }
   ],
   "source": [
    "bu_df.head(1)"
   ]
  },
  {
   "cell_type": "code",
   "execution_count": 4,
   "id": "9ab12664-6d7e-4615-9ae3-7b4127f5afae",
   "metadata": {},
   "outputs": [
    {
     "data": {
      "text/html": [
       "<div>\n",
       "<style scoped>\n",
       "    .dataframe tbody tr th:only-of-type {\n",
       "        vertical-align: middle;\n",
       "    }\n",
       "\n",
       "    .dataframe tbody tr th {\n",
       "        vertical-align: top;\n",
       "    }\n",
       "\n",
       "    .dataframe thead th {\n",
       "        text-align: right;\n",
       "    }\n",
       "</style>\n",
       "<table border=\"1\" class=\"dataframe\">\n",
       "  <thead>\n",
       "    <tr style=\"text-align: right;\">\n",
       "      <th></th>\n",
       "      <th>day_id</th>\n",
       "      <th>but_num_business_unit</th>\n",
       "      <th>dpt_num_department</th>\n",
       "      <th>turnover</th>\n",
       "    </tr>\n",
       "  </thead>\n",
       "  <tbody>\n",
       "    <tr>\n",
       "      <th>0</th>\n",
       "      <td>2017-09-30</td>\n",
       "      <td>64</td>\n",
       "      <td>127</td>\n",
       "      <td>580.308443</td>\n",
       "    </tr>\n",
       "  </tbody>\n",
       "</table>\n",
       "</div>"
      ],
      "text/plain": [
       "       day_id  but_num_business_unit  dpt_num_department    turnover\n",
       "0  2017-09-30                     64                 127  580.308443"
      ]
     },
     "execution_count": 4,
     "metadata": {},
     "output_type": "execute_result"
    }
   ],
   "source": [
    "train_df.head(1)"
   ]
  },
  {
   "cell_type": "code",
   "execution_count": 5,
   "id": "f2e53771-a287-4f1b-a3ce-bf2eadae3ef2",
   "metadata": {},
   "outputs": [
    {
     "data": {
      "text/html": [
       "<div>\n",
       "<style scoped>\n",
       "    .dataframe tbody tr th:only-of-type {\n",
       "        vertical-align: middle;\n",
       "    }\n",
       "\n",
       "    .dataframe tbody tr th {\n",
       "        vertical-align: top;\n",
       "    }\n",
       "\n",
       "    .dataframe thead th {\n",
       "        text-align: right;\n",
       "    }\n",
       "</style>\n",
       "<table border=\"1\" class=\"dataframe\">\n",
       "  <thead>\n",
       "    <tr style=\"text-align: right;\">\n",
       "      <th></th>\n",
       "      <th>day_id</th>\n",
       "      <th>but_num_business_unit</th>\n",
       "      <th>dpt_num_department</th>\n",
       "      <th>turnover</th>\n",
       "    </tr>\n",
       "  </thead>\n",
       "  <tbody>\n",
       "    <tr>\n",
       "      <th>0</th>\n",
       "      <td>2017-09-30</td>\n",
       "      <td>64</td>\n",
       "      <td>127</td>\n",
       "      <td>580.308443</td>\n",
       "    </tr>\n",
       "  </tbody>\n",
       "</table>\n",
       "</div>"
      ],
      "text/plain": [
       "       day_id  but_num_business_unit  dpt_num_department    turnover\n",
       "0  2017-09-30                     64                 127  580.308443"
      ]
     },
     "execution_count": 5,
     "metadata": {},
     "output_type": "execute_result"
    }
   ],
   "source": [
    "test_df.head(1)"
   ]
  },
  {
   "cell_type": "markdown",
   "id": "bd1b4112-28f9-4b0f-8a6c-6961962086ba",
   "metadata": {},
   "source": [
    "My remarks: I find that the naming of the columns is not necessarily coherent. I found the following anomalies:\n",
    " * day_id : We are talking about a date and not a day, Moreover the term id is not necessarily appropriate here\n",
    " * The term department to talk about a commercial department of decathlon is confusing with geographical data\n",
    " * zod_idr_zone_dgr ? What is the meaning of this column ?"
   ]
  },
  {
   "cell_type": "markdown",
   "id": "0c852664-3190-4ae6-bec9-e01d3a2eb8a5",
   "metadata": {},
   "source": [
    "## UTILS"
   ]
  },
  {
   "cell_type": "code",
   "execution_count": 123,
   "id": "b4524e79-42cd-4197-abdf-c079aedc8a68",
   "metadata": {},
   "outputs": [],
   "source": [
    "def agg_turnover_by_year_and_week_number_for_dpt(df: pd.DataFrame, dpt: int) -> pd.DataFrame:\n",
    "    return (df[df[\"dpt_num_department\"] == dpt]\n",
    "     .groupby([\"week_number\", \"year\"], as_index=False)\n",
    "     .agg({\"turnover\": [\"sum\"]})[[\"turnover\", \"week_number\", \"year\"]]\n",
    "     .sort_values(by=[\"year\", \"week_number\"])\n",
    "    )\n",
    "\n",
    "def create_list_of_df_by_year(df: pd.DataFrame, years: List[int]) -> Dict[int, pd.DataFrame]:\n",
    "    return {year: df[df[\"year\"] == year ]for year in years}\n",
    "\n",
    "def plot_turnover_by_year(dfs: Dict[int, pd.DataFrame], title: str, xlabel: str, ylabel: str):\n",
    "    for (key, value) in dfs.items():\n",
    "        plt.plot(value[\"week_number\"],\n",
    "            value[\"turnover\"][\"sum\"],\n",
    "            label=str(key),\n",
    "        )\n",
    "    plt.title(title)\n",
    "    plt.xlabel(xlabel)\n",
    "    plt.ylabel(ylabel)\n",
    "    plt.legend()"
   ]
  },
  {
   "cell_type": "markdown",
   "id": "279f65a2-aa2d-4faa-9b93-d8cd52b7a51f",
   "metadata": {},
   "source": [
    "## EDA"
   ]
  },
  {
   "cell_type": "markdown",
   "id": "adaf3c03-19c3-4e0c-8cba-c7d56b3f27c1",
   "metadata": {},
   "source": [
    "### Quick EDA training data"
   ]
  },
  {
   "cell_type": "code",
   "execution_count": 6,
   "id": "4df4929f-5313-4fdc-9cab-131d57b7bd96",
   "metadata": {},
   "outputs": [],
   "source": [
    "profile_train_df = ProfileReport(train_df, title=\"Pandas Profiling training df\")"
   ]
  },
  {
   "cell_type": "code",
   "execution_count": 7,
   "id": "b5bba4c8-7267-4a68-9cca-24732aaa5207",
   "metadata": {},
   "outputs": [
    {
     "data": {
      "application/vnd.jupyter.widget-view+json": {
       "model_id": "3931176b1da84feda9a3ed3ed7126319",
       "version_major": 2,
       "version_minor": 0
      },
      "text/plain": [
       "Summarize dataset:   0%|          | 0/17 [00:00<?, ?it/s]"
      ]
     },
     "metadata": {},
     "output_type": "display_data"
    },
    {
     "data": {
      "application/vnd.jupyter.widget-view+json": {
       "model_id": "e25a2b5d538d47e684bfef3939c95718",
       "version_major": 2,
       "version_minor": 0
      },
      "text/plain": [
       "Generate report structure:   0%|          | 0/1 [00:00<?, ?it/s]"
      ]
     },
     "metadata": {},
     "output_type": "display_data"
    },
    {
     "data": {
      "application/vnd.jupyter.widget-view+json": {
       "model_id": "",
       "version_major": 2,
       "version_minor": 0
      },
      "text/plain": [
       "Render widgets:   0%|          | 0/1 [00:00<?, ?it/s]"
      ]
     },
     "metadata": {},
     "output_type": "display_data"
    },
    {
     "data": {
      "application/vnd.jupyter.widget-view+json": {
       "model_id": "cb907b9e532944ef9b7c5afa52ad78c8",
       "version_major": 2,
       "version_minor": 0
      },
      "text/plain": [
       "VBox(children=(Tab(children=(Tab(children=(GridBox(children=(VBox(children=(GridspecLayout(children=(HTML(valu…"
      ]
     },
     "metadata": {},
     "output_type": "display_data"
    }
   ],
   "source": [
    "profile_train_df.to_widgets()\n"
   ]
  },
  {
   "cell_type": "markdown",
   "id": "b59617c1-7812-4df2-b75a-7e2e9f81c0ae",
   "metadata": {},
   "source": [
    "Conclusion:\n",
    "* Turnover (CA) is correlated to the num of decathlon unit department \n",
    "* Turnover is skewed, we need to take this information into account for the training/inference\n",
    "* Some Turnover values are null, I need more information to decide if they are anomalies \n",
    "* No missing data\n",
    "* We have only 4 differents departments"
   ]
  },
  {
   "cell_type": "markdown",
   "id": "2bdcb8c8-4e4f-400e-be8e-f5242f083bdf",
   "metadata": {},
   "source": [
    "### Quick EDA business unit data"
   ]
  },
  {
   "cell_type": "code",
   "execution_count": 8,
   "id": "8e4c5b2e-ee1a-4328-836d-054a60718578",
   "metadata": {},
   "outputs": [],
   "source": [
    "profile_bu_df = ProfileReport(bu_df, title=\"Pandas Profiling bu df\")"
   ]
  },
  {
   "cell_type": "code",
   "execution_count": 9,
   "id": "18cb8b8d-b49b-468b-856e-0a6c51a33ede",
   "metadata": {},
   "outputs": [
    {
     "data": {
      "application/vnd.jupyter.widget-view+json": {
       "model_id": "1fa58bc5c5d04058928d3654186f24e5",
       "version_major": 2,
       "version_minor": 0
      },
      "text/plain": [
       "Summarize dataset:   0%|          | 0/19 [00:00<?, ?it/s]"
      ]
     },
     "metadata": {},
     "output_type": "display_data"
    },
    {
     "data": {
      "application/vnd.jupyter.widget-view+json": {
       "model_id": "f2d89762f00648dab2a415a76567018c",
       "version_major": 2,
       "version_minor": 0
      },
      "text/plain": [
       "Generate report structure:   0%|          | 0/1 [00:00<?, ?it/s]"
      ]
     },
     "metadata": {},
     "output_type": "display_data"
    },
    {
     "data": {
      "application/vnd.jupyter.widget-view+json": {
       "model_id": "",
       "version_major": 2,
       "version_minor": 0
      },
      "text/plain": [
       "Render widgets:   0%|          | 0/1 [00:00<?, ?it/s]"
      ]
     },
     "metadata": {},
     "output_type": "display_data"
    },
    {
     "data": {
      "application/vnd.jupyter.widget-view+json": {
       "model_id": "8976413f370b4b4cb0517ebe9cb5ec3c",
       "version_major": 2,
       "version_minor": 0
      },
      "text/plain": [
       "VBox(children=(Tab(children=(Tab(children=(GridBox(children=(VBox(children=(GridspecLayout(children=(HTML(valu…"
      ]
     },
     "metadata": {},
     "output_type": "display_data"
    }
   ],
   "source": [
    "profile_bu_df.to_widgets()"
   ]
  },
  {
   "cell_type": "markdown",
   "id": "a00d1041-a473-4877-b94d-4485cf488448",
   "metadata": {},
   "source": [
    "Conclusion:\n",
    "* What is the meaning of zod_idr_zone_dgr ?\n",
    "* What is the meaning of but_region_idr_region ? \n",
    "* Postcode is correlated to the latitude and longitude, no surprise about that\n"
   ]
  },
  {
   "cell_type": "markdown",
   "id": "a5cc22c2-1017-4bb6-8482-c22b05c51553",
   "metadata": {},
   "source": [
    "## Preliminary questions & data exploration\n",
    "### a. Which department made the highest turnover in 2016?"
   ]
  },
  {
   "cell_type": "code",
   "execution_count": 126,
   "id": "eec2de10-c373-4650-9b40-98379a24edd6",
   "metadata": {},
   "outputs": [],
   "source": [
    "train_df[\"day_id\"] = pd.to_datetime(train_df[\"day_id\"], format=\"%Y-%m-%d\")\n",
    "train_df[\"week_number\"] = train_df[\"day_id\"].dt.week\n",
    "train_df[\"year\"] = train_df[\"day_id\"].dt.year"
   ]
  },
  {
   "cell_type": "code",
   "execution_count": 30,
   "id": "b02c67f1-c8d8-432b-9e77-8079b301b492",
   "metadata": {},
   "outputs": [
    {
     "data": {
      "text/html": [
       "<div>\n",
       "<style scoped>\n",
       "    .dataframe tbody tr th:only-of-type {\n",
       "        vertical-align: middle;\n",
       "    }\n",
       "\n",
       "    .dataframe tbody tr th {\n",
       "        vertical-align: top;\n",
       "    }\n",
       "\n",
       "    .dataframe thead th {\n",
       "        text-align: right;\n",
       "    }\n",
       "</style>\n",
       "<table border=\"1\" class=\"dataframe\">\n",
       "  <thead>\n",
       "    <tr style=\"text-align: right;\">\n",
       "      <th></th>\n",
       "      <th>sum</th>\n",
       "    </tr>\n",
       "    <tr>\n",
       "      <th>dpt_num_department</th>\n",
       "      <th></th>\n",
       "    </tr>\n",
       "  </thead>\n",
       "  <tbody>\n",
       "    <tr>\n",
       "      <th>127</th>\n",
       "      <td>3.378005e+07</td>\n",
       "    </tr>\n",
       "  </tbody>\n",
       "</table>\n",
       "</div>"
      ],
      "text/plain": [
       "                             sum\n",
       "dpt_num_department              \n",
       "127                 3.378005e+07"
      ]
     },
     "execution_count": 30,
     "metadata": {},
     "output_type": "execute_result"
    }
   ],
   "source": [
    "(train_df[\n",
    "        (train_df.day_id >= \"2016-01-01\")&(train_df.day_id <= \"2016-12-31\")\n",
    "    ]\n",
    "     .groupby([\"dpt_num_department\"])\n",
    "     .agg({\"turnover\": [\"sum\"]})[\"turnover\"]\n",
    "     .sort_values(by=\"sum\", ascending = False)\n",
    "     .head(1)\n",
    ")"
   ]
  },
  {
   "cell_type": "markdown",
   "id": "2b60170e-cb0a-4cae-97a1-0fdc1b446e7a",
   "metadata": {},
   "source": [
    "The department with the highest turnover in 2016 was department 127."
   ]
  },
  {
   "cell_type": "markdown",
   "id": "585fa9f7-b211-4367-9f93-9c6f31324a4e",
   "metadata": {},
   "source": [
    "### What are the top 5 week numbers (1 to 53) for department 88 in 2015 in terms of turnover over all stores?"
   ]
  },
  {
   "cell_type": "code",
   "execution_count": 45,
   "id": "0f381479-171e-4dff-9f21-d30d78c0760b",
   "metadata": {},
   "outputs": [
    {
     "data": {
      "text/html": [
       "<div>\n",
       "<style scoped>\n",
       "    .dataframe tbody tr th:only-of-type {\n",
       "        vertical-align: middle;\n",
       "    }\n",
       "\n",
       "    .dataframe tbody tr th {\n",
       "        vertical-align: top;\n",
       "    }\n",
       "\n",
       "    .dataframe thead th {\n",
       "        text-align: right;\n",
       "    }\n",
       "</style>\n",
       "<table border=\"1\" class=\"dataframe\">\n",
       "  <thead>\n",
       "    <tr style=\"text-align: right;\">\n",
       "      <th></th>\n",
       "      <th>sum</th>\n",
       "    </tr>\n",
       "    <tr>\n",
       "      <th>week_number</th>\n",
       "      <th></th>\n",
       "    </tr>\n",
       "  </thead>\n",
       "  <tbody>\n",
       "    <tr>\n",
       "      <th>27</th>\n",
       "      <td>141679.864768</td>\n",
       "    </tr>\n",
       "    <tr>\n",
       "      <th>37</th>\n",
       "      <td>139674.400588</td>\n",
       "    </tr>\n",
       "    <tr>\n",
       "      <th>36</th>\n",
       "      <td>137825.642436</td>\n",
       "    </tr>\n",
       "    <tr>\n",
       "      <th>38</th>\n",
       "      <td>137232.460861</td>\n",
       "    </tr>\n",
       "    <tr>\n",
       "      <th>28</th>\n",
       "      <td>125835.541415</td>\n",
       "    </tr>\n",
       "  </tbody>\n",
       "</table>\n",
       "</div>"
      ],
      "text/plain": [
       "                       sum\n",
       "week_number               \n",
       "27           141679.864768\n",
       "37           139674.400588\n",
       "36           137825.642436\n",
       "38           137232.460861\n",
       "28           125835.541415"
      ]
     },
     "execution_count": 45,
     "metadata": {},
     "output_type": "execute_result"
    }
   ],
   "source": [
    "(train_df[(train_df[\"day_id\"].dt.year == 2015)&(train_df[\"dpt_num_department\"] == 88)]\n",
    "     .groupby([\"week_number\"])\n",
    "     .agg({\"turnover\": [\"sum\"]})[\"turnover\"]\n",
    "     .sort_values(\"sum\", ascending = False)\n",
    "     .head(5)\n",
    ")"
   ]
  },
  {
   "cell_type": "markdown",
   "id": "1a2c3c0f-2900-49ef-8c96-ab2ad4d9e8f6",
   "metadata": {},
   "source": [
    "The top 5 weeks for department 88 in 2015 are:\n",
    "* 27 (29th june to 5th of July)\n",
    "* 37 (7th of september to 13th of september)\n",
    "* 36 (31st of august to 6th of september)\n",
    "* 38 (14th of september to 20th of september)\n",
    "* 28 (6th of july to 12th of july)"
   ]
  },
  {
   "cell_type": "markdown",
   "id": "5128fc86-ecad-47e9-82b7-2b020d5702bb",
   "metadata": {},
   "source": [
    "### c. What was the top performer store in 2014?"
   ]
  },
  {
   "cell_type": "code",
   "execution_count": 47,
   "id": "26450d9e-5db6-43c7-ae91-db667642bb7a",
   "metadata": {},
   "outputs": [
    {
     "data": {
      "text/html": [
       "<div>\n",
       "<style scoped>\n",
       "    .dataframe tbody tr th:only-of-type {\n",
       "        vertical-align: middle;\n",
       "    }\n",
       "\n",
       "    .dataframe tbody tr th {\n",
       "        vertical-align: top;\n",
       "    }\n",
       "\n",
       "    .dataframe thead th {\n",
       "        text-align: right;\n",
       "    }\n",
       "</style>\n",
       "<table border=\"1\" class=\"dataframe\">\n",
       "  <thead>\n",
       "    <tr style=\"text-align: right;\">\n",
       "      <th></th>\n",
       "      <th>sum</th>\n",
       "    </tr>\n",
       "    <tr>\n",
       "      <th>but_num_business_unit</th>\n",
       "      <th></th>\n",
       "    </tr>\n",
       "  </thead>\n",
       "  <tbody>\n",
       "    <tr>\n",
       "      <th>121</th>\n",
       "      <td>327806.356464</td>\n",
       "    </tr>\n",
       "    <tr>\n",
       "      <th>17</th>\n",
       "      <td>311496.294164</td>\n",
       "    </tr>\n",
       "    <tr>\n",
       "      <th>118</th>\n",
       "      <td>301938.962571</td>\n",
       "    </tr>\n",
       "    <tr>\n",
       "      <th>189</th>\n",
       "      <td>296147.653207</td>\n",
       "    </tr>\n",
       "    <tr>\n",
       "      <th>100</th>\n",
       "      <td>285379.195910</td>\n",
       "    </tr>\n",
       "  </tbody>\n",
       "</table>\n",
       "</div>"
      ],
      "text/plain": [
       "                                 sum\n",
       "but_num_business_unit               \n",
       "121                    327806.356464\n",
       "17                     311496.294164\n",
       "118                    301938.962571\n",
       "189                    296147.653207\n",
       "100                    285379.195910"
      ]
     },
     "execution_count": 47,
     "metadata": {},
     "output_type": "execute_result"
    }
   ],
   "source": [
    "(train_df[(train_df[\"day_id\"].dt.year == 2014)]\n",
    "     .groupby([\"but_num_business_unit\"])\n",
    "     .agg({\"turnover\": [\"sum\"]})[\"turnover\"]\n",
    "     .sort_values(\"sum\", ascending = False)\n",
    "     .head(5)\n",
    ")"
   ]
  },
  {
   "cell_type": "markdown",
   "id": "9c5b0881-c1be-4f56-be17-756da2c4cf3e",
   "metadata": {},
   "source": [
    "### d. Based on sales can you guess what kind of sport represents departement 73?"
   ]
  },
  {
   "cell_type": "code",
   "execution_count": 128,
   "id": "da530d8f-0491-4efc-96f5-598913708604",
   "metadata": {},
   "outputs": [
    {
     "data": {
      "image/png": "[encoded data removed]",
      "text/plain": [
       "<Figure size 432x288 with 1 Axes>"
      ]
     },
     "metadata": {
      "needs_background": "light"
     },
     "output_type": "display_data"
    }
   ],
   "source": [
    "dpt_73_turnover_year_and_week_nb_df = agg_turnover_by_year_and_week_number_for_dpt(train_df, 73)\n",
    "list_dpt_73_turnover_by_year_df =  create_list_of_df_by_year(\n",
    "    dpt_73_turnover_year_and_week_nb_df, \n",
    "    [2015, 2016, 2017]\n",
    ")\n",
    "plot_turnover_by_year(\n",
    "    list_dpt_73_turnover_by_year_df, \n",
    "    title=\"Dpt 73 turnover by week number\", \n",
    "    xlabel=\"week number\", \n",
    "    ylabel=\"turnover\",\n",
    ")"
   ]
  },
  {
   "cell_type": "markdown",
   "id": "5b8589f8-387b-4c06-bc99-7acd4da2d83d",
   "metadata": {},
   "source": [
    "Based on the turnover of these 3 years, we can see a seasonality that could be verified from a statistical point of view. This seasonality indicates us a strong evolution of the sales during the summer, which lets me think that this department contains aquatic sports but not that we notice sales throughout the year."
   ]
  },
  {
   "cell_type": "markdown",
   "id": "44540903-deb7-4887-b190-b56dbe7e49a9",
   "metadata": {},
   "source": [
    "### e. Based on sales can you guess what kind of sport represents departement 117?"
   ]
  },
  {
   "cell_type": "code",
   "execution_count": 129,
   "id": "badd562f-f313-46fd-b28a-b4a62381e7b6",
   "metadata": {},
   "outputs": [
    {
     "data": {
      "image/png": "[encoded data removed]",
      "text/plain": [
       "<Figure size 432x288 with 1 Axes>"
      ]
     },
     "metadata": {
      "needs_background": "light"
     },
     "output_type": "display_data"
    }
   ],
   "source": [
    "dpt_117_turnover_year_and_week_nb_df = agg_turnover_by_year_and_week_number_for_dpt(train_df, 117)\n",
    "list_dpt_117_turnover_by_year_df =  create_list_of_df_by_year(\n",
    "    dpt_117_turnover_year_and_week_nb_df, \n",
    "    [2015, 2016, 2017]\n",
    ")\n",
    "plot_turnover_by_year(\n",
    "    list_dpt_117_turnover_by_year_df, \n",
    "    title=\"Dpt 117 turnover by week number\", \n",
    "    xlabel=\"week number\", \n",
    "    ylabel=\"turnover\",\n",
    ")"
   ]
  },
  {
   "cell_type": "markdown",
   "id": "c4ef1eab-7744-4b23-a253-74c95cbe9fd4",
   "metadata": {},
   "source": [
    "On the contrary, the turnover of department 117 shows us a seasonality only during winter and almost no sales during winter. We can therefore hypothesize that this department mainly includes winter sports (skiing, snowboarding, winter clothing, etc.)"
   ]
  },
  {
   "cell_type": "markdown",
   "id": "771439f9-71d4-4b0d-a4de-3d9805d5159b",
   "metadata": {},
   "source": [
    "### f. What other insights can you draw from the data? Provide plots and figures if\n",
    "needed. (Optional)"
   ]
  },
  {
   "cell_type": "markdown",
   "id": "6494cabc-34f7-46a4-89c5-8369fe2a6ba8",
   "metadata": {},
   "source": [
    "TO DO, IF I HAVE EXTRA TIME"
   ]
  },
  {
   "cell_type": "code",
   "execution_count": null,
   "id": "196a39c5-b590-4feb-8298-d61d0307ed4c",
   "metadata": {},
   "outputs": [],
   "source": []
  }
 ],
 "metadata": {
  "kernelspec": {
   "display_name": "Python 3 (ipykernel)",
   "language": "python",
   "name": "python3"
  },
  "language_info": {
   "codemirror_mode": {
    "name": "ipython",
    "version": 3
   },
   "file_extension": ".py",
   "mimetype": "text/x-python",
   "name": "python",
   "nbconvert_exporter": "python",
   "pygments_lexer": "ipython3",
   "version": "3.8.11"
  }
 },
 "nbformat": 4,
 "nbformat_minor": 5
}
