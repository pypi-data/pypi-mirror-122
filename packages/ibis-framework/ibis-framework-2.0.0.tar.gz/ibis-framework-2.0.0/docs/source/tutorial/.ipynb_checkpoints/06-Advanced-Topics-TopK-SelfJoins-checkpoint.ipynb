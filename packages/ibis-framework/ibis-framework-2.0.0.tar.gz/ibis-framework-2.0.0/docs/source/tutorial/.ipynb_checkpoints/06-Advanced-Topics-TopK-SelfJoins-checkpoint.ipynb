{
 "cells": [
  {
   "cell_type": "markdown",
   "metadata": {},
   "source": [
    "# Advanced Topics: Top-K and Self Joins"
   ]
  },
  {
   "cell_type": "markdown",
   "metadata": {},
   "source": [
    "## Setup"
   ]
  },
  {
   "cell_type": "code",
   "execution_count": 1,
   "metadata": {},
   "outputs": [],
   "source": [
    "import os\n",
    "import ibis\n",
    "\n",
    "ibis.options.interactive = True\n",
    "\n",
    "connection = ibis.sqlite.connect(os.path.join('data', 'geography.db'))"
   ]
  },
  {
   "cell_type": "markdown",
   "metadata": {},
   "source": [
    "## \"Top-K\" Filtering\n",
    "\n",
    "\n",
    "A common analytical pattern involves subsetting based on some method of ranking. For example, \"the 5 most frequently occurring widgets in a dataset\". By choosing the right metric, you can obtain the most important or least important items from some dimension, for some definition of important.\n",
    "\n",
    "To carry out the pattern by hand involves the following\n",
    "\n",
    "- Choose a ranking metric\n",
    "- Aggregate, computing the ranking metric, by the target dimension\n",
    "- Order by the ranking metric and take the highest K values\n",
    "- Use those values as a set filter (either with `semi_join` or `isin`) in your next query\n",
    "\n",
    "For example, let's look at the TPC-H tables and find the 5 or 10 customers who placed the most orders over their lifetime:"
   ]
  },
  {
   "cell_type": "code",
   "execution_count": 3,
   "metadata": {},
   "outputs": [
    {
     "data": {
      "text/plain": [
       "    iso_alpha2 iso_alpha3  iso_numeric fips                  name  \\\n",
       "0           AD        AND           20   AN               Andorra   \n",
       "1           AE        ARE          784   AE  United Arab Emirates   \n",
       "2           AF        AFG            4   AF           Afghanistan   \n",
       "3           AG        ATG           28   AC   Antigua and Barbuda   \n",
       "4           AI        AIA          660   AV              Anguilla   \n",
       "..         ...        ...          ...  ...                   ...   \n",
       "247         YE        YEM          887   YM                 Yemen   \n",
       "248         YT        MYT          175   MF               Mayotte   \n",
       "249         ZA        ZAF          710   SF          South Africa   \n",
       "250         ZM        ZMB          894   ZA                Zambia   \n",
       "251         ZW        ZWE          716   ZI              Zimbabwe   \n",
       "\n",
       "              capital   area_km2  population continent  \n",
       "0    Andorra la Vella      468.0       84000        EU  \n",
       "1           Abu Dhabi    82880.0     4975593        AS  \n",
       "2               Kabul   647500.0    29121286        AS  \n",
       "3           St. Johns      443.0       86754        NA  \n",
       "4          The Valley      102.0       13254        NA  \n",
       "..                ...        ...         ...       ...  \n",
       "247             Sanaa   527970.0    23495361        AS  \n",
       "248         Mamoudzou      374.0      159042        AF  \n",
       "249          Pretoria  1219912.0    49000000        AF  \n",
       "250            Lusaka   752614.0    13460305        AF  \n",
       "251            Harare   390580.0    13061000        AF  \n",
       "\n",
       "[252 rows x 9 columns]"
      ]
     },
     "execution_count": 3,
     "metadata": {},
     "output_type": "execute_result"
    }
   ],
   "source": [
    "countries = connection.table('countries')\n",
    "countries"
   ]
  },
  {
   "cell_type": "code",
   "execution_count": 2,
   "metadata": {},
   "outputs": [
    {
     "data": {
      "text/plain": [
       "     size  count\n",
       "0     big     46\n",
       "1  medium     70\n",
       "2   small    136"
      ]
     },
     "execution_count": 2,
     "metadata": {},
     "output_type": "execute_result"
    }
   ],
   "source": [
    "countries = connection.table('countries')\n",
    "\n",
    "country_size = (\n",
    "    ibis.case()\n",
    "    .when(countries.population > 25_000_000, 'big')\n",
    "    .when(countries.population < 5_000_000, 'small')\n",
    "    .else_('medium')\n",
    "    .end()\n",
    "    .name('size')\n",
    ")\n",
    "\n",
    "countries.group_by(country_size).size()"
   ]
  },
  {
   "cell_type": "code",
   "execution_count": 17,
   "metadata": {},
   "outputs": [
    {
     "data": {
      "text/plain": [
       "  continent  count\n",
       "0        AF     58\n",
       "1        EU     54\n",
       "2        AS     51"
      ]
     },
     "execution_count": 17,
     "metadata": {},
     "output_type": "execute_result"
    }
   ],
   "source": [
    "continents_with_many_countries = (\n",
    "    countries.group_by('continent').size().sort_by(('count', False)).limit(3)\n",
    ")\n",
    "continents_with_many_countries"
   ]
  },
  {
   "cell_type": "code",
   "execution_count": 25,
   "metadata": {},
   "outputs": [
    {
     "data": {
      "text/plain": [
       "    iso_alpha2 iso_alpha3  iso_numeric fips                  name  \\\n",
       "0           AD        AND           20   AN               Andorra   \n",
       "1           AE        ARE          784   AE  United Arab Emirates   \n",
       "2           AF        AFG            4   AF           Afghanistan   \n",
       "3           AL        ALB            8   AL               Albania   \n",
       "4           AM        ARM           51   AM               Armenia   \n",
       "..         ...        ...          ...  ...                   ...   \n",
       "158         YE        YEM          887   YM                 Yemen   \n",
       "159         YT        MYT          175   MF               Mayotte   \n",
       "160         ZA        ZAF          710   SF          South Africa   \n",
       "161         ZM        ZMB          894   ZA                Zambia   \n",
       "162         ZW        ZWE          716   ZI              Zimbabwe   \n",
       "\n",
       "              capital   area_km2  population continent  \n",
       "0    Andorra la Vella      468.0       84000        EU  \n",
       "1           Abu Dhabi    82880.0     4975593        AS  \n",
       "2               Kabul   647500.0    29121286        AS  \n",
       "3              Tirana    28748.0     2986952        EU  \n",
       "4             Yerevan    29800.0     2968000        AS  \n",
       "..                ...        ...         ...       ...  \n",
       "158             Sanaa   527970.0    23495361        AS  \n",
       "159         Mamoudzou      374.0      159042        AF  \n",
       "160          Pretoria  1219912.0    49000000        AF  \n",
       "161            Lusaka   752614.0    13460305        AF  \n",
       "162            Harare   390580.0    13061000        AF  \n",
       "\n",
       "[163 rows x 9 columns]"
      ]
     },
     "execution_count": 25,
     "metadata": {},
     "output_type": "execute_result"
    }
   ],
   "source": [
    "countries[countries.continent.isin(continents_with_many_countries.continent)]"
   ]
  },
  {
   "cell_type": "markdown",
   "metadata": {},
   "source": [
    "Now, we could use these customer keys as a filter in some other analysis:"
   ]
  },
  {
   "cell_type": "code",
   "execution_count": 5,
   "metadata": {},
   "outputs": [
    {
     "data": {
      "text/plain": [
       "     size  count\n",
       "0     big     38\n",
       "1  medium     57\n",
       "2   small     68"
      ]
     },
     "execution_count": 5,
     "metadata": {},
     "output_type": "execute_result"
    }
   ],
   "source": [
    "# Among the top 3 continents with more countries, what's the number of countries by size?\n",
    "analysis = (\n",
    "    countries[\n",
    "        countries.continent.isin(continents_with_many_countries.continent)\n",
    "    ]\n",
    "    .group_by(country_size)\n",
    "    .size()\n",
    ")\n",
    "analysis"
   ]
  },
  {
   "cell_type": "markdown",
   "metadata": {},
   "source": [
    "This is such a common pattern that Ibis supports a high level primitive `topk` operation, which can be used immediately as a filter:"
   ]
  },
  {
   "cell_type": "code",
   "execution_count": 24,
   "metadata": {},
   "outputs": [
    {
     "data": {
      "text/plain": [
       "    iso_alpha2 iso_alpha3  iso_numeric fips                  name  \\\n",
       "0           AD        AND           20   AN               Andorra   \n",
       "1           AE        ARE          784   AE  United Arab Emirates   \n",
       "2           AF        AFG            4   AF           Afghanistan   \n",
       "3           AG        ATG           28   AC   Antigua and Barbuda   \n",
       "4           AI        AIA          660   AV              Anguilla   \n",
       "..         ...        ...          ...  ...                   ...   \n",
       "247         YE        YEM          887   YM                 Yemen   \n",
       "248         YT        MYT          175   MF               Mayotte   \n",
       "249         ZA        ZAF          710   SF          South Africa   \n",
       "250         ZM        ZMB          894   ZA                Zambia   \n",
       "251         ZW        ZWE          716   ZI              Zimbabwe   \n",
       "\n",
       "              capital   area_km2  population continent  \n",
       "0    Andorra la Vella      468.0       84000        EU  \n",
       "1           Abu Dhabi    82880.0     4975593        AS  \n",
       "2               Kabul   647500.0    29121286        AS  \n",
       "3           St. Johns      443.0       86754        NA  \n",
       "4          The Valley      102.0       13254        NA  \n",
       "..                ...        ...         ...       ...  \n",
       "247             Sanaa   527970.0    23495361        AS  \n",
       "248         Mamoudzou      374.0      159042        AF  \n",
       "249          Pretoria  1219912.0    49000000        AF  \n",
       "250            Lusaka   752614.0    13460305        AF  \n",
       "251            Harare   390580.0    13061000        AF  \n",
       "\n",
       "[252 rows x 9 columns]"
      ]
     },
     "execution_count": 24,
     "metadata": {},
     "output_type": "execute_result"
    }
   ],
   "source": [
    "countries"
   ]
  },
  {
   "cell_type": "code",
   "execution_count": 23,
   "metadata": {},
   "outputs": [
    {
     "data": {
      "text/plain": [
       "     iso_alpha2 iso_alpha3  iso_numeric fips                  name  \\\n",
       "0            AD        AND           20   AN               Andorra   \n",
       "1            AE        ARE          784   AE  United Arab Emirates   \n",
       "2            AF        AFG            4   AF           Afghanistan   \n",
       "3            AG        ATG           28   AC   Antigua and Barbuda   \n",
       "4            AI        AIA          660   AV              Anguilla   \n",
       "...         ...        ...          ...  ...                   ...   \n",
       "9995         NL        NLD          528   NL           Netherlands   \n",
       "9996         NO        NOR          578   NO                Norway   \n",
       "9997         NP        NPL          524   NP                 Nepal   \n",
       "9998         NR        NRU          520   NR                 Nauru   \n",
       "9999         NU        NIU          570   NE                  Niue   \n",
       "\n",
       "               capital  area_km2  population continent  \n",
       "0     Andorra la Vella     468.0       84000        EU  \n",
       "1            Abu Dhabi   82880.0     4975593        AS  \n",
       "2                Kabul  647500.0    29121286        AS  \n",
       "3            St. Johns     443.0       86754        NA  \n",
       "4           The Valley     102.0       13254        NA  \n",
       "...                ...       ...         ...       ...  \n",
       "9995         Amsterdam   41526.0    16645000        EU  \n",
       "9996              Oslo  324220.0     5009150        EU  \n",
       "9997         Kathmandu  140800.0    28951852        AS  \n",
       "9998             Yaren      21.0       10065        OC  \n",
       "9999             Alofi     260.0        2166        OC  \n",
       "\n",
       "[10000 rows x 9 columns]"
      ]
     },
     "execution_count": 23,
     "metadata": {},
     "output_type": "execute_result"
    }
   ],
   "source": [
    "countries[countries.continent.topk(3)]"
   ]
  },
  {
   "cell_type": "code",
   "execution_count": 16,
   "metadata": {},
   "outputs": [
    {
     "ename": "RelationError",
     "evalue": "The expression   continent  count\n0        AF     58\n1        EU     54\n2        AS     51 does not fully originate from dependencies of the table expression.",
     "output_type": "error",
     "traceback": [
      "\u001b[0;31m---------------------------------------------------------------------------\u001b[0m",
      "\u001b[0;31mRelationError\u001b[0m                             Traceback (most recent call last)",
      "\u001b[0;32m<ipython-input-16-9cccd85561fe>\u001b[0m in \u001b[0;36m<module>\u001b[0;34m\u001b[0m\n\u001b[1;32m      1\u001b[0m \u001b[0;31m# continents_with_many_countries = countries.continent.topk(3)\u001b[0m\u001b[0;34m\u001b[0m\u001b[0;34m\u001b[0m\u001b[0;34m\u001b[0m\u001b[0m\n\u001b[0;32m----> 2\u001b[0;31m \u001b[0mcountries\u001b[0m\u001b[0;34m[\u001b[0m\u001b[0mcontinents_with_many_countries\u001b[0m\u001b[0;34m]\u001b[0m\u001b[0;34m.\u001b[0m\u001b[0mgroup_by\u001b[0m\u001b[0;34m(\u001b[0m\u001b[0mcountry_size\u001b[0m\u001b[0;34m)\u001b[0m\u001b[0;34m.\u001b[0m\u001b[0msize\u001b[0m\u001b[0;34m(\u001b[0m\u001b[0;34m)\u001b[0m\u001b[0;34m\u001b[0m\u001b[0;34m\u001b[0m\u001b[0m\n\u001b[0m\u001b[1;32m      3\u001b[0m \u001b[0mcountries\u001b[0m\u001b[0;34m[\u001b[0m\u001b[0mcontinents_with_many_countries\u001b[0m\u001b[0;34m]\u001b[0m\u001b[0;34m\u001b[0m\u001b[0;34m\u001b[0m\u001b[0m\n\u001b[1;32m      4\u001b[0m \u001b[0mcountries\u001b[0m\u001b[0;34m\u001b[0m\u001b[0;34m\u001b[0m\u001b[0m\n",
      "\u001b[0;32m~/src/ibis/ibis/expr/types.py\u001b[0m in \u001b[0;36m__getitem__\u001b[0;34m(self, what)\u001b[0m\n\u001b[1;32m    461\u001b[0m         \u001b[0;32mif\u001b[0m \u001b[0misinstance\u001b[0m\u001b[0;34m(\u001b[0m\u001b[0mwhat\u001b[0m\u001b[0;34m,\u001b[0m \u001b[0;34m(\u001b[0m\u001b[0mlist\u001b[0m\u001b[0;34m,\u001b[0m \u001b[0mtuple\u001b[0m\u001b[0;34m,\u001b[0m \u001b[0mTableExpr\u001b[0m\u001b[0;34m)\u001b[0m\u001b[0;34m)\u001b[0m\u001b[0;34m:\u001b[0m\u001b[0;34m\u001b[0m\u001b[0;34m\u001b[0m\u001b[0m\n\u001b[1;32m    462\u001b[0m             \u001b[0;31m# Projection case\u001b[0m\u001b[0;34m\u001b[0m\u001b[0;34m\u001b[0m\u001b[0;34m\u001b[0m\u001b[0m\n\u001b[0;32m--> 463\u001b[0;31m             \u001b[0;32mreturn\u001b[0m \u001b[0mself\u001b[0m\u001b[0;34m.\u001b[0m\u001b[0mprojection\u001b[0m\u001b[0;34m(\u001b[0m\u001b[0mwhat\u001b[0m\u001b[0;34m)\u001b[0m\u001b[0;34m\u001b[0m\u001b[0;34m\u001b[0m\u001b[0m\n\u001b[0m\u001b[1;32m    464\u001b[0m         \u001b[0;32melif\u001b[0m \u001b[0misinstance\u001b[0m\u001b[0;34m(\u001b[0m\u001b[0mwhat\u001b[0m\u001b[0;34m,\u001b[0m \u001b[0mBooleanColumn\u001b[0m\u001b[0;34m)\u001b[0m\u001b[0;34m:\u001b[0m\u001b[0;34m\u001b[0m\u001b[0;34m\u001b[0m\u001b[0m\n\u001b[1;32m    465\u001b[0m             \u001b[0;31m# Boolean predicate\u001b[0m\u001b[0;34m\u001b[0m\u001b[0;34m\u001b[0m\u001b[0;34m\u001b[0m\u001b[0m\n",
      "\u001b[0;32m~/src/ibis/ibis/expr/api.py\u001b[0m in \u001b[0;36mprojection\u001b[0;34m(table, exprs)\u001b[0m\n\u001b[1;32m   4311\u001b[0m \u001b[0;34m\u001b[0m\u001b[0m\n\u001b[1;32m   4312\u001b[0m     \u001b[0mprojector\u001b[0m \u001b[0;34m=\u001b[0m \u001b[0mL\u001b[0m\u001b[0;34m.\u001b[0m\u001b[0mProjector\u001b[0m\u001b[0;34m(\u001b[0m\u001b[0mtable\u001b[0m\u001b[0;34m,\u001b[0m \u001b[0mexprs\u001b[0m\u001b[0;34m)\u001b[0m\u001b[0;34m\u001b[0m\u001b[0;34m\u001b[0m\u001b[0m\n\u001b[0;32m-> 4313\u001b[0;31m     \u001b[0mop\u001b[0m \u001b[0;34m=\u001b[0m \u001b[0mprojector\u001b[0m\u001b[0;34m.\u001b[0m\u001b[0mget_result\u001b[0m\u001b[0;34m(\u001b[0m\u001b[0;34m)\u001b[0m\u001b[0;34m\u001b[0m\u001b[0;34m\u001b[0m\u001b[0m\n\u001b[0m\u001b[1;32m   4314\u001b[0m     \u001b[0;32mreturn\u001b[0m \u001b[0mop\u001b[0m\u001b[0;34m.\u001b[0m\u001b[0mto_expr\u001b[0m\u001b[0;34m(\u001b[0m\u001b[0;34m)\u001b[0m\u001b[0;34m\u001b[0m\u001b[0;34m\u001b[0m\u001b[0m\n\u001b[1;32m   4315\u001b[0m \u001b[0;34m\u001b[0m\u001b[0m\n",
      "\u001b[0;32m~/src/ibis/ibis/expr/analysis.py\u001b[0m in \u001b[0;36mget_result\u001b[0;34m(self)\u001b[0m\n\u001b[1;32m    775\u001b[0m                 \u001b[0;32mreturn\u001b[0m \u001b[0mfused_op\u001b[0m\u001b[0;34m\u001b[0m\u001b[0;34m\u001b[0m\u001b[0m\n\u001b[1;32m    776\u001b[0m \u001b[0;34m\u001b[0m\u001b[0m\n\u001b[0;32m--> 777\u001b[0;31m         \u001b[0;32mreturn\u001b[0m \u001b[0mops\u001b[0m\u001b[0;34m.\u001b[0m\u001b[0mSelection\u001b[0m\u001b[0;34m(\u001b[0m\u001b[0mself\u001b[0m\u001b[0;34m.\u001b[0m\u001b[0mparent\u001b[0m\u001b[0;34m,\u001b[0m \u001b[0mself\u001b[0m\u001b[0;34m.\u001b[0m\u001b[0mclean_exprs\u001b[0m\u001b[0;34m)\u001b[0m\u001b[0;34m\u001b[0m\u001b[0;34m\u001b[0m\u001b[0m\n\u001b[0m\u001b[1;32m    778\u001b[0m \u001b[0;34m\u001b[0m\u001b[0m\n\u001b[1;32m    779\u001b[0m     \u001b[0;32mdef\u001b[0m \u001b[0mtry_fusion\u001b[0m\u001b[0;34m(\u001b[0m\u001b[0mself\u001b[0m\u001b[0;34m,\u001b[0m \u001b[0mroot\u001b[0m\u001b[0;34m)\u001b[0m\u001b[0;34m:\u001b[0m\u001b[0;34m\u001b[0m\u001b[0;34m\u001b[0m\u001b[0m\n",
      "\u001b[0;32m~/src/ibis/ibis/expr/operations.py\u001b[0m in \u001b[0;36m__init__\u001b[0;34m(self, table, selections, predicates, sort_keys)\u001b[0m\n\u001b[1;32m   1934\u001b[0m         )\n\u001b[1;32m   1935\u001b[0m \u001b[0;34m\u001b[0m\u001b[0m\n\u001b[0;32m-> 1936\u001b[0;31m         super().__init__(\n\u001b[0m\u001b[1;32m   1937\u001b[0m             \u001b[0mtable\u001b[0m\u001b[0;34m=\u001b[0m\u001b[0mtable\u001b[0m\u001b[0;34m,\u001b[0m\u001b[0;34m\u001b[0m\u001b[0;34m\u001b[0m\u001b[0m\n\u001b[1;32m   1938\u001b[0m             \u001b[0mselections\u001b[0m\u001b[0;34m=\u001b[0m\u001b[0mprojections\u001b[0m\u001b[0;34m,\u001b[0m\u001b[0;34m\u001b[0m\u001b[0;34m\u001b[0m\u001b[0m\n",
      "\u001b[0;32m~/src/ibis/ibis/expr/signature.py\u001b[0m in \u001b[0;36m__init__\u001b[0;34m(self, *args, **kwargs)\u001b[0m\n\u001b[1;32m    181\u001b[0m         \u001b[0;32mfor\u001b[0m \u001b[0mname\u001b[0m\u001b[0;34m,\u001b[0m \u001b[0mvalue\u001b[0m \u001b[0;32min\u001b[0m \u001b[0mself\u001b[0m\u001b[0;34m.\u001b[0m\u001b[0msignature\u001b[0m\u001b[0;34m.\u001b[0m\u001b[0mvalidate\u001b[0m\u001b[0;34m(\u001b[0m\u001b[0;34m*\u001b[0m\u001b[0margs\u001b[0m\u001b[0;34m,\u001b[0m \u001b[0;34m**\u001b[0m\u001b[0mkwargs\u001b[0m\u001b[0;34m)\u001b[0m\u001b[0;34m:\u001b[0m\u001b[0;34m\u001b[0m\u001b[0;34m\u001b[0m\u001b[0m\n\u001b[1;32m    182\u001b[0m             \u001b[0msetattr\u001b[0m\u001b[0;34m(\u001b[0m\u001b[0mself\u001b[0m\u001b[0;34m,\u001b[0m \u001b[0mname\u001b[0m\u001b[0;34m,\u001b[0m \u001b[0mvalue\u001b[0m\u001b[0;34m)\u001b[0m\u001b[0;34m\u001b[0m\u001b[0;34m\u001b[0m\u001b[0m\n\u001b[0;32m--> 183\u001b[0;31m         \u001b[0mself\u001b[0m\u001b[0;34m.\u001b[0m\u001b[0m_validate\u001b[0m\u001b[0;34m(\u001b[0m\u001b[0;34m)\u001b[0m\u001b[0;34m\u001b[0m\u001b[0;34m\u001b[0m\u001b[0m\n\u001b[0m\u001b[1;32m    184\u001b[0m \u001b[0;34m\u001b[0m\u001b[0m\n\u001b[1;32m    185\u001b[0m     \u001b[0;32mdef\u001b[0m \u001b[0m_validate\u001b[0m\u001b[0;34m(\u001b[0m\u001b[0mself\u001b[0m\u001b[0;34m)\u001b[0m\u001b[0;34m:\u001b[0m\u001b[0;34m\u001b[0m\u001b[0;34m\u001b[0m\u001b[0m\n",
      "\u001b[0;32m~/src/ibis/ibis/expr/operations.py\u001b[0m in \u001b[0;36m_validate\u001b[0;34m(self)\u001b[0m\n\u001b[1;32m   1948\u001b[0m         \u001b[0;31m# array expressions originating from the same root table expression\u001b[0m\u001b[0;34m\u001b[0m\u001b[0;34m\u001b[0m\u001b[0;34m\u001b[0m\u001b[0m\n\u001b[1;32m   1949\u001b[0m         \u001b[0mdependent_exprs\u001b[0m \u001b[0;34m=\u001b[0m \u001b[0mself\u001b[0m\u001b[0;34m.\u001b[0m\u001b[0mselections\u001b[0m \u001b[0;34m+\u001b[0m \u001b[0mself\u001b[0m\u001b[0;34m.\u001b[0m\u001b[0msort_keys\u001b[0m\u001b[0;34m\u001b[0m\u001b[0;34m\u001b[0m\u001b[0m\n\u001b[0;32m-> 1950\u001b[0;31m         \u001b[0mself\u001b[0m\u001b[0;34m.\u001b[0m\u001b[0mtable\u001b[0m\u001b[0;34m.\u001b[0m\u001b[0m_assert_valid\u001b[0m\u001b[0;34m(\u001b[0m\u001b[0mdependent_exprs\u001b[0m\u001b[0;34m)\u001b[0m\u001b[0;34m\u001b[0m\u001b[0;34m\u001b[0m\u001b[0m\n\u001b[0m\u001b[1;32m   1951\u001b[0m \u001b[0;34m\u001b[0m\u001b[0m\n\u001b[1;32m   1952\u001b[0m         \u001b[0;31m# Validate predicates\u001b[0m\u001b[0;34m\u001b[0m\u001b[0;34m\u001b[0m\u001b[0;34m\u001b[0m\u001b[0m\n",
      "\u001b[0;32m~/src/ibis/ibis/expr/types.py\u001b[0m in \u001b[0;36m_assert_valid\u001b[0;34m(self, exprs)\u001b[0m\n\u001b[1;32m    430\u001b[0m         \u001b[0;32mfrom\u001b[0m \u001b[0mibis\u001b[0m\u001b[0;34m.\u001b[0m\u001b[0mexpr\u001b[0m\u001b[0;34m.\u001b[0m\u001b[0manalysis\u001b[0m \u001b[0;32mimport\u001b[0m \u001b[0mExprValidator\u001b[0m\u001b[0;34m\u001b[0m\u001b[0;34m\u001b[0m\u001b[0m\n\u001b[1;32m    431\u001b[0m \u001b[0;34m\u001b[0m\u001b[0m\n\u001b[0;32m--> 432\u001b[0;31m         \u001b[0mExprValidator\u001b[0m\u001b[0;34m(\u001b[0m\u001b[0;34m[\u001b[0m\u001b[0mself\u001b[0m\u001b[0;34m]\u001b[0m\u001b[0;34m)\u001b[0m\u001b[0;34m.\u001b[0m\u001b[0mvalidate_all\u001b[0m\u001b[0;34m(\u001b[0m\u001b[0mexprs\u001b[0m\u001b[0;34m)\u001b[0m\u001b[0;34m\u001b[0m\u001b[0;34m\u001b[0m\u001b[0m\n\u001b[0m\u001b[1;32m    433\u001b[0m \u001b[0;34m\u001b[0m\u001b[0m\n\u001b[1;32m    434\u001b[0m     \u001b[0;32mdef\u001b[0m \u001b[0m__contains__\u001b[0m\u001b[0;34m(\u001b[0m\u001b[0mself\u001b[0m\u001b[0;34m,\u001b[0m \u001b[0mname\u001b[0m\u001b[0;34m)\u001b[0m\u001b[0;34m:\u001b[0m\u001b[0;34m\u001b[0m\u001b[0;34m\u001b[0m\u001b[0m\n",
      "\u001b[0;32m~/src/ibis/ibis/expr/analysis.py\u001b[0m in \u001b[0;36mvalidate_all\u001b[0;34m(self, exprs)\u001b[0m\n\u001b[1;32m    894\u001b[0m     \u001b[0;32mdef\u001b[0m \u001b[0mvalidate_all\u001b[0m\u001b[0;34m(\u001b[0m\u001b[0mself\u001b[0m\u001b[0;34m,\u001b[0m \u001b[0mexprs\u001b[0m\u001b[0;34m)\u001b[0m\u001b[0;34m:\u001b[0m\u001b[0;34m\u001b[0m\u001b[0;34m\u001b[0m\u001b[0m\n\u001b[1;32m    895\u001b[0m         \u001b[0;32mfor\u001b[0m \u001b[0mexpr\u001b[0m \u001b[0;32min\u001b[0m \u001b[0mexprs\u001b[0m\u001b[0;34m:\u001b[0m\u001b[0;34m\u001b[0m\u001b[0;34m\u001b[0m\u001b[0m\n\u001b[0;32m--> 896\u001b[0;31m             \u001b[0mself\u001b[0m\u001b[0;34m.\u001b[0m\u001b[0massert_valid\u001b[0m\u001b[0;34m(\u001b[0m\u001b[0mexpr\u001b[0m\u001b[0;34m)\u001b[0m\u001b[0;34m\u001b[0m\u001b[0;34m\u001b[0m\u001b[0m\n\u001b[0m\u001b[1;32m    897\u001b[0m \u001b[0;34m\u001b[0m\u001b[0m\n\u001b[1;32m    898\u001b[0m     \u001b[0;32mdef\u001b[0m \u001b[0massert_valid\u001b[0m\u001b[0;34m(\u001b[0m\u001b[0mself\u001b[0m\u001b[0;34m,\u001b[0m \u001b[0mexpr\u001b[0m\u001b[0;34m)\u001b[0m\u001b[0;34m:\u001b[0m\u001b[0;34m\u001b[0m\u001b[0;34m\u001b[0m\u001b[0m\n",
      "\u001b[0;32m~/src/ibis/ibis/expr/analysis.py\u001b[0m in \u001b[0;36massert_valid\u001b[0;34m(self, expr)\u001b[0m\n\u001b[1;32m    899\u001b[0m         \u001b[0;32mif\u001b[0m \u001b[0;32mnot\u001b[0m \u001b[0mself\u001b[0m\u001b[0;34m.\u001b[0m\u001b[0mvalidate\u001b[0m\u001b[0;34m(\u001b[0m\u001b[0mexpr\u001b[0m\u001b[0;34m)\u001b[0m\u001b[0;34m:\u001b[0m\u001b[0;34m\u001b[0m\u001b[0;34m\u001b[0m\u001b[0m\n\u001b[1;32m    900\u001b[0m             \u001b[0mmsg\u001b[0m \u001b[0;34m=\u001b[0m \u001b[0mself\u001b[0m\u001b[0;34m.\u001b[0m\u001b[0m_error_message\u001b[0m\u001b[0;34m(\u001b[0m\u001b[0mexpr\u001b[0m\u001b[0;34m)\u001b[0m\u001b[0;34m\u001b[0m\u001b[0;34m\u001b[0m\u001b[0m\n\u001b[0;32m--> 901\u001b[0;31m             \u001b[0;32mraise\u001b[0m \u001b[0mRelationError\u001b[0m\u001b[0;34m(\u001b[0m\u001b[0mmsg\u001b[0m\u001b[0;34m)\u001b[0m\u001b[0;34m\u001b[0m\u001b[0;34m\u001b[0m\u001b[0m\n\u001b[0m\u001b[1;32m    902\u001b[0m \u001b[0;34m\u001b[0m\u001b[0m\n\u001b[1;32m    903\u001b[0m     \u001b[0;32mdef\u001b[0m \u001b[0m_error_message\u001b[0m\u001b[0;34m(\u001b[0m\u001b[0mself\u001b[0m\u001b[0;34m,\u001b[0m \u001b[0mexpr\u001b[0m\u001b[0;34m)\u001b[0m\u001b[0;34m:\u001b[0m\u001b[0;34m\u001b[0m\u001b[0;34m\u001b[0m\u001b[0m\n",
      "\u001b[0;31mRelationError\u001b[0m: The expression   continent  count\n0        AF     58\n1        EU     54\n2        AS     51 does not fully originate from dependencies of the table expression."
     ]
    }
   ],
   "source": [
    "# continents_with_many_countries = countries.continent.topk(3)\n",
    "countries[continents_with_many_countries].group_by(country_size).size()\n",
    "countries[continents_with_many_countries]\n",
    "countries"
   ]
  },
  {
   "cell_type": "markdown",
   "metadata": {},
   "source": [
    "This goes a little further. Suppose now we want to rank customers by their total spending instead of the number of orders, perhaps a more meaningful metric:"
   ]
  },
  {
   "cell_type": "code",
   "execution_count": null,
   "metadata": {},
   "outputs": [],
   "source": [
    "total_spend = orders.o_totalprice.sum().name('total')\n",
    "top_spenders = (\n",
    "    orders.group_by('o_custkey')\n",
    "    .aggregate(total_spend)\n",
    "    .sort_by(('total', False))\n",
    "    .limit(5)\n",
    ")\n",
    "top_spenders"
   ]
  },
  {
   "cell_type": "markdown",
   "metadata": {},
   "source": [
    "To use another metric, just pass it to the `by` argument in `topk`:"
   ]
  },
  {
   "cell_type": "code",
   "execution_count": null,
   "metadata": {},
   "outputs": [],
   "source": [
    "top_spenders = orders.o_custkey.topk(5, by=total_spend)\n",
    "orders[top_spenders].group_by('o_orderstatus').size()"
   ]
  },
  {
   "cell_type": "markdown",
   "metadata": {},
   "source": [
    "## Self joins\n",
    "\n",
    "\n",
    "If you're a relational data guru, you may have wondered how it's possible to join tables with themselves, because joins clauses involve column references back to the original table.\n",
    "\n",
    "Consider the SQL\n",
    "\n",
    "```sql\n",
    "    SELECT t1.key, sum(t1.value - t2.value) AS metric\n",
    "    FROM my_table t1\n",
    "      JOIN my_table t2\n",
    "        ON t1.key = t2.subkey\n",
    "    GROUP BY 1\n",
    "```\n",
    "    \n",
    "Here, we have an unambiguous way to refer to each of the tables through aliasing."
   ]
  },
  {
   "cell_type": "markdown",
   "metadata": {},
   "source": [
    "Let's consider the TPC-H database, and support we want to compute year-over-year change in total order amounts by region using joins."
   ]
  },
  {
   "cell_type": "code",
   "execution_count": null,
   "metadata": {},
   "outputs": [],
   "source": [
    "region = con.table('tpch_region')\n",
    "nation = con.table('tpch_nation')\n",
    "customer = con.table('tpch_customer')\n",
    "orders = con.table('tpch_orders')\n",
    "\n",
    "orders.limit(5)"
   ]
  },
  {
   "cell_type": "markdown",
   "metadata": {},
   "source": [
    "First, let's join all the things and select the fields we care about:"
   ]
  },
  {
   "cell_type": "code",
   "execution_count": null,
   "metadata": {},
   "outputs": [],
   "source": [
    "fields_of_interest = [\n",
    "    region.r_name.name('region'),\n",
    "    nation.n_name.name('nation'),\n",
    "    orders.o_totalprice.name('amount'),\n",
    "    orders.o_orderdate.cast('timestamp').name('odate'),  # these are strings\n",
    "]\n",
    "\n",
    "joined_all = (\n",
    "    region.join(nation, region.r_regionkey == nation.n_regionkey)\n",
    "    .join(customer, customer.c_nationkey == nation.n_nationkey)\n",
    "    .join(orders, orders.o_custkey == customer.c_custkey)[fields_of_interest]\n",
    ")"
   ]
  },
  {
   "cell_type": "markdown",
   "metadata": {},
   "source": [
    "Okay, great, let's have a look:"
   ]
  },
  {
   "cell_type": "code",
   "execution_count": null,
   "metadata": {},
   "outputs": [],
   "source": [
    "joined_all.limit(5)"
   ]
  },
  {
   "cell_type": "markdown",
   "metadata": {},
   "source": [
    "Sweet, now let's aggregate by year and region:"
   ]
  },
  {
   "cell_type": "code",
   "execution_count": null,
   "metadata": {},
   "outputs": [],
   "source": [
    "year = joined_all.odate.year().name('year')\n",
    "\n",
    "total = joined_all.amount.sum().cast('double').name('total')\n",
    "\n",
    "annual_amounts = joined_all.group_by(['region', year]).aggregate(total)\n",
    "annual_amounts"
   ]
  },
  {
   "cell_type": "markdown",
   "metadata": {},
   "source": [
    "Looking good so far. Now, we need to join this table on itself, by subtracting 1 from one of the year columns.\n",
    "\n",
    "We do this by creating a \"joinable\" view of a table that is considered a distinct object within Ibis. To do this, use the `view` function:"
   ]
  },
  {
   "cell_type": "code",
   "execution_count": null,
   "metadata": {},
   "outputs": [],
   "source": [
    "current = annual_amounts\n",
    "prior = annual_amounts.view()\n",
    "\n",
    "yoy_change = (current.total - prior.total).name('yoy_change')\n",
    "\n",
    "results = current.join(\n",
    "    prior,\n",
    "    ((current.region == prior.region) & (current.year == (prior.year - 1))),\n",
    ")[current.region, current.year, yoy_change]\n",
    "df = results.execute()"
   ]
  },
  {
   "cell_type": "code",
   "execution_count": null,
   "metadata": {},
   "outputs": [],
   "source": [
    "df['yoy_pretty'] = df.yoy_change.map(lambda x: '$%.2fmm' % (x / 1000000.0))\n",
    "df"
   ]
  },
  {
   "cell_type": "markdown",
   "metadata": {},
   "source": [
    "If you're being fastidious and want to consider the first year occurring in the dataset for each region to have 0 for the prior year, you will instead need to do an outer join and treat nulls in the prior side of the join as zero:"
   ]
  },
  {
   "cell_type": "code",
   "execution_count": null,
   "metadata": {},
   "outputs": [],
   "source": [
    "yoy_change = (current.total - prior.total.zeroifnull()).name('yoy_change')\n",
    "results = current.outer_join(\n",
    "    prior,\n",
    "    ((current.region == prior.region) & (current.year == (prior.year - 1))),\n",
    ")[\n",
    "    current.region,\n",
    "    current.year,\n",
    "    current.total,\n",
    "    prior.total.zeroifnull().name('prior_total'),\n",
    "    yoy_change,\n",
    "]\n",
    "\n",
    "results.limit(10)"
   ]
  },
  {
   "cell_type": "code",
   "execution_count": 2,
   "metadata": {},
   "outputs": [
    {
     "data": {
      "text/plain": [
       "     country_code  year         value\n",
       "0             ABW  1986  4.054634e+08\n",
       "1             ABW  1987  4.876025e+08\n",
       "2             ABW  1988  5.964236e+08\n",
       "3             ABW  1989  6.953044e+08\n",
       "4             ABW  1990  7.648871e+08\n",
       "...           ...   ...           ...\n",
       "9995          SVK  2002  3.513034e+10\n",
       "9996          SVK  2003  4.681659e+10\n",
       "9997          SVK  2004  5.733202e+10\n",
       "9998          SVK  2005  6.278531e+10\n",
       "9999          SVK  2006  7.070810e+10\n",
       "\n",
       "[10000 rows x 3 columns]"
      ]
     },
     "execution_count": 2,
     "metadata": {},
     "output_type": "execute_result"
    }
   ],
   "source": [
    "gdp = connection.table('gdp')\n",
    "gdp"
   ]
  },
  {
   "cell_type": "code",
   "execution_count": null,
   "metadata": {},
   "outputs": [],
   "source": [
    "gdp_2000 = gdp[gdp.year == 2000]['country_code', gdp.value.name('gdp_2000')]\n",
    "gdp_2010 = gdp[gdp.year == 2010]['country_code', gdp.value.name('gdp_2010')]\n",
    "\n",
    "\n",
    "gdp_diff = gdp_2000.join(\n",
    "    gdp_2010, gdp_2010.country_code == gdp_2000.country_code\n",
    ")\n",
    "\n",
    "gdp_change = (1.0 - (gdp_2010.gdp_2010 / gdp_2000.gdp_2000)).name('gdp_change')\n",
    "\n",
    "gdp_diff[gdp_2000.country_code, gdp_change].sort_by('gdp_change')"
   ]
  },
  {
   "cell_type": "code",
   "execution_count": 3,
   "metadata": {},
   "outputs": [],
   "source": [
    "gdp_2000 = gdp[gdp.year == 2000]['country_code', gdp.value.name('gdp_2000')]\n",
    "gdp_2010 = gdp[gdp.year == 2010][\n",
    "    'country_code', gdp.value.name('gdp_2010')\n",
    "].view()\n",
    "\n",
    "\n",
    "gdp_diff = gdp_2000.join(\n",
    "    gdp_2010, gdp_2010.country_code == gdp_2000.country_code\n",
    ")"
   ]
  },
  {
   "cell_type": "code",
   "execution_count": 5,
   "metadata": {},
   "outputs": [
    {
     "data": {
      "text/plain": [
       "     country_code\n",
       "0             ABW\n",
       "1             AGO\n",
       "2             ALB\n",
       "3             AND\n",
       "4             ARB\n",
       "...           ...\n",
       "9995          KNA\n",
       "9996          KOR\n",
       "9997          KWT\n",
       "9998          LAC\n",
       "9999          LAO\n",
       "\n",
       "[10000 rows x 1 columns]"
      ]
     },
     "execution_count": 5,
     "metadata": {},
     "output_type": "execute_result"
    }
   ],
   "source": [
    "gdp_diff[gdp_2000.country_code]"
   ]
  },
  {
   "cell_type": "code",
   "execution_count": null,
   "metadata": {},
   "outputs": [],
   "source": []
  }
 ],
 "metadata": {
  "kernelspec": {
   "display_name": "Python 3",
   "language": "python",
   "name": "python3"
  },
  "language_info": {
   "codemirror_mode": {
    "name": "ipython",
    "version": 3
   },
   "file_extension": ".py",
   "mimetype": "text/x-python",
   "name": "python",
   "nbconvert_exporter": "python",
   "pygments_lexer": "ipython3",
   "version": "3.9.1"
  }
 },
 "nbformat": 4,
 "nbformat_minor": 4
}
