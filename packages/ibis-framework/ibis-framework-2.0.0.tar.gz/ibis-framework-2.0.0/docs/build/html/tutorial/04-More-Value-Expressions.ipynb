{
 "cells": [
  {
   "cell_type": "markdown",
   "metadata": {},
   "source": [
    "# More Value Expressions"
   ]
  },
  {
   "cell_type": "markdown",
   "metadata": {},
   "source": [
    "## Setup"
   ]
  },
  {
   "cell_type": "code",
   "execution_count": 1,
   "metadata": {
    "execution": {
     "iopub.execute_input": "2021-06-30T19:48:42.111174Z",
     "iopub.status.busy": "2021-06-30T19:48:42.109486Z",
     "iopub.status.idle": "2021-06-30T19:48:42.654488Z",
     "shell.execute_reply": "2021-06-30T19:48:42.653944Z"
    }
   },
   "outputs": [],
   "source": [
    "import os\n",
    "import ibis\n",
    "\n",
    "ibis.options.interactive = True\n",
    "\n",
    "connection = ibis.sqlite.connect(os.path.join('data', 'geography.db'))"
   ]
  },
  {
   "cell_type": "markdown",
   "metadata": {},
   "source": [
    "## Type casting\n",
    "\n",
    "The Ibis type system is pretty basic and will get better (and more documented over time). It maps directly onto the current Impala type system\n",
    "\n",
    "- `int8`\n",
    "- `int16`\n",
    "- `int32`\n",
    "- `int64`\n",
    "- `boolean`\n",
    "- `float`\n",
    "- `double`\n",
    "- `string`\n",
    "- `timestamp`\n",
    "- `decimal($precision, $scale)`\n",
    "\n",
    "These type names can be used to cast from one type to another"
   ]
  },
  {
   "cell_type": "code",
   "execution_count": 2,
   "metadata": {
    "execution": {
     "iopub.execute_input": "2021-06-30T19:48:42.659754Z",
     "iopub.status.busy": "2021-06-30T19:48:42.659316Z",
     "iopub.status.idle": "2021-06-30T19:48:42.753903Z",
     "shell.execute_reply": "2021-06-30T19:48:42.754387Z"
    }
   },
   "outputs": [
    {
     "data": {
      "text/plain": [
       "     country_code  year         value\n",
       "0             ABW  1986  4.054634e+08\n",
       "1             ABW  1987  4.876025e+08\n",
       "2             ABW  1988  5.964236e+08\n",
       "3             ABW  1989  6.953044e+08\n",
       "4             ABW  1990  7.648871e+08\n",
       "...           ...   ...           ...\n",
       "9995          SVK  2002  3.513034e+10\n",
       "9996          SVK  2003  4.681659e+10\n",
       "9997          SVK  2004  5.733202e+10\n",
       "9998          SVK  2005  6.278531e+10\n",
       "9999          SVK  2006  7.070810e+10\n",
       "\n",
       "[10000 rows x 3 columns]"
      ]
     },
     "execution_count": 1,
     "metadata": {},
     "output_type": "execute_result"
    }
   ],
   "source": [
    "countries = connection.table('countries')\n",
    "countries\n",
    "connection.table('gdp')"
   ]
  },
  {
   "cell_type": "code",
   "execution_count": 3,
   "metadata": {
    "execution": {
     "iopub.execute_input": "2021-06-30T19:48:42.767439Z",
     "iopub.status.busy": "2021-06-30T19:48:42.766889Z",
     "iopub.status.idle": "2021-06-30T19:48:42.771497Z",
     "shell.execute_reply": "2021-06-30T19:48:42.771933Z"
    }
   },
   "outputs": [
    {
     "data": {
      "text/plain": [
       "6878963738.0"
      ]
     },
     "execution_count": 1,
     "metadata": {},
     "output_type": "execute_result"
    }
   ],
   "source": [
    "countries = connection.table('countries')\n",
    "countries.population.cast('float').sum()"
   ]
  },
  {
   "cell_type": "code",
   "execution_count": 4,
   "metadata": {
    "execution": {
     "iopub.execute_input": "2021-06-30T19:48:42.778357Z",
     "iopub.status.busy": "2021-06-30T19:48:42.777813Z",
     "iopub.status.idle": "2021-06-30T19:48:42.782078Z",
     "shell.execute_reply": "2021-06-30T19:48:42.782471Z"
    }
   },
   "outputs": [
    {
     "data": {
      "text/plain": [
       "150012536"
      ]
     },
     "execution_count": 1,
     "metadata": {},
     "output_type": "execute_result"
    }
   ],
   "source": [
    "countries.area_km2.cast('int32').sum()"
   ]
  },
  {
   "cell_type": "markdown",
   "metadata": {},
   "source": [
    "## Case / if-then-else expressions\n",
    "\n",
    "\n",
    "We support a number of variants of the SQL-equivalent `CASE` expression, and will add more API functions over time to meet different use cases and enhance the expressiveness of any branching-based value logic."
   ]
  },
  {
   "cell_type": "code",
   "execution_count": 5,
   "metadata": {
    "execution": {
     "iopub.execute_input": "2021-06-30T19:48:42.795997Z",
     "iopub.status.busy": "2021-06-30T19:48:42.795524Z",
     "iopub.status.idle": "2021-06-30T19:48:42.801259Z",
     "shell.execute_reply": "2021-06-30T19:48:42.801701Z"
    }
   },
   "outputs": [
    {
     "data": {
      "text/plain": [
       "  continent_name  count\n",
       "0         Africa     58\n",
       "1     Antarctica      5\n",
       "2           Asia     51\n",
       "3         Europe     54\n",
       "4  North America     42\n",
       "5        Oceania     28\n",
       "6  South America     14"
      ]
     },
     "execution_count": 1,
     "metadata": {},
     "output_type": "execute_result"
    }
   ],
   "source": [
    "expr = (\n",
    "    countries.continent.case()\n",
    "    .when('AF', 'Africa')\n",
    "    .when('AN', 'Antarctica')\n",
    "    .when('AS', 'Asia')\n",
    "    .when('EU', 'Europe')\n",
    "    .when('NA', 'North America')\n",
    "    .when('OC', 'Oceania')\n",
    "    .when('SA', 'South America')\n",
    "    .else_(countries.continent)\n",
    "    .end()\n",
    "    .name('continent_name')\n",
    ")\n",
    "\n",
    "expr.value_counts()"
   ]
  },
  {
   "cell_type": "markdown",
   "metadata": {},
   "source": [
    "If the `else_` default condition is not provided, any values not matching one of the conditions will be `NULL`."
   ]
  },
  {
   "cell_type": "code",
   "execution_count": 6,
   "metadata": {
    "execution": {
     "iopub.execute_input": "2021-06-30T19:48:42.813427Z",
     "iopub.status.busy": "2021-06-30T19:48:42.808892Z",
     "iopub.status.idle": "2021-06-30T19:48:42.819763Z",
     "shell.execute_reply": "2021-06-30T19:48:42.819299Z"
    }
   },
   "outputs": [
    {
     "data": {
      "text/plain": [
       "  continent_name_with_nulls  count\n",
       "0                      None      5\n",
       "1                    Africa     58\n",
       "2                      Asia     51\n",
       "3                    Europe     54\n",
       "4             North America     42\n",
       "5                   Oceania     28\n",
       "6             South America     14"
      ]
     },
     "execution_count": 1,
     "metadata": {},
     "output_type": "execute_result"
    }
   ],
   "source": [
    "expr = (\n",
    "    countries.continent.case()\n",
    "    .when('AF', 'Africa')\n",
    "    .when('AS', 'Asia')\n",
    "    .when('EU', 'Europe')\n",
    "    .when('NA', 'North America')\n",
    "    .when('OC', 'Oceania')\n",
    "    .when('SA', 'South America')\n",
    "    .end()\n",
    "    .name('continent_name_with_nulls')\n",
    ")\n",
    "\n",
    "expr.value_counts()"
   ]
  },
  {
   "cell_type": "markdown",
   "metadata": {},
   "source": [
    "To test for an arbitrary series of boolean conditions, use the `case` API method and pass any boolean expressions potentially involving columns of the table:"
   ]
  },
  {
   "cell_type": "code",
   "execution_count": 7,
   "metadata": {
    "execution": {
     "iopub.execute_input": "2021-06-30T19:48:42.827422Z",
     "iopub.status.busy": "2021-06-30T19:48:42.826957Z",
     "iopub.status.idle": "2021-06-30T19:48:42.834450Z",
     "shell.execute_reply": "2021-06-30T19:48:42.833969Z"
    }
   },
   "outputs": [
    {
     "data": {
      "text/plain": [
       "                   name  population    size\n",
       "0               Andorra       84000   small\n",
       "1  United Arab Emirates     4975593   small\n",
       "2           Afghanistan    29121286     big\n",
       "3   Antigua and Barbuda       86754   small\n",
       "4              Anguilla       13254   small\n",
       "5               Albania     2986952   small\n",
       "6               Armenia     2968000   small\n",
       "7  Netherlands Antilles      300000   small\n",
       "8                Angola    13068161  medium\n",
       "9            Antarctica           0   small"
      ]
     },
     "execution_count": 1,
     "metadata": {},
     "output_type": "execute_result"
    }
   ],
   "source": [
    "expr = (\n",
    "    ibis.case()\n",
    "    .when(countries.population > 25_000_000, 'big')\n",
    "    .when(countries.population < 5_000_000, 'small')\n",
    "    .else_('medium')\n",
    "    .end()\n",
    "    .name('size')\n",
    ")\n",
    "\n",
    "countries['name', 'population', expr].limit(10)"
   ]
  },
  {
   "cell_type": "markdown",
   "metadata": {},
   "source": [
    "Simple ternary-cases (like the Python `X if COND else Y`) can be written using the `ifelse` function:"
   ]
  },
  {
   "cell_type": "code",
   "execution_count": 8,
   "metadata": {
    "execution": {
     "iopub.execute_input": "2021-06-30T19:48:42.841442Z",
     "iopub.status.busy": "2021-06-30T19:48:42.840977Z",
     "iopub.status.idle": "2021-06-30T19:48:42.847719Z",
     "shell.execute_reply": "2021-06-30T19:48:42.847249Z"
    }
   },
   "outputs": [
    {
     "data": {
      "text/plain": [
       "                   name continent   is_asia\n",
       "0               Andorra        EU  Not Asia\n",
       "1  United Arab Emirates        AS      Asia\n",
       "2           Afghanistan        AS      Asia\n",
       "3   Antigua and Barbuda        NA  Not Asia\n",
       "4              Anguilla        NA  Not Asia\n",
       "5               Albania        EU  Not Asia\n",
       "6               Armenia        AS      Asia\n",
       "7  Netherlands Antilles        NA  Not Asia\n",
       "8                Angola        AF  Not Asia\n",
       "9            Antarctica        AN  Not Asia"
      ]
     },
     "execution_count": 1,
     "metadata": {},
     "output_type": "execute_result"
    }
   ],
   "source": [
    "expr = (countries.continent == 'AS').ifelse('Asia', 'Not Asia').name('is_asia')\n",
    "\n",
    "countries['name', 'continent', expr].limit(10)"
   ]
  },
  {
   "cell_type": "markdown",
   "metadata": {},
   "source": [
    "## Set membership\n",
    "\n",
    "\n",
    "The `isin` and `notin` functions are like their pandas counterparts. These can take:\n",
    "\n",
    "- A list of value expressions, either literal values or other column expressions\n",
    "- An array/column expression of some kind"
   ]
  },
  {
   "cell_type": "code",
   "execution_count": 9,
   "metadata": {
    "execution": {
     "iopub.execute_input": "2021-06-30T19:48:42.855464Z",
     "iopub.status.busy": "2021-06-30T19:48:42.854996Z",
     "iopub.status.idle": "2021-06-30T19:48:42.860882Z",
     "shell.execute_reply": "2021-06-30T19:48:42.860425Z"
    }
   },
   "outputs": [
    {
     "data": {
      "text/plain": [
       "  continent  count\n",
       "0        NA     42\n",
       "1        SA     14"
      ]
     },
     "execution_count": 1,
     "metadata": {},
     "output_type": "execute_result"
    }
   ],
   "source": [
    "is_america = countries.continent.isin(['NA', 'SA'])\n",
    "countries[is_america].continent.value_counts()"
   ]
  },
  {
   "cell_type": "markdown",
   "metadata": {},
   "source": [
    "You can also check for membership in an array. Here is an example of filtering based on the top 3 (ignoring ties) most frequently-occurring values in the `string_col` column of alltypes:"
   ]
  },
  {
   "cell_type": "code",
   "execution_count": 10,
   "metadata": {
    "execution": {
     "iopub.execute_input": "2021-06-30T19:48:42.870750Z",
     "iopub.status.busy": "2021-06-30T19:48:42.870299Z",
     "iopub.status.idle": "2021-06-30T19:48:42.874682Z",
     "shell.execute_reply": "2021-06-30T19:48:42.874234Z"
    }
   },
   "outputs": [
    {
     "data": {
      "text/plain": [
       "114"
      ]
     },
     "execution_count": 1,
     "metadata": {},
     "output_type": "execute_result"
    }
   ],
   "source": [
    "top_continents = countries.continent.value_counts().limit(3).continent\n",
    "top_continents_filter = countries.continent.isin(top_continents)\n",
    "expr = countries[top_continents_filter]\n",
    "\n",
    "expr.count()"
   ]
  },
  {
   "cell_type": "markdown",
   "metadata": {},
   "source": [
    "This is a common enough operation that we provide a special analytical filter function `topk`:"
   ]
  },
  {
   "cell_type": "code",
   "execution_count": 11,
   "metadata": {
    "execution": {
     "iopub.execute_input": "2021-06-30T19:48:42.881772Z",
     "iopub.status.busy": "2021-06-30T19:48:42.881333Z",
     "iopub.status.idle": "2021-06-30T19:48:42.886627Z",
     "shell.execute_reply": "2021-06-30T19:48:42.886170Z"
    }
   },
   "outputs": [
    {
     "data": {
      "text/plain": [
       "  continent  count\n",
       "0        AF     58\n",
       "1        EU     54\n",
       "2        AS     51"
      ]
     },
     "execution_count": 1,
     "metadata": {},
     "output_type": "execute_result"
    }
   ],
   "source": [
    "countries.continent.topk(3)"
   ]
  },
  {
   "cell_type": "markdown",
   "metadata": {},
   "source": [
    "Cool, huh? More on `topk` later."
   ]
  },
  {
   "cell_type": "markdown",
   "metadata": {},
   "source": [
    "## Null-ness\n",
    "\n",
    "Like their pandas equivalents, the `isnull` and `notnull` functions return True values if the values are null, or non-null, respectively. For example:"
   ]
  },
  {
   "cell_type": "code",
   "execution_count": 12,
   "metadata": {
    "execution": {
     "iopub.execute_input": "2021-06-30T19:48:42.897679Z",
     "iopub.status.busy": "2021-06-30T19:48:42.897222Z",
     "iopub.status.idle": "2021-06-30T19:48:42.902633Z",
     "shell.execute_reply": "2021-06-30T19:48:42.902268Z"
    }
   },
   "outputs": [
    {
     "data": {
      "text/plain": [
       "   unnamed  count\n",
       "0    False    163\n",
       "1     True     89"
      ]
     },
     "execution_count": 1,
     "metadata": {},
     "output_type": "execute_result"
    }
   ],
   "source": [
    "expr = (\n",
    "    countries.continent.case()\n",
    "    .when('AF', 'Africa')\n",
    "    .when('EU', 'Europe')\n",
    "    .when('AS', 'Asia')\n",
    "    .end()\n",
    "    .name('top_continent_name')\n",
    ")\n",
    "\n",
    "expr.isnull().value_counts()"
   ]
  },
  {
   "cell_type": "markdown",
   "metadata": {},
   "source": [
    "Functions like `isnull` can be combined with `case` expressions or functions like `ifelse` to replace null values with some other value. `ifelse` here will use the first value supplied for any `True` value and the second value for any `False` value. Either value can be a scalar or array. "
   ]
  },
  {
   "cell_type": "code",
   "execution_count": 13,
   "metadata": {
    "execution": {
     "iopub.execute_input": "2021-06-30T19:48:42.910214Z",
     "iopub.status.busy": "2021-06-30T19:48:42.909770Z",
     "iopub.status.idle": "2021-06-30T19:48:42.919681Z",
     "shell.execute_reply": "2021-06-30T19:48:42.919227Z"
    }
   },
   "outputs": [
    {
     "data": {
      "text/plain": [
       "         continent  count\n",
       "0           Africa     58\n",
       "1             Asia     51\n",
       "2           Europe     54\n",
       "3  Other continent     89"
      ]
     },
     "execution_count": 1,
     "metadata": {},
     "output_type": "execute_result"
    }
   ],
   "source": [
    "expr2 = expr.isnull().ifelse('Other continent', expr).name('continent')\n",
    "expr2.value_counts()"
   ]
  },
  {
   "cell_type": "markdown",
   "metadata": {},
   "source": [
    "## Distinct-based operations\n",
    "\n",
    "\n",
    "Ibis supports using `distinct` to remove duplicate rows or values on tables or arrays. For example:"
   ]
  },
  {
   "cell_type": "code",
   "execution_count": 14,
   "metadata": {
    "execution": {
     "iopub.execute_input": "2021-06-30T19:48:42.925094Z",
     "iopub.status.busy": "2021-06-30T19:48:42.924645Z",
     "iopub.status.idle": "2021-06-30T19:48:42.929542Z",
     "shell.execute_reply": "2021-06-30T19:48:42.929087Z"
    }
   },
   "outputs": [
    {
     "data": {
      "text/plain": [
       "0    EU\n",
       "1    AS\n",
       "2    NA\n",
       "3    AF\n",
       "4    AN\n",
       "5    SA\n",
       "6    OC\n",
       "Name: continent, dtype: object"
      ]
     },
     "execution_count": 1,
     "metadata": {},
     "output_type": "execute_result"
    }
   ],
   "source": [
    "countries['continent'].distinct()"
   ]
  },
  {
   "cell_type": "code",
   "execution_count": 15,
   "metadata": {
    "execution": {
     "iopub.execute_input": "2021-06-30T19:48:42.934344Z",
     "iopub.status.busy": "2021-06-30T19:48:42.933900Z",
     "iopub.status.idle": "2021-06-30T19:48:42.938608Z",
     "shell.execute_reply": "2021-06-30T19:48:42.938247Z"
    }
   },
   "outputs": [
    {
     "data": {
      "text/plain": [
       "0    EU\n",
       "1    AS\n",
       "2    NA\n",
       "3    AF\n",
       "4    AN\n",
       "5    SA\n",
       "6    OC\n",
       "Name: continent, dtype: object"
      ]
     },
     "execution_count": 1,
     "metadata": {},
     "output_type": "execute_result"
    }
   ],
   "source": [
    "countries.continent.distinct()"
   ]
  },
  {
   "cell_type": "markdown",
   "metadata": {},
   "source": [
    "This can be combined with `count` to form a reduction metric:"
   ]
  },
  {
   "cell_type": "code",
   "execution_count": 16,
   "metadata": {
    "execution": {
     "iopub.execute_input": "2021-06-30T19:48:42.943769Z",
     "iopub.status.busy": "2021-06-30T19:48:42.943336Z",
     "iopub.status.idle": "2021-06-30T19:48:42.947564Z",
     "shell.execute_reply": "2021-06-30T19:48:42.947115Z"
    }
   },
   "outputs": [
    {
     "data": {
      "text/plain": [
       "7"
      ]
     },
     "execution_count": 1,
     "metadata": {},
     "output_type": "execute_result"
    }
   ],
   "source": [
    "metric = countries.continent.distinct().count().name('num_continents')\n",
    "metric"
   ]
  },
  {
   "cell_type": "markdown",
   "metadata": {},
   "source": [
    "This is common enough to have a shortcut `nunique`:"
   ]
  },
  {
   "cell_type": "code",
   "execution_count": 17,
   "metadata": {
    "execution": {
     "iopub.execute_input": "2021-06-30T19:48:42.953794Z",
     "iopub.status.busy": "2021-06-30T19:48:42.952199Z",
     "iopub.status.idle": "2021-06-30T19:48:42.956101Z",
     "shell.execute_reply": "2021-06-30T19:48:42.956463Z"
    }
   },
   "outputs": [
    {
     "data": {
      "text/plain": [
       "7"
      ]
     },
     "execution_count": 1,
     "metadata": {},
     "output_type": "execute_result"
    }
   ],
   "source": [
    "countries.continent.nunique()"
   ]
  },
  {
   "cell_type": "markdown",
   "metadata": {},
   "source": [
    "## String operations\n",
    "\n",
    "\n",
    "What's supported is pretty basic right now. We intend to support the full gamut of regular expression munging with a nice API, though in some cases some work will be required on SQLite's backend to support everything. "
   ]
  },
  {
   "cell_type": "code",
   "execution_count": 18,
   "metadata": {
    "execution": {
     "iopub.execute_input": "2021-06-30T19:48:42.963888Z",
     "iopub.status.busy": "2021-06-30T19:48:42.963317Z",
     "iopub.status.idle": "2021-06-30T19:48:42.965963Z",
     "shell.execute_reply": "2021-06-30T19:48:42.965512Z"
    }
   },
   "outputs": [
    {
     "data": {
      "text/plain": [
       "                   name\n",
       "0               Andorra\n",
       "1  United Arab Emirates\n",
       "2           Afghanistan\n",
       "3   Antigua and Barbuda\n",
       "4              Anguilla"
      ]
     },
     "execution_count": 1,
     "metadata": {},
     "output_type": "execute_result"
    }
   ],
   "source": [
    "countries[['name']].limit(5)"
   ]
  },
  {
   "cell_type": "markdown",
   "metadata": {},
   "source": [
    "At the moment, basic substring operations (`substr`, with conveniences `left` and `right`) and Python-like APIs such as `lower` and `upper` (for case normalization) are supported. So you could count first letter occurrences in a string column like so:"
   ]
  },
  {
   "cell_type": "code",
   "execution_count": 19,
   "metadata": {
    "execution": {
     "iopub.execute_input": "2021-06-30T19:48:42.975366Z",
     "iopub.status.busy": "2021-06-30T19:48:42.974910Z",
     "iopub.status.idle": "2021-06-30T19:48:42.980683Z",
     "shell.execute_reply": "2021-06-30T19:48:42.980231Z"
    }
   },
   "outputs": [
    {
     "data": {
      "text/plain": [
       "  first_letter  count\n",
       "0            s     34\n",
       "1            b     22\n",
       "2            m     22\n",
       "3            c     21\n",
       "4            g     16\n",
       "5            n     16\n",
       "6            a     15\n",
       "7            t     14\n",
       "8            p     12\n",
       "9            i     10"
      ]
     },
     "execution_count": 1,
     "metadata": {},
     "output_type": "execute_result"
    }
   ],
   "source": [
    "expr = countries.name.lower().left(1).name('first_letter')\n",
    "expr.value_counts().sort_by(('count', False)).limit(10)"
   ]
  },
  {
   "cell_type": "markdown",
   "metadata": {},
   "source": [
    "For fuzzy and regex filtering/searching, you can use one of the following\n",
    "\n",
    "- `like`, works as the SQL `LIKE` keyword\n",
    "- `rlike`, like `re.search` or SQL `RLIKE`\n",
    "- `contains`, like `x in str_value` in Python"
   ]
  },
  {
   "cell_type": "code",
   "execution_count": 20,
   "metadata": {
    "execution": {
     "iopub.execute_input": "2021-06-30T19:48:42.988846Z",
     "iopub.status.busy": "2021-06-30T19:48:42.988405Z",
     "iopub.status.idle": "2021-06-30T19:48:42.992914Z",
     "shell.execute_reply": "2021-06-30T19:48:42.993266Z"
    }
   },
   "outputs": [
    {
     "data": {
      "text/plain": [
       "0                                   Argentina\n",
       "1                                     Germany\n",
       "2                                     Algeria\n",
       "3                                     Georgia\n",
       "4    South Georgia and South Sandwich Islands\n",
       "5                                       Niger\n",
       "6                                     Nigeria\n",
       "Name: name, dtype: object"
      ]
     },
     "execution_count": 1,
     "metadata": {},
     "output_type": "execute_result"
    }
   ],
   "source": [
    "countries[countries.name.like('%GE%')].name"
   ]
  },
  {
   "cell_type": "code",
   "execution_count": 21,
   "metadata": {
    "execution": {
     "iopub.execute_input": "2021-06-30T19:48:43.001881Z",
     "iopub.status.busy": "2021-06-30T19:48:43.001440Z",
     "iopub.status.idle": "2021-06-30T19:48:43.007390Z",
     "shell.execute_reply": "2021-06-30T19:48:43.006935Z"
    }
   },
   "outputs": [
    {
     "data": {
      "text/plain": [
       "0                                   Argentina\n",
       "1                                     Germany\n",
       "2                                     Algeria\n",
       "3                                     Georgia\n",
       "4    South Georgia and South Sandwich Islands\n",
       "5                                       Niger\n",
       "6                                     Nigeria\n",
       "Name: name, dtype: object"
      ]
     },
     "execution_count": 1,
     "metadata": {},
     "output_type": "execute_result"
    }
   ],
   "source": [
    "countries[countries.name.lower().rlike('.*ge.*')].name"
   ]
  },
  {
   "cell_type": "code",
   "execution_count": 22,
   "metadata": {
    "execution": {
     "iopub.execute_input": "2021-06-30T19:48:43.016336Z",
     "iopub.status.busy": "2021-06-30T19:48:43.015886Z",
     "iopub.status.idle": "2021-06-30T19:48:43.020788Z",
     "shell.execute_reply": "2021-06-30T19:48:43.020338Z"
    }
   },
   "outputs": [
    {
     "data": {
      "text/plain": [
       "0                                   Argentina\n",
       "1                                     Germany\n",
       "2                                     Algeria\n",
       "3                                     Georgia\n",
       "4    South Georgia and South Sandwich Islands\n",
       "5                                       Niger\n",
       "6                                     Nigeria\n",
       "Name: name, dtype: object"
      ]
     },
     "execution_count": 1,
     "metadata": {},
     "output_type": "execute_result"
    }
   ],
   "source": [
    "countries[countries.name.lower().contains('ge')].name"
   ]
  },
  {
   "cell_type": "markdown",
   "metadata": {},
   "source": [
    "## Timestamp operations\n",
    "\n",
    "\n",
    "Date and time functionality is relatively limited at present compared with pandas, but we'll get there. The main things we have right now are\n",
    "\n",
    "- Field access (year, month, day, ...)\n",
    "- Timedeltas\n",
    "- Comparisons with fixed timestamps"
   ]
  },
  {
   "cell_type": "code",
   "execution_count": 23,
   "metadata": {
    "execution": {
     "iopub.execute_input": "2021-06-30T19:48:43.025132Z",
     "iopub.status.busy": "2021-06-30T19:48:43.024682Z",
     "iopub.status.idle": "2021-06-30T19:48:43.035551Z",
     "shell.execute_reply": "2021-06-30T19:48:43.035162Z"
    }
   },
   "outputs": [
    {
     "data": {
      "text/plain": [
       "  independence_date  month\n",
       "0        1919-08-19      8\n",
       "1        1912-11-28     11\n",
       "2        1962-07-05      7\n",
       "3        1975-11-11     11\n",
       "4        1981-11-01     11\n",
       "5        1816-07-09      7\n",
       "6        1918-05-28      5\n",
       "7        1991-09-21      9\n",
       "8        1955-10-26     10\n",
       "9        1918-05-28      5"
      ]
     },
     "execution_count": 1,
     "metadata": {},
     "output_type": "execute_result"
    }
   ],
   "source": [
    "independence = connection.table('independence')\n",
    "\n",
    "independence[\n",
    "    independence.independence_date,\n",
    "    independence.independence_date.month().name('month'),\n",
    "].limit(10)"
   ]
  },
  {
   "cell_type": "markdown",
   "metadata": {},
   "source": [
    "Somewhat more comprehensively"
   ]
  },
  {
   "cell_type": "code",
   "execution_count": 24,
   "metadata": {
    "execution": {
     "iopub.execute_input": "2021-06-30T19:48:43.042907Z",
     "iopub.status.busy": "2021-06-30T19:48:43.042366Z",
     "iopub.status.idle": "2021-06-30T19:48:43.050010Z",
     "shell.execute_reply": "2021-06-30T19:48:43.049644Z"
    }
   },
   "outputs": [
    {
     "data": {
      "text/plain": [
       "  independence_date  year  month  day\n",
       "0        1919-08-19  1919      8   19\n",
       "1        1912-11-28  1912     11   28\n",
       "2        1962-07-05  1962      7    5\n",
       "3        1975-11-11  1975     11   11\n",
       "4        1981-11-01  1981     11    1\n",
       "5        1816-07-09  1816      7    9\n",
       "6        1918-05-28  1918      5   28\n",
       "7        1991-09-21  1991      9   21\n",
       "8        1955-10-26  1955     10   26\n",
       "9        1918-05-28  1918      5   28"
      ]
     },
     "execution_count": 1,
     "metadata": {},
     "output_type": "execute_result"
    }
   ],
   "source": [
    "def get_field(f):\n",
    "    return getattr(independence.independence_date, f)().name(f)\n",
    "\n",
    "\n",
    "fields = [\n",
    "    'year',\n",
    "    'month',\n",
    "    'day',\n",
    "]  # datetime fields can also use: 'hour', 'minute', 'second', 'millisecond'\n",
    "projection = [independence.independence_date] + [get_field(x) for x in fields]\n",
    "independence[projection].limit(10)"
   ]
  },
  {
   "cell_type": "markdown",
   "metadata": {},
   "source": [
    "For timestamp arithmetic and comparisons, check out functions in the top level `ibis` namespace. This include things like `day` and `second`, but also the `ibis.timestamp` function:"
   ]
  },
  {
   "cell_type": "code",
   "execution_count": 25,
   "metadata": {
    "execution": {
     "iopub.execute_input": "2021-06-30T19:48:43.057401Z",
     "iopub.status.busy": "2021-06-30T19:48:43.056945Z",
     "iopub.status.idle": "2021-06-30T19:48:43.064249Z",
     "shell.execute_reply": "2021-06-30T19:48:43.063790Z"
    }
   },
   "outputs": [
    {
     "data": {
      "text/plain": [
       "          min        max  nrows\n",
       "0  1291-08-01 2011-07-09    186"
      ]
     },
     "execution_count": 1,
     "metadata": {},
     "output_type": "execute_result"
    }
   ],
   "source": [
    "independence[\n",
    "    independence.independence_date.min(),\n",
    "    independence.independence_date.max(),\n",
    "    independence.count().name('nrows'),\n",
    "].distinct()"
   ]
  },
  {
   "cell_type": "code",
   "execution_count": 26,
   "metadata": {
    "execution": {
     "iopub.execute_input": "2021-06-30T19:48:43.070283Z",
     "iopub.status.busy": "2021-06-30T19:48:43.069810Z",
     "iopub.status.idle": "2021-06-30T19:48:43.074069Z",
     "shell.execute_reply": "2021-06-30T19:48:43.073670Z"
    }
   },
   "outputs": [
    {
     "data": {
      "text/plain": [
       "3"
      ]
     },
     "execution_count": 1,
     "metadata": {},
     "output_type": "execute_result"
    }
   ],
   "source": [
    "independence[independence.independence_date > '2000-01-01'].count()"
   ]
  },
  {
   "cell_type": "markdown",
   "metadata": {},
   "source": [
    "Some backends support adding offsets, for example `independence.independence_date + ibis.interval(days=1)` or `ibis.now() - independence.independence_date`."
   ]
  }
 ],
 "metadata": {
  "kernelspec": {
   "display_name": "Python 3",
   "language": "python",
   "name": "python3"
  },
  "language_info": {
   "codemirror_mode": {
    "name": "ipython",
    "version": 3
   },
   "file_extension": ".py",
   "mimetype": "text/x-python",
   "name": "python",
   "nbconvert_exporter": "python",
   "pygments_lexer": "ipython3",
   "version": "3.7.10"
  }
 },
 "nbformat": 4,
 "nbformat_minor": 4
}
