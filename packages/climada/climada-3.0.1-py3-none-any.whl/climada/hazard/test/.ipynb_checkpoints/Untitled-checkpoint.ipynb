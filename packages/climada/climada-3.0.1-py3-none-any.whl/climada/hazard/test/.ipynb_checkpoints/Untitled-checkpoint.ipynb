{
 "cells": [
  {
   "cell_type": "code",
   "execution_count": 4,
   "metadata": {},
   "outputs": [
    {
     "name": "stdout",
     "output_type": "stream",
     "text": [
      "2020-09-10 06:44:00,727 - climada.hazard.centroids.centr - INFO - Reading data/centr_brb_test.mat\n",
      "2020-09-10 06:44:00,735 - climada.util.hdf5_handler - ERROR - Invalid file: data/centr_brb_test.mat\n"
     ]
    },
    {
     "ename": "TypeError",
     "evalue": "'NoneType' object is not subscriptable",
     "output_type": "error",
     "traceback": [
      "\u001b[0;31m---------------------------------------------------------------------------\u001b[0m",
      "\u001b[0;31mTypeError\u001b[0m                                 Traceback (most recent call last)",
      "\u001b[0;32m<ipython-input-4-3fa30e03d967>\u001b[0m in \u001b[0;36m<module>\u001b[0;34m\u001b[0m\n\u001b[1;32m     20\u001b[0m \u001b[0mCENTR_DIR\u001b[0m \u001b[0;34m=\u001b[0m \u001b[0;34m'data'\u001b[0m\u001b[0;34m\u001b[0m\u001b[0;34m\u001b[0m\u001b[0m\n\u001b[1;32m     21\u001b[0m \u001b[0mCENTR_TEST_BRB\u001b[0m \u001b[0;34m=\u001b[0m \u001b[0mCentroids\u001b[0m\u001b[0;34m(\u001b[0m\u001b[0;34m)\u001b[0m\u001b[0;34m\u001b[0m\u001b[0;34m\u001b[0m\u001b[0m\n\u001b[0;32m---> 22\u001b[0;31m \u001b[0mCENTR_TEST_BRB\u001b[0m\u001b[0;34m.\u001b[0m\u001b[0mread_mat\u001b[0m\u001b[0;34m(\u001b[0m\u001b[0mos\u001b[0m\u001b[0;34m.\u001b[0m\u001b[0mpath\u001b[0m\u001b[0;34m.\u001b[0m\u001b[0mjoin\u001b[0m\u001b[0;34m(\u001b[0m\u001b[0mCENTR_DIR\u001b[0m\u001b[0;34m,\u001b[0m \u001b[0;34m'centr_brb_test.mat'\u001b[0m\u001b[0;34m)\u001b[0m\u001b[0;34m)\u001b[0m\u001b[0;34m\u001b[0m\u001b[0;34m\u001b[0m\u001b[0m\n\u001b[0m\u001b[1;32m     23\u001b[0m \u001b[0;34m\u001b[0m\u001b[0m\n\u001b[1;32m     24\u001b[0m \u001b[0;34m\u001b[0m\u001b[0m\n",
      "\u001b[0;32m/mnt/host/climada/hazard/centroids/centr.py\u001b[0m in \u001b[0;36mread_mat\u001b[0;34m(self, file_name, var_names)\u001b[0m\n\u001b[1;32m    352\u001b[0m         \u001b[0;32mfor\u001b[0m \u001b[0mfield\u001b[0m \u001b[0;32min\u001b[0m \u001b[0mvar_names\u001b[0m\u001b[0;34m[\u001b[0m\u001b[0;34m'field_names'\u001b[0m\u001b[0;34m]\u001b[0m\u001b[0;34m:\u001b[0m\u001b[0;34m\u001b[0m\u001b[0;34m\u001b[0m\u001b[0m\n\u001b[1;32m    353\u001b[0m             \u001b[0;32mtry\u001b[0m\u001b[0;34m:\u001b[0m\u001b[0;34m\u001b[0m\u001b[0;34m\u001b[0m\u001b[0m\n\u001b[0;32m--> 354\u001b[0;31m                 \u001b[0mcent\u001b[0m \u001b[0;34m=\u001b[0m \u001b[0mcent\u001b[0m\u001b[0;34m[\u001b[0m\u001b[0mfield\u001b[0m\u001b[0;34m]\u001b[0m\u001b[0;34m\u001b[0m\u001b[0;34m\u001b[0m\u001b[0m\n\u001b[0m\u001b[1;32m    355\u001b[0m                 \u001b[0;32mbreak\u001b[0m\u001b[0;34m\u001b[0m\u001b[0;34m\u001b[0m\u001b[0m\n\u001b[1;32m    356\u001b[0m             \u001b[0;32mexcept\u001b[0m \u001b[0mKeyError\u001b[0m\u001b[0;34m:\u001b[0m\u001b[0;34m\u001b[0m\u001b[0;34m\u001b[0m\u001b[0m\n",
      "\u001b[0;31mTypeError\u001b[0m: 'NoneType' object is not subscriptable"
     ]
    }
   ],
   "source": [
    "import sys\n",
    "sys.path.append('../../..')\n",
    "import os\n",
    "import unittest\n",
    "import numpy as np\n",
    "from scipy import sparse\n",
    "import datetime as dt\n",
    "\n",
    "from climada.util import ureg\n",
    "import climada.hazard.trop_cyclone as tc\n",
    "from climada.hazard.tc_tracks import TCTracks\n",
    "from climada.hazard.trop_cyclone import TropCyclone\n",
    "from climada.hazard.centroids.centr import Centroids\n",
    "\n",
    "DATA_DIR = 'data'\n",
    "HAZ_TEST_MAT = '\n",
    "TEST_TRACK = os.path.join(DATA_DIR, \"trac_brb_test.csv\")\n",
    "TEST_TRACK_SHORT = os.path.join(DATA_DIR, \"trac_short_test.csv\")\n",
    "\n",
    "CENTR_DIR = 'data'\n",
    "CENTR_TEST_BRB = Centroids()\n",
    "CENTR_TEST_BRB.read_mat(os.path.join(CENTR_DIR, 'centr_brb_test.mat'))\n",
    "\n",
    "\n",
    "tc_track = TCTracks()\n",
    "tc_track.read_processed_ibtracs_csv(TEST_TRACK)\n",
    "tc_track.equal_timestep()\n",
    "tc_track.data = tc_track.data[:1]\n",
    "tc_haz = TropCyclone()\n",
    "tc_haz.set_from_tracks(tc_track, centroids=CENTR_TEST_BRB, model='H08',\n",
    "                       store_windfields=True)\n",
    "\n",
    "tc_haz.plot_intensity(event=0)\n"
   ]
  }
 ],
 "metadata": {
  "kernelspec": {
   "display_name": "Python 3",
   "language": "python",
   "name": "python3"
  },
  "language_info": {
   "codemirror_mode": {
    "name": "ipython",
    "version": 3
   },
   "file_extension": ".py",
   "mimetype": "text/x-python",
   "name": "python",
   "nbconvert_exporter": "python",
   "pygments_lexer": "ipython3",
   "version": "3.7.3"
  }
 },
 "nbformat": 4,
 "nbformat_minor": 4
}
