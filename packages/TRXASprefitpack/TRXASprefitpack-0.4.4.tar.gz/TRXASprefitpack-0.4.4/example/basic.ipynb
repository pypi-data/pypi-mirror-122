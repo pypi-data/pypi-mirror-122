{
 "cells": [
  {
   "cell_type": "markdown",
   "id": "300030bc",
   "metadata": {},
   "source": [
    "# Basic"
   ]
  },
  {
   "cell_type": "markdown",
   "id": "c7e5e0d2",
   "metadata": {},
   "source": [
    "## import module"
   ]
  },
  {
   "cell_type": "code",
   "execution_count": 1,
   "id": "8cd877bd",
   "metadata": {},
   "outputs": [],
   "source": [
    "import TRXASprefitpack"
   ]
  },
  {
   "cell_type": "markdown",
   "id": "77780037",
   "metadata": {},
   "source": [
    "## Get general infomation of module"
   ]
  },
  {
   "cell_type": "code",
   "execution_count": 2,
   "id": "44132490",
   "metadata": {},
   "outputs": [
    {
     "name": "stdout",
     "output_type": "stream",
     "text": [
      "Help on package TRXASprefitpack:\n",
      "\n",
      "NAME\n",
      "    TRXASprefitpack\n",
      "\n",
      "DESCRIPTION\n",
      "    TRXASprefitpack: \n",
      "    package for TRXAS pre fitting process which aims for the first order dynamics\n",
      "    TRXAS stands for Time Resolved X-ray Absorption Spectroscopy\n",
      "    \n",
      "    :copyright: 2021 by pistack (Junho Lee)\n",
      "    :license: LGPL3.\n",
      "\n",
      "PACKAGE CONTENTS\n",
      "    data_process (package)\n",
      "    doc (package)\n",
      "    mathfun (package)\n",
      "    thy (package)\n",
      "    tools (package)\n",
      "\n",
      "DATA\n",
      "    __info__ = {'TRXASprefitpack_info': '\\nTRXASprefitpack_info\\n*********...\n",
      "\n",
      "VERSION\n",
      "    0.4.4\n",
      "\n",
      "FILE\n",
      "    /home/lis1331/anaconda3/lib/python3.8/site-packages/TRXASprefitpack/__init__.py\n",
      "\n",
      "\n"
     ]
    }
   ],
   "source": [
    "help(TRXASprefitpack)"
   ]
  },
  {
   "cell_type": "markdown",
   "id": "51ce3e44",
   "metadata": {},
   "source": [
    "## get version information"
   ]
  },
  {
   "cell_type": "code",
   "execution_count": 3,
   "id": "b25af749",
   "metadata": {},
   "outputs": [
    {
     "data": {
      "text/plain": [
       "'0.4.4'"
      ]
     },
     "execution_count": 3,
     "metadata": {},
     "output_type": "execute_result"
    }
   ],
   "source": [
    "TRXASprefitpack.__version__"
   ]
  },
  {
   "cell_type": "markdown",
   "id": "47470038",
   "metadata": {},
   "source": [
    "## get general information of subpackage\n",
    "\n",
    "Note. doc subpackage is deprecated, will be removed in version 0.5"
   ]
  },
  {
   "cell_type": "code",
   "execution_count": 5,
   "id": "c1b7dc90",
   "metadata": {},
   "outputs": [
    {
     "name": "stdout",
     "output_type": "stream",
     "text": [
      "Help on package TRXASprefitpack.doc in TRXASprefitpack:\n",
      "\n",
      "NAME\n",
      "    TRXASprefitpack.doc\n",
      "\n",
      "DESCRIPTION\n",
      "    doc:\n",
      "    Subpackage for the TRXASprefitpack documentation\n",
      "    \n",
      "    [deprecated]\n",
      "    This subpackage will be removed in version 0.5\n",
      "    \n",
      "    :copyright: 2021 by pistack (Junho Lee).\n",
      "    :license: LGPL3.\n",
      "\n",
      "PACKAGE CONTENTS\n",
      "    info\n",
      "\n",
      "DATA\n",
      "    __all__ = ['__info__']\n",
      "    __info__ = {'TRXASprefitpack_info': '\\nTRXASprefitpack_info\\n*********...\n",
      "\n",
      "FILE\n",
      "    /home/lis1331/anaconda3/lib/python3.8/site-packages/TRXASprefitpack/doc/__init__.py\n",
      "\n",
      "\n"
     ]
    }
   ],
   "source": [
    "help(TRXASprefitpack.doc)"
   ]
  },
  {
   "cell_type": "markdown",
   "id": "afebbb8d",
   "metadata": {},
   "source": [
    "## Get general information of function defined in TRXASprefitpack"
   ]
  },
  {
   "cell_type": "code",
   "execution_count": 6,
   "id": "d5ee5f2f",
   "metadata": {},
   "outputs": [
    {
     "name": "stdout",
     "output_type": "stream",
     "text": [
      "Help on function exp_conv_gau in module TRXASprefitpack.mathfun.exp_conv_irf:\n",
      "\n",
      "exp_conv_gau(t, fwhm, k)\n",
      "    Compute exponential function convolved with normalized gaussian \n",
      "    distribution\n",
      "    \n",
      "    Note.\n",
      "    We assume temporal pulse of x-ray is normalized gaussian distribution\n",
      "    \n",
      "    .. math::\n",
      "    \n",
      "       \\sigma = \\frac{fwhm}{2\\sqrt{2\\log{2}}}\n",
      "    \n",
      "    \n",
      "    .. math::\n",
      "    \n",
      "       IRF(t) = \\frac{1}{\\sigma \\sqrt{2\\pi}}\\exp\\left(-\\frac{t^2}{2\\sigma^2}\\right)\n",
      "    \n",
      "    :param t: time\n",
      "    :type t: numpy_1d_array\n",
      "    :param fwhm: full width at half maximum of x-ray temporal pulse\n",
      "    :type fwhm: float\n",
      "    :param k: rate constant (inverse of life time)\n",
      "    :type k: float\n",
      "    \n",
      "    \n",
      "    :return: convolution of normalized gaussian distribution and exp(-kt)\n",
      "    \n",
      "    .. math::\n",
      "    \n",
      "       \\frac{1}{2}\\exp\\left(\\frac{k^2}{2\\sigma^2}-kt\\right){erfc}\\left(\\frac{1}{\\sqrt{2}}\\left(k\\sigma-\\frac{t}{\\sigma}\\right)\\right)\n",
      "    \n",
      "    \n",
      "    :rtype: numpy_1d_array\n",
      "\n"
     ]
    }
   ],
   "source": [
    "help(TRXASprefitpack.exp_conv_gau)"
   ]
  },
  {
   "cell_type": "code",
   "execution_count": null,
   "id": "8a181e64",
   "metadata": {},
   "outputs": [],
   "source": []
  }
 ],
 "metadata": {
  "kernelspec": {
   "display_name": "Python 3 (ipykernel)",
   "language": "python",
   "name": "python3"
  },
  "language_info": {
   "codemirror_mode": {
    "name": "ipython",
    "version": 3
   },
   "file_extension": ".py",
   "mimetype": "text/x-python",
   "name": "python",
   "nbconvert_exporter": "python",
   "pygments_lexer": "ipython3",
   "version": "3.8.11"
  }
 },
 "nbformat": 4,
 "nbformat_minor": 5
}
